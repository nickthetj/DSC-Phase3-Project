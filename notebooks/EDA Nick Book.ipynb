{
 "cells": [
  {
   "cell_type": "code",
   "execution_count": 2,
   "id": "c9e2891a-2d32-498d-bc1b-0b7d213474a0",
   "metadata": {},
   "outputs": [],
   "source": [
    "import pandas as pd\n",
    "import sqlite3"
   ]
  },
  {
   "cell_type": "code",
   "execution_count": 3,
   "id": "e8ad8756-9042-49fa-a8d9-288301c6ba1d",
   "metadata": {},
   "outputs": [
    {
     "name": "stdout",
     "output_type": "stream",
     "text": [
      "Traffic_Crashes_Crashes.csv  Traffic_Crashes_Vehicles.csv\n",
      "Traffic_Crashes_People.csv\n"
     ]
    }
   ],
   "source": [
    "# determining path of data\n",
    "! ls ../data/localdata"
   ]
  },
  {
   "cell_type": "code",
   "execution_count": 4,
   "id": "5d5989ca-54c4-46a6-9ee4-74bd985b2ea0",
   "metadata": {
    "scrolled": true
   },
   "outputs": [
    {
     "name": "stderr",
     "output_type": "stream",
     "text": [
      "/var/folders/9n/kzdbb24d6718p004k3bbjtr40000gn/T/ipykernel_4598/2854129418.py:2: DtypeWarning: Columns (19,21,40,41,42,44,48,49,50,53,55,58,59,61,71) have mixed types. Specify dtype option on import or set low_memory=False.\n",
      "  vehicles_df = pd.read_csv('../data/localdata/Traffic_Crashes_Vehicles.csv')\n",
      "/var/folders/9n/kzdbb24d6718p004k3bbjtr40000gn/T/ipykernel_4598/2854129418.py:3: DtypeWarning: Columns (20,24,25,26,29) have mixed types. Specify dtype option on import or set low_memory=False.\n",
      "  people_df = pd.read_csv('../data/localdata/Traffic_Crashes_People.csv')\n"
     ]
    }
   ],
   "source": [
    "# reading CSVs\n",
    "vehicles_df = pd.read_csv('../data/localdata/Traffic_Crashes_Vehicles.csv')\n",
    "people_df = pd.read_csv('../data/localdata/Traffic_Crashes_People.csv')\n",
    "crashes_df = pd.read_csv('../data/localdata/Traffic_Crashes_Crashes.csv')"
   ]
  },
  {
   "cell_type": "code",
   "execution_count": 5,
   "id": "53dde279-3522-4d3c-9bfd-6e20c676e7c7",
   "metadata": {},
   "outputs": [],
   "source": [
    "# cleaning crashes dataframe\n",
    "crashes_df.drop(columns=['WORK_ZONE_I', 'WORK_ZONE_TYPE', 'DOORING_I', 'WORKERS_PRESENT_I',\n",
    "                                          'PHOTOS_TAKEN_I', 'STATEMENTS_TAKEN_I', 'RD_NO'], axis=1, inplace=True)\n",
    "crashes_df.dropna(subset = ['INJURIES_TOTAL', 'LATITUDE', 'MOST_SEVERE_INJURY', 'STREET_DIRECTION', 'BEAT_OF_OCCURRENCE'] , axis=0, inplace=True)"
   ]
  },
  {
   "cell_type": "markdown",
   "id": "c7e4f72b-6e58-4019-a72f-fedcc4d01175",
   "metadata": {},
   "source": [
    "## Vehicles EDA"
   ]
  },
  {
   "cell_type": "code",
   "execution_count": 6,
   "id": "ef0d1ac1-8063-4bfe-bb7f-733f0a7892be",
   "metadata": {
    "scrolled": true
   },
   "outputs": [
    {
     "name": "stdout",
     "output_type": "stream",
     "text": [
      "<class 'pandas.core.frame.DataFrame'>\n",
      "RangeIndex: 1535466 entries, 0 to 1535465\n",
      "Data columns (total 72 columns):\n",
      " #   Column                    Non-Null Count    Dtype  \n",
      "---  ------                    --------------    -----  \n",
      " 0   Crash Unit Id             1535466 non-null  int64  \n",
      " 1   Crash Record Id           1535466 non-null  object \n",
      " 2   Rd No                     1526970 non-null  object \n",
      " 3   Crash Date                1535466 non-null  object \n",
      " 4   Unit No                   1535466 non-null  int64  \n",
      " 5   Unit Type                 1533417 non-null  object \n",
      " 6   Num Passengers            227440 non-null   float64\n",
      " 7   Vehicle Id                1500626 non-null  float64\n",
      " 8   Cmrc Veh I                28642 non-null    object \n",
      " 9   Make                      1500621 non-null  object \n",
      " 10  Model                     1500477 non-null  object \n",
      " 11  Lic Plate State           1363643 non-null  object \n",
      " 12  Vehicle Year              1257878 non-null  float64\n",
      " 13  Vehicle Defect            1500626 non-null  object \n",
      " 14  Vehicle Type              1500626 non-null  object \n",
      " 15  Vehicle Use               1500626 non-null  object \n",
      " 16  Travel Direction          1500626 non-null  object \n",
      " 17  Maneuver                  1500626 non-null  object \n",
      " 18  Towed I                   189314 non-null   object \n",
      " 19  Fire I                    1247 non-null     object \n",
      " 20  Occupant Cnt              1500626 non-null  float64\n",
      " 21  Exceed Speed Limit I      2397 non-null     object \n",
      " 22  Towed By                  141768 non-null   object \n",
      " 23  Towed To                  87198 non-null    object \n",
      " 24  Area 00 I                 53479 non-null    object \n",
      " 25  Area 01 I                 408084 non-null   object \n",
      " 26  Area 02 I                 245063 non-null   object \n",
      " 27  Area 03 I                 146447 non-null   object \n",
      " 28  Area 04 I                 147002 non-null   object \n",
      " 29  Area 05 I                 228144 non-null   object \n",
      " 30  Area 06 I                 239155 non-null   object \n",
      " 31  Area 07 I                 219000 non-null   object \n",
      " 32  Area 08 I                 223461 non-null   object \n",
      " 33  Area 09 I                 98034 non-null    object \n",
      " 34  Area 10 I                 142074 non-null   object \n",
      " 35  Area 11 I                 276500 non-null   object \n",
      " 36  Area 12 I                 271360 non-null   object \n",
      " 37  Area 99 I                 171777 non-null   object \n",
      " 38  First Contact Point       1497531 non-null  object \n",
      " 39  Cmv Id                    15862 non-null    float64\n",
      " 40  Usdot No                  8975 non-null     object \n",
      " 41  Ccmc No                   1933 non-null     object \n",
      " 42  Ilcc No                   1341 non-null     object \n",
      " 43  Commercial Src            10628 non-null    object \n",
      " 44  Gvwr                      8903 non-null     object \n",
      " 45  Carrier Name              15161 non-null    object \n",
      " 46  Carrier State             14241 non-null    object \n",
      " 47  Carrier City              13979 non-null    object \n",
      " 48  Hazmat Placards I         312 non-null      object \n",
      " 49  Hazmat Name               57 non-null       object \n",
      " 50  Un No                     539 non-null      object \n",
      " 51  Hazmat Present I          11575 non-null    object \n",
      " 52  Hazmat Report I           11244 non-null    object \n",
      " 53  Hazmat Report No          1 non-null        object \n",
      " 54  Mcs Report I              11291 non-null    object \n",
      " 55  Mcs Report No             7 non-null        object \n",
      " 56  Hazmat Vio Cause Crash I  11407 non-null    object \n",
      " 57  Mcs Vio Cause Crash I     11202 non-null    object \n",
      " 58  Idot Permit No            871 non-null      object \n",
      " 59  Wide Load I               134 non-null      object \n",
      " 60  Trailer1 Width            2790 non-null     object \n",
      " 61  Trailer2 Width            329 non-null      object \n",
      " 62  Trailer1 Length           2265 non-null     float64\n",
      " 63  Trailer2 Length           66 non-null       float64\n",
      " 64  Total Vehicle Length      2749 non-null     float64\n",
      " 65  Axle Cnt                  4092 non-null     float64\n",
      " 66  Vehicle Config            13143 non-null    object \n",
      " 67  Cargo Body Type           12550 non-null    object \n",
      " 68  Load Type                 12005 non-null    object \n",
      " 69  Hazmat Out Of Service I   10913 non-null    object \n",
      " 70  Mcs Out Of Service I      11161 non-null    object \n",
      " 71  Hazmat Class              1049 non-null     object \n",
      "dtypes: float64(9), int64(2), object(61)\n",
      "memory usage: 843.5+ MB\n"
     ]
    }
   ],
   "source": [
    "vehicles_df.columns = vehicles_df.columns.str.title()\n",
    "vehicles_df.columns = vehicles_df.columns.str.replace('_', ' ')\n",
    "vehicles_df.info()"
   ]
  },
  {
   "cell_type": "code",
   "execution_count": null,
   "id": "f220c825-5904-41e0-9dea-a62b172ee6f5",
   "metadata": {},
   "outputs": [],
   "source": [
    "vehicles_df"
   ]
  },
  {
   "cell_type": "code",
   "execution_count": 7,
   "id": "1df842b9-39f8-4f6e-8549-5f21c5f59708",
   "metadata": {
    "scrolled": true
   },
   "outputs": [
    {
     "data": {
      "text/plain": [
       "Unit No\n",
       "1          756793\n",
       "2          712492\n",
       "3           51303\n",
       "4           10535\n",
       "5            2794\n",
       "6             881\n",
       "7             331\n",
       "8             146\n",
       "9              68\n",
       "10             35\n",
       "0              28\n",
       "11             19\n",
       "12             12\n",
       "13              7\n",
       "14              6\n",
       "15              5\n",
       "16              4\n",
       "17              3\n",
       "18              3\n",
       "3778035         1\n",
       "Name: count, dtype: int64"
      ]
     },
     "execution_count": 7,
     "metadata": {},
     "output_type": "execute_result"
    }
   ],
   "source": [
    "vehicles_df['Unit No'].value_counts()"
   ]
  },
  {
   "cell_type": "markdown",
   "id": "9d53f3f3-18e7-479f-b141-25031f83abb5",
   "metadata": {},
   "source": [
    "## People EDA"
   ]
  },
  {
   "cell_type": "code",
   "execution_count": 8,
   "id": "2376054f-5561-4556-80d3-a54d267c30cf",
   "metadata": {
    "scrolled": true
   },
   "outputs": [
    {
     "name": "stdout",
     "output_type": "stream",
     "text": [
      "<class 'pandas.core.frame.DataFrame'>\n",
      "RangeIndex: 1652394 entries, 0 to 1652393\n",
      "Data columns (total 30 columns):\n",
      " #   Column                 Non-Null Count    Dtype  \n",
      "---  ------                 --------------    -----  \n",
      " 0   Person Id              1652394 non-null  object \n",
      " 1   Person Type            1652394 non-null  object \n",
      " 2   Crash Record Id        1652394 non-null  object \n",
      " 3   Rd No                  1643132 non-null  object \n",
      " 4   Vehicle Id             1619747 non-null  float64\n",
      " 5   Crash Date             1652394 non-null  object \n",
      " 6   Seat No                334702 non-null   float64\n",
      " 7   City                   1204258 non-null  object \n",
      " 8   State                  1221419 non-null  object \n",
      " 9   Zipcode                1102826 non-null  object \n",
      " 10  Sex                    1625709 non-null  object \n",
      " 11  Age                    1170451 non-null  float64\n",
      " 12  Drivers License State  969446 non-null   object \n",
      " 13  Drivers License Class  815144 non-null   object \n",
      " 14  Safety Equipment       1647776 non-null  object \n",
      " 15  Airbag Deployed        1621005 non-null  object \n",
      " 16  Ejection               1632209 non-null  object \n",
      " 17  Injury Classification  1651703 non-null  object \n",
      " 18  Hospital               279492 non-null   object \n",
      " 19  Ems Agency             173381 non-null   object \n",
      " 20  Ems Run No             28653 non-null    object \n",
      " 21  Driver Action          1314732 non-null  object \n",
      " 22  Driver Vision          1314245 non-null  object \n",
      " 23  Physical Condition     1315635 non-null  object \n",
      " 24  Pedpedal Action        31011 non-null    object \n",
      " 25  Pedpedal Visibility    30952 non-null    object \n",
      " 26  Pedpedal Location      31009 non-null    object \n",
      " 27  Bac Result             1315724 non-null  object \n",
      " 28  Bac Result Value       1907 non-null     float64\n",
      " 29  Cell Phone Use         1158 non-null     object \n",
      "dtypes: float64(4), object(26)\n",
      "memory usage: 378.2+ MB\n"
     ]
    }
   ],
   "source": [
    "people_df.columns = people_df.columns.str.title()\n",
    "people_df.columns = people_df.columns.str.replace('_', ' ')\n",
    "people_df.info()"
   ]
  },
  {
   "cell_type": "markdown",
   "id": "a9f11fd3-36ec-40b4-b886-e8fc6ce3243b",
   "metadata": {},
   "source": [
    "## Crashes EDA"
   ]
  },
  {
   "cell_type": "code",
   "execution_count": 9,
   "id": "3856f4cf-d87d-4aba-9c93-e287e5a1c1e9",
   "metadata": {
    "scrolled": true
   },
   "outputs": [
    {
     "name": "stdout",
     "output_type": "stream",
     "text": [
      "<class 'pandas.core.frame.DataFrame'>\n",
      "Index: 746042 entries, 0 to 752648\n",
      "Data columns (total 42 columns):\n",
      " #   Column                         Non-Null Count   Dtype  \n",
      "---  ------                         --------------   -----  \n",
      " 0   Crash Record Id                746042 non-null  object \n",
      " 1   Crash Date Est I               56102 non-null   object \n",
      " 2   Crash Date                     746042 non-null  object \n",
      " 3   Posted Speed Limit             746042 non-null  int64  \n",
      " 4   Traffic Control Device         746042 non-null  object \n",
      " 5   Device Condition               746042 non-null  object \n",
      " 6   Weather Condition              746042 non-null  object \n",
      " 7   Lighting Condition             746042 non-null  object \n",
      " 8   First Crash Type               746042 non-null  object \n",
      " 9   Trafficway Type                746042 non-null  object \n",
      " 10  Lane Cnt                       197743 non-null  float64\n",
      " 11  Alignment                      746042 non-null  object \n",
      " 12  Roadway Surface Cond           746042 non-null  object \n",
      " 13  Road Defect                    746042 non-null  object \n",
      " 14  Report Type                    724685 non-null  object \n",
      " 15  Crash Type                     746042 non-null  object \n",
      " 16  Intersection Related I         171484 non-null  object \n",
      " 17  Not Right Of Way I             34596 non-null   object \n",
      " 18  Hit And Run I                  233134 non-null  object \n",
      " 19  Damage                         746042 non-null  object \n",
      " 20  Date Police Notified           746042 non-null  object \n",
      " 21  Prim Contributory Cause        746042 non-null  object \n",
      " 22  Sec Contributory Cause         746042 non-null  object \n",
      " 23  Street No                      746042 non-null  int64  \n",
      " 24  Street Direction               746042 non-null  object \n",
      " 25  Street Name                    746042 non-null  object \n",
      " 26  Beat Of Occurrence             746042 non-null  float64\n",
      " 27  Num Units                      746042 non-null  int64  \n",
      " 28  Most Severe Injury             746042 non-null  object \n",
      " 29  Injuries Total                 746042 non-null  float64\n",
      " 30  Injuries Fatal                 746042 non-null  float64\n",
      " 31  Injuries Incapacitating        746042 non-null  float64\n",
      " 32  Injuries Non Incapacitating    746042 non-null  float64\n",
      " 33  Injuries Reported Not Evident  746042 non-null  float64\n",
      " 34  Injuries No Indication         746042 non-null  float64\n",
      " 35  Injuries Unknown               746042 non-null  float64\n",
      " 36  Crash Hour                     746042 non-null  int64  \n",
      " 37  Crash Day Of Week              746042 non-null  int64  \n",
      " 38  Crash Month                    746042 non-null  int64  \n",
      " 39  Latitude                       746042 non-null  float64\n",
      " 40  Longitude                      746042 non-null  float64\n",
      " 41  Location                       746042 non-null  object \n",
      "dtypes: float64(11), int64(6), object(25)\n",
      "memory usage: 244.7+ MB\n"
     ]
    }
   ],
   "source": [
    "crashes_df.columns = crashes_df.columns.str.title()\n",
    "crashes_df.columns = crashes_df.columns.str.replace('_', ' ')\n",
    "crashes_df.info()"
   ]
  },
  {
   "cell_type": "code",
   "execution_count": 12,
   "id": "5d123111-3d19-40d6-ac0e-a5ca9c214781",
   "metadata": {},
   "outputs": [
    {
     "data": {
      "text/plain": [
       "0         POINT (-87.706709567706 41.895744504664)\n",
       "1          POINT (-87.58866623998 41.660283893596)\n",
       "2         POINT (-87.669639640899 41.691791918312)\n",
       "3         POINT (-87.744821724517 41.910378596619)\n",
       "4          POINT (-87.640441368666 41.75080513114)\n",
       "                            ...                   \n",
       "752644    POINT (-87.746247311774 41.938944239433)\n",
       "752645    POINT (-87.698470968672 41.791413476844)\n",
       "752646    POINT (-87.627089364442 41.880664578396)\n",
       "752647    POINT (-87.620404747226 41.679331366513)\n",
       "752648    POINT (-87.757904195247 41.964789856207)\n",
       "Name: Location, Length: 746042, dtype: object"
      ]
     },
     "execution_count": 12,
     "metadata": {},
     "output_type": "execute_result"
    }
   ],
   "source": [
    "crashes_df['Location']"
   ]
  },
  {
   "cell_type": "code",
   "execution_count": 14,
   "id": "d24ab8c2-d832-439c-8445-886e0ba1efe1",
   "metadata": {},
   "outputs": [
    {
     "data": {
      "text/plain": [
       "(746042, 46)"
      ]
     },
     "execution_count": 14,
     "metadata": {},
     "output_type": "execute_result"
    }
   ],
   "source": [
    "crashes_df.shape"
   ]
  },
  {
   "cell_type": "markdown",
   "id": "0deee123-fe26-4ff3-9eb2-ddbf97ab803b",
   "metadata": {},
   "source": [
    "## Feature Engineering Accident Severity"
   ]
  },
  {
   "cell_type": "code",
   "execution_count": 11,
   "id": "0eb4c7b5-6fe1-4494-a619-55e7d5944865",
   "metadata": {},
   "outputs": [],
   "source": [
    "# Injury Score\n",
    "\n",
    "crashes_df[['Injuries Total', 'Injuries Fatal', 'Injuries Incapacitating', \n",
    "            'Injuries Non Incapacitating', 'Injuries Reported Not Evident']][crashes_df['Injuries Total']!=0][:50]\n",
    "\n",
    "crashes_df['total injured'] = crashes_df['Injuries Fatal'] + crashes_df['Injuries Incapacitating'] + crashes_df['Injuries Non Incapacitating'] + crashes_df['Injuries Reported Not Evident']\n",
    "\n",
    "# Checking if added up columns in 'total injured' make up 'Injuries Total'\n",
    "(crashes_df['total injured'] == crashes_df['Injuries Total']).value_counts()\n",
    "\n",
    "# Injury Score column is a linear combination of the factors that make up Injuries Total simply multiplied by a constant depending on their severity\n",
    "crashes_df['Injury Score'] = crashes_df['Injuries Fatal']*7 + crashes_df['Injuries Incapacitating']*3 + crashes_df['Injuries Non Incapacitating']*2 + crashes_df['Injuries Reported Not Evident']\n",
    "\n",
    "# Accounting Material Damage of Car and Surrounding Areas (Crash Score)\n",
    "\n",
    "crashes_df['Damage'].value_counts()\n",
    "mapping = {'OVER $1,500': 3, '$501 - $1,500': 2, \"$500 OR LESS\": 1}\n",
    "crashes_df['Damage_ODE'] = crashes_df['Damage'].map(mapping)\n",
    "crashes_df['Injury Score'] = crashes_df['Injury Score'] + crashes_df['Damage_ODE']*3\n",
    "crashes_df['Crash Score'] = crashes_df['Injury Score']"
   ]
  },
  {
   "cell_type": "code",
   "execution_count": 19,
   "id": "0c9c9163-dc3c-450b-8ec1-428713360bdd",
   "metadata": {
    "scrolled": true
   },
   "outputs": [
    {
     "data": {
      "text/plain": [
       "Crash Score\n",
       "9.0     385409\n",
       "6.0     191150\n",
       "3.0      71075\n",
       "11.0     33095\n",
       "10.0     16973\n",
       "5.0       8949\n",
       "12.0      8879\n",
       "13.0      7902\n",
       "8.0       6360\n",
       "7.0       4382\n",
       "4.0       3800\n",
       "15.0      3063\n",
       "14.0      1655\n",
       "17.0       958\n",
       "16.0       908\n",
       "18.0       424\n",
       "19.0       379\n",
       "21.0       189\n",
       "20.0       141\n",
       "23.0        91\n",
       "22.0        67\n",
       "24.0        46\n",
       "25.0        40\n",
       "26.0        22\n",
       "27.0        16\n",
       "29.0        14\n",
       "28.0        12\n",
       "33.0         7\n",
       "31.0         7\n",
       "30.0         6\n",
       "34.0         3\n",
       "36.0         3\n",
       "39.0         3\n",
       "38.0         2\n",
       "43.0         2\n",
       "51.0         2\n",
       "32.0         2\n",
       "58.0         1\n",
       "53.0         1\n",
       "48.0         1\n",
       "49.0         1\n",
       "35.0         1\n",
       "41.0         1\n",
       "Name: count, dtype: int64"
      ]
     },
     "execution_count": 19,
     "metadata": {},
     "output_type": "execute_result"
    }
   ],
   "source": [
    "crashes_df['Crash Score'].value_counts()"
   ]
  },
  {
   "cell_type": "code",
   "execution_count": 12,
   "id": "7c10a871-b86b-4a1a-9a38-d9047f298198",
   "metadata": {},
   "outputs": [],
   "source": [
    "# people_df['Seat No'].value_counts()"
   ]
  },
  {
   "cell_type": "code",
   "execution_count": 13,
   "id": "dd1abf0d-3119-470c-b5f5-bdeb7d96a965",
   "metadata": {},
   "outputs": [],
   "source": [
    "# people_df['Seat No'].info()"
   ]
  },
  {
   "cell_type": "code",
   "execution_count": 14,
   "id": "5c612d17-705f-4460-b2f5-649d950c04ed",
   "metadata": {},
   "outputs": [],
   "source": [
    "# people_df['Injury Classification'].value_counts()"
   ]
  },
  {
   "cell_type": "code",
   "execution_count": 15,
   "id": "aff42621-9a21-4a4b-8174-3bff5d54384a",
   "metadata": {},
   "outputs": [],
   "source": [
    "# people_df['Physical Condition'].value_counts()"
   ]
  }
 ],
 "metadata": {
  "kernelspec": {
   "display_name": "Python 3 (ipykernel)",
   "language": "python",
   "name": "python3"
  },
  "language_info": {
   "codemirror_mode": {
    "name": "ipython",
    "version": 3
   },
   "file_extension": ".py",
   "mimetype": "text/x-python",
   "name": "python",
   "nbconvert_exporter": "python",
   "pygments_lexer": "ipython3",
   "version": "3.9.16"
  }
 },
 "nbformat": 4,
 "nbformat_minor": 5
}
