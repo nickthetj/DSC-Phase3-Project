{
 "cells": [
  {
   "cell_type": "code",
   "execution_count": 2,
   "id": "c9e2891a-2d32-498d-bc1b-0b7d213474a0",
   "metadata": {},
   "outputs": [],
   "source": [
    "import pandas as pd\n",
    "import sqlite3"
   ]
  },
  {
   "cell_type": "code",
   "execution_count": 3,
   "id": "e8ad8756-9042-49fa-a8d9-288301c6ba1d",
   "metadata": {},
   "outputs": [
    {
     "name": "stdout",
     "output_type": "stream",
     "text": [
      "Traffic_Crashes_Crashes.csv  Traffic_Crashes_Vehicles.csv\n",
      "Traffic_Crashes_People.csv\n"
     ]
    }
   ],
   "source": [
    "# determining path of data\n",
    "! ls ../data/localdata"
   ]
  },
  {
   "cell_type": "code",
   "execution_count": 4,
   "id": "5d5989ca-54c4-46a6-9ee4-74bd985b2ea0",
   "metadata": {
    "scrolled": true
   },
   "outputs": [
    {
     "name": "stderr",
     "output_type": "stream",
     "text": [
      "/var/folders/9n/kzdbb24d6718p004k3bbjtr40000gn/T/ipykernel_4598/2854129418.py:2: DtypeWarning: Columns (19,21,40,41,42,44,48,49,50,53,55,58,59,61,71) have mixed types. Specify dtype option on import or set low_memory=False.\n",
      "  vehicles_df = pd.read_csv('../data/localdata/Traffic_Crashes_Vehicles.csv')\n",
      "/var/folders/9n/kzdbb24d6718p004k3bbjtr40000gn/T/ipykernel_4598/2854129418.py:3: DtypeWarning: Columns (20,24,25,26,29) have mixed types. Specify dtype option on import or set low_memory=False.\n",
      "  people_df = pd.read_csv('../data/localdata/Traffic_Crashes_People.csv')\n"
     ]
    }
   ],
   "source": [
    "# reading CSVs\n",
    "vehicles_df = pd.read_csv('../data/localdata/Traffic_Crashes_Vehicles.csv')\n",
    "people_df = pd.read_csv('../data/localdata/Traffic_Crashes_People.csv')\n",
    "crashes_df = pd.read_csv('../data/localdata/Traffic_Crashes_Crashes.csv')"
   ]
  },
  {
   "cell_type": "code",
   "execution_count": 5,
   "id": "53dde279-3522-4d3c-9bfd-6e20c676e7c7",
   "metadata": {},
   "outputs": [],
   "source": [
    "# cleaning crashes dataframe\n",
    "crashes_df.drop(columns=['WORK_ZONE_I', 'WORK_ZONE_TYPE', 'DOORING_I', 'WORKERS_PRESENT_I',\n",
    "                                          'PHOTOS_TAKEN_I', 'STATEMENTS_TAKEN_I', 'RD_NO'], axis=1, inplace=True)\n",
    "crashes_df.dropna(subset = ['INJURIES_TOTAL', 'LATITUDE', 'MOST_SEVERE_INJURY', 'STREET_DIRECTION', 'BEAT_OF_OCCURRENCE'] , axis=0, inplace=True)"
   ]
  },
  {
   "cell_type": "markdown",
   "id": "c7e4f72b-6e58-4019-a72f-fedcc4d01175",
   "metadata": {},
   "source": [
    "## Vehicles EDA"
   ]
  },
  {
   "cell_type": "code",
   "execution_count": 3,
   "id": "ef0d1ac1-8063-4bfe-bb7f-733f0a7892be",
   "metadata": {
    "scrolled": true
   },
   "outputs": [],
   "source": [
    "# vehicles_df.columns = vehicles_df.columns.str.title()\n",
    "# vehicles_df.columns = vehicles_df.columns.str.replace('_', ' ')\n",
    "# vehicles_df.info()"
   ]
  },
  {
   "cell_type": "code",
   "execution_count": null,
   "id": "f220c825-5904-41e0-9dea-a62b172ee6f5",
   "metadata": {},
   "outputs": [],
   "source": [
    "# vehicles_df"
   ]
  },
  {
   "cell_type": "code",
   "execution_count": 1,
   "id": "1df842b9-39f8-4f6e-8549-5f21c5f59708",
   "metadata": {
    "scrolled": true
   },
   "outputs": [],
   "source": [
    "# vehicles_df['Unit No'].value_counts()"
   ]
  },
  {
   "cell_type": "markdown",
   "id": "9d53f3f3-18e7-479f-b141-25031f83abb5",
   "metadata": {},
   "source": [
    "## People EDA"
   ]
  },
  {
   "cell_type": "code",
   "execution_count": 4,
   "id": "2376054f-5561-4556-80d3-a54d267c30cf",
   "metadata": {
    "scrolled": true
   },
   "outputs": [],
   "source": [
    "# people_df.columns = people_df.columns.str.title()\n",
    "# people_df.columns = people_df.columns.str.replace('_', ' ')\n",
    "# people_df.info()"
   ]
  },
  {
   "cell_type": "markdown",
   "id": "a9f11fd3-36ec-40b4-b886-e8fc6ce3243b",
   "metadata": {},
   "source": [
    "## Crashes EDA"
   ]
  },
  {
   "cell_type": "code",
   "execution_count": 5,
   "id": "3856f4cf-d87d-4aba-9c93-e287e5a1c1e9",
   "metadata": {
    "scrolled": true
   },
   "outputs": [],
   "source": [
    "# crashes_df.columns = crashes_df.columns.str.title()\n",
    "# crashes_df.columns = crashes_df.columns.str.replace('_', ' ')\n",
    "# crashes_df.info()"
   ]
  },
  {
   "cell_type": "code",
   "execution_count": 6,
   "id": "5d123111-3d19-40d6-ac0e-a5ca9c214781",
   "metadata": {},
   "outputs": [],
   "source": [
    "# crashes_df['Location']"
   ]
  },
  {
   "cell_type": "code",
   "execution_count": 7,
   "id": "d24ab8c2-d832-439c-8445-886e0ba1efe1",
   "metadata": {},
   "outputs": [],
   "source": [
    "# crashes_df.shape"
   ]
  },
  {
   "cell_type": "markdown",
   "id": "0deee123-fe26-4ff3-9eb2-ddbf97ab803b",
   "metadata": {},
   "source": [
    "## Feature Engineering Accident Severity"
   ]
  },
  {
   "cell_type": "code",
   "execution_count": 11,
   "id": "0eb4c7b5-6fe1-4494-a619-55e7d5944865",
   "metadata": {},
   "outputs": [],
   "source": [
    "# Injury Score\n",
    "\n",
    "crashes_df[['Injuries Total', 'Injuries Fatal', 'Injuries Incapacitating', \n",
    "            'Injuries Non Incapacitating', 'Injuries Reported Not Evident']][crashes_df['Injuries Total']!=0][:50]\n",
    "\n",
    "crashes_df['total injured'] = crashes_df['Injuries Fatal'] + crashes_df['Injuries Incapacitating'] + crashes_df['Injuries Non Incapacitating'] + crashes_df['Injuries Reported Not Evident']\n",
    "\n",
    "# Checking if added up columns in 'total injured' make up 'Injuries Total'\n",
    "(crashes_df['total injured'] == crashes_df['Injuries Total']).value_counts()\n",
    "\n",
    "# Injury Score column is a linear combination of the factors that make up Injuries Total simply multiplied by a constant depending on their severity\n",
    "crashes_df['Injury Score'] = crashes_df['Injuries Fatal']*7 + crashes_df['Injuries Incapacitating']*3 + crashes_df['Injuries Non Incapacitating']*2 + crashes_df['Injuries Reported Not Evident']\n",
    "\n",
    "# Accounting Material Damage of Car and Surrounding Areas (Crash Score)\n",
    "\n",
    "crashes_df['Damage'].value_counts()\n",
    "mapping = {'OVER $1,500': 3, '$501 - $1,500': 2, \"$500 OR LESS\": 1}\n",
    "crashes_df['Damage_ODE'] = crashes_df['Damage'].map(mapping)\n",
    "crashes_df['Injury Score'] = crashes_df['Injury Score'] + crashes_df['Damage_ODE']*3\n",
    "crashes_df['Crash Score'] = crashes_df['Injury Score']"
   ]
  },
  {
   "cell_type": "code",
   "execution_count": 8,
   "id": "0c9c9163-dc3c-450b-8ec1-428713360bdd",
   "metadata": {
    "scrolled": true
   },
   "outputs": [],
   "source": [
    "# crashes_df['Crash Score'].value_counts()"
   ]
  },
  {
   "cell_type": "code",
   "execution_count": 12,
   "id": "7c10a871-b86b-4a1a-9a38-d9047f298198",
   "metadata": {},
   "outputs": [],
   "source": [
    "# people_df['Seat No'].value_counts()"
   ]
  },
  {
   "cell_type": "code",
   "execution_count": 13,
   "id": "dd1abf0d-3119-470c-b5f5-bdeb7d96a965",
   "metadata": {},
   "outputs": [],
   "source": [
    "# people_df['Seat No'].info()"
   ]
  },
  {
   "cell_type": "code",
   "execution_count": 14,
   "id": "5c612d17-705f-4460-b2f5-649d950c04ed",
   "metadata": {},
   "outputs": [],
   "source": [
    "# people_df['Injury Classification'].value_counts()"
   ]
  },
  {
   "cell_type": "code",
   "execution_count": 15,
   "id": "aff42621-9a21-4a4b-8174-3bff5d54384a",
   "metadata": {},
   "outputs": [],
   "source": [
    "# people_df['Physical Condition'].value_counts()"
   ]
  }
 ],
 "metadata": {
  "kernelspec": {
   "display_name": "Python 3 (ipykernel)",
   "language": "python",
   "name": "python3"
  },
  "language_info": {
   "codemirror_mode": {
    "name": "ipython",
    "version": 3
   },
   "file_extension": ".py",
   "mimetype": "text/x-python",
   "name": "python",
   "nbconvert_exporter": "python",
   "pygments_lexer": "ipython3",
   "version": "3.9.16"
  }
 },
 "nbformat": 4,
 "nbformat_minor": 5
}
