{
 "cells": [
  {
   "cell_type": "markdown",
   "metadata": {},
   "source": [
    "## Imports"
   ]
  },
  {
   "cell_type": "code",
   "execution_count": 1,
   "metadata": {},
   "outputs": [],
   "source": [
    "import pandas as pd\n",
    "import numpy as np\n",
    "import matplotlib.pyplot as plt\n",
    "import seaborn as sns\n",
    "\n",
    "from sklearn.model_selection import train_test_split\n",
    "from sklearn.preprocessing import normalize, OneHotEncoder\n",
    "from sklearn.linear_model import LinearRegression, LogisticRegression\n",
    "from sklearn.metrics import log_loss"
   ]
  },
  {
   "cell_type": "markdown",
   "metadata": {},
   "source": [
    "## Reading Data"
   ]
  },
  {
   "cell_type": "code",
   "execution_count": 2,
   "metadata": {},
   "outputs": [
    {
     "name": "stderr",
     "output_type": "stream",
     "text": [
      "/Users/michaelromanski/anaconda3/envs/learn-env/lib/python3.8/site-packages/IPython/core/interactiveshell.py:3145: DtypeWarning: Columns (19,21,40,41,42,44,48,49,50,53,55,58,59,61,71) have mixed types.Specify dtype option on import or set low_memory=False.\n",
      "  has_raised = await self.run_ast_nodes(code_ast.body, cell_name,\n",
      "/Users/michaelromanski/anaconda3/envs/learn-env/lib/python3.8/site-packages/IPython/core/interactiveshell.py:3145: DtypeWarning: Columns (20,24,25,26,29) have mixed types.Specify dtype option on import or set low_memory=False.\n",
      "  has_raised = await self.run_ast_nodes(code_ast.body, cell_name,\n"
     ]
    }
   ],
   "source": [
    "# reading CSVs\n",
    "vehicle_df = pd.read_csv('../data/localdata/Traffic_Crashes_Vehicles.csv')\n",
    "people_df = pd.read_csv('../data/localdata/Traffic_Crashes_People.csv')\n",
    "crash_df = pd.read_csv('../data/localdata/Traffic_Crashes_Crashes.csv')"
   ]
  },
  {
   "cell_type": "markdown",
   "metadata": {},
   "source": [
    "## Data Cleaning"
   ]
  },
  {
   "cell_type": "code",
   "execution_count": 3,
   "metadata": {},
   "outputs": [],
   "source": [
    "# Crashes DataFrame\n",
    "\n",
    "crash_df.drop(columns=['WORK_ZONE_I', 'WORK_ZONE_TYPE', 'DOORING_I', 'WORKERS_PRESENT_I',\n",
    "                                          'PHOTOS_TAKEN_I', 'STATEMENTS_TAKEN_I', 'RD_NO', 'REPORT_TYPE', 'NOT_RIGHT_OF_WAY_I', 'CRASH_DATE_EST_I'], axis=1, inplace=True)\n",
    "crash_df.dropna(subset = ['INJURIES_TOTAL', 'LATITUDE', 'MOST_SEVERE_INJURY', \n",
    "                          'STREET_DIRECTION', 'BEAT_OF_OCCURRENCE'], axis=0, inplace=True)\n",
    "crash_df.columns = crash_df.columns.str.title()\n",
    "crash_df.columns = crash_df.columns.str.replace('_', ' ')"
   ]
  },
  {
   "cell_type": "code",
   "execution_count": 4,
   "metadata": {},
   "outputs": [],
   "source": [
    "# Vehicles DataFrame\n",
    "\n",
    "vehicle_df = vehicle_df[['CRASH_UNIT_ID', 'CRASH_RECORD_ID', 'CRASH_DATE', 'UNIT_NO', 'UNIT_TYPE',\n",
    "                       'VEHICLE_YEAR', 'VEHICLE_USE', 'VEHICLE_TYPE', 'MANEUVER', 'OCCUPANT_CNT',\n",
    "                         'AREA_00_I', 'AREA_01_I', 'AREA_02_I', 'AREA_03_I', 'AREA_04_I',\n",
    "                       'AREA_05_I', 'AREA_06_I', 'AREA_07_I', 'AREA_08_I', 'AREA_09_I', 'AREA_10_I', 'AREA_11_I',\n",
    "                       'AREA_12_I', 'AREA_99_I', 'FIRST_CONTACT_POINT']]\n",
    "vehicle_df.dropna(subset = ['VEHICLE_USE', 'FIRST_CONTACT_POINT', 'UNIT_TYPE'], axis=0, inplace=True)\n",
    "vehicle_df['VEHICLE_YEAR'].fillna(value = 'Unknown', inplace=True)\n",
    "\n",
    "vehicle_df.columns = vehicle_df.columns.str.title()\n",
    "vehicle_df.columns = vehicle_df.columns.str.replace('_', ' ')"
   ]
  },
  {
   "cell_type": "code",
   "execution_count": 5,
   "metadata": {},
   "outputs": [],
   "source": [
    "# People DataFrame\n",
    "\n",
    "people_df.drop(columns=['RD_NO', 'CELL_PHONE_USE', 'PEDPEDAL_ACTION', \n",
    "                        'PEDPEDAL_VISIBILITY', 'PEDPEDAL_LOCATION', 'SEAT_NO', \n",
    "                        'HOSPITAL', 'EMS_AGENCY', 'EMS_RUN_NO', 'BAC_RESULT', 'BAC_RESULT VALUE', \n",
    "                        'DRIVERS_LICENSE_STATE', 'DRIVERS_LICENSE_CLASS', 'CITY', 'STATE', 'ZIPCODE']\n",
    "               , axis=1, inplace=True)\n",
    "\n",
    "people_df.dropna(subset = ['AIRBAG_DEPLOYED', 'EJECTION', 'INJURY_CLASSIFICATION', 'VEHICLE_ID', \n",
    "                           'SAFETY_EQUIPMENT', 'SEX'], axis=0, inplace=True)\n",
    "\n",
    "people_df.columns = people_df.columns.str.title()\n",
    "people_df.columns = people_df.columns.str.replace('_', ' ')"
   ]
  },
  {
   "cell_type": "markdown",
   "metadata": {},
   "source": [
    "## Feature Engineering Crash Score"
   ]
  },
  {
   "cell_type": "code",
   "execution_count": 6,
   "metadata": {},
   "outputs": [],
   "source": [
    "# Injury Score\n",
    "\n",
    "crash_df[['Injuries Total', 'Injuries Fatal', 'Injuries Incapacitating', \n",
    "            'Injuries Non Incapacitating', 'Injuries Reported Not Evident']][crash_df['Injuries Total']!=0][:50]\n",
    "\n",
    "crash_df['total injured'] = crash_df['Injuries Fatal'] + crash_df['Injuries Incapacitating'] + crash_df['Injuries Non Incapacitating'] + crash_df['Injuries Reported Not Evident']\n",
    "\n",
    "# Checking if added up columns in 'total injured' make up 'Injuries Total'\n",
    "(crash_df['total injured'] == crash_df['Injuries Total']).value_counts()\n",
    "\n",
    "# Injury Score column is a linear combination of the factors that make up Injuries Total simply multiplied by a constant depending on their severity\n",
    "crash_df['Injury Score'] = crash_df['Injuries Fatal']*7 + crash_df['Injuries Incapacitating']*3 + crash_df['Injuries Non Incapacitating']*2 + crash_df['Injuries Reported Not Evident']\n",
    "\n",
    "# Accounting Material Damage of Car and Surrounding Areas )\n",
    "# Crash Score \n",
    "\n",
    "crash_df['Damage'].value_counts()\n",
    "mapping = {'OVER $1,500': 3, '$501 - $1,500': 2, \"$500 OR LESS\": 1}\n",
    "crash_df['Damage_ODE'] = crash_df['Damage'].map(mapping)\n",
    "crash_df['Injury Score'] = crash_df['Injury Score'] + crash_df['Damage_ODE']*3\n",
    "crash_df['Crash Score'] = crash_df['Injury Score']"
   ]
  },
  {
   "cell_type": "code",
   "execution_count": 7,
   "metadata": {},
   "outputs": [
    {
     "name": "stdout",
     "output_type": "stream",
     "text": [
      "(746352, 43)\n",
      "(1497524, 25)\n"
     ]
    }
   ],
   "source": [
    "print(crash_df.shape)\n",
    "print(vehicle_df.shape)"
   ]
  },
  {
   "cell_type": "markdown",
   "metadata": {},
   "source": [
    "## Merging Vehicle and Crash DataFrames"
   ]
  },
  {
   "cell_type": "code",
   "execution_count": 8,
   "metadata": {},
   "outputs": [],
   "source": [
    "vehicles_crashes_df = vehicle_df.merge(crash_df, on = 'Crash Record Id', how = 'inner')\n",
    "vehicles_crashes_df.drop_duplicates(subset='Crash Record Id', inplace=True)"
   ]
  },
  {
   "cell_type": "code",
   "execution_count": 9,
   "metadata": {},
   "outputs": [],
   "source": [
    "categorical = ['Weather Condition', 'Roadway Surface Cond', 'Road Defect', 'Alignment',\n",
    "                       'Traffic Control Device', 'Device Condition', 'Crash Hour', 'Trafficway Type', 'Maneuver'] #potentiall vehicle defects\n",
    "\n",
    "ohe = OneHotEncoder(drop='first')\n",
    "ohe.fit(vehicles_crashes_df[categorical])\n",
    "categorical_encoded = pd.DataFrame(ohe.transform(vehicles_crashes_df[categorical]).todense(),\n",
    "                               columns=ohe.get_feature_names())\n",
    "# for Nick's version of OneHotEncoder, since its newer, the attribute is get_feature_names_out but get_feature_name for bobby and mike's version"
   ]
  },
  {
   "cell_type": "code",
   "execution_count": 10,
   "metadata": {},
   "outputs": [],
   "source": [
    "area_df = vehicles_crashes_df[['Crash Record Id','Area 00 I', 'Area 01 I', 'Area 02 I', 'Area 03 I', 'Area 04 I',\n",
    "                       'Area 05 I', 'Area 06 I', 'Area 07 I', 'Area 08 I', 'Area 09 I', 'Area 10 I', 'Area 11 I',\n",
    "                       'Area 12 I', 'Area 99 I', 'Latitude', 'Longitude']]"
   ]
  },
  {
   "cell_type": "code",
   "execution_count": 11,
   "metadata": {},
   "outputs": [],
   "source": [
    "vehicles_crashes_df.to_csv('../data/localdata/vehicles_crashes.csv')"
   ]
  },
  {
   "cell_type": "code",
   "execution_count": 12,
   "metadata": {},
   "outputs": [
    {
     "data": {
      "text/html": [
       "<div>\n",
       "<style scoped>\n",
       "    .dataframe tbody tr th:only-of-type {\n",
       "        vertical-align: middle;\n",
       "    }\n",
       "\n",
       "    .dataframe tbody tr th {\n",
       "        vertical-align: top;\n",
       "    }\n",
       "\n",
       "    .dataframe thead th {\n",
       "        text-align: right;\n",
       "    }\n",
       "</style>\n",
       "<table border=\"1\" class=\"dataframe\">\n",
       "  <thead>\n",
       "    <tr style=\"text-align: right;\">\n",
       "      <th></th>\n",
       "      <th>Crash Record Id</th>\n",
       "      <th>Area 00 I</th>\n",
       "      <th>Area 01 I</th>\n",
       "      <th>Area 02 I</th>\n",
       "      <th>Area 03 I</th>\n",
       "      <th>Area 04 I</th>\n",
       "      <th>Area 05 I</th>\n",
       "      <th>Area 06 I</th>\n",
       "      <th>Area 07 I</th>\n",
       "      <th>Area 08 I</th>\n",
       "      <th>Area 09 I</th>\n",
       "      <th>Area 10 I</th>\n",
       "      <th>Area 11 I</th>\n",
       "      <th>Area 12 I</th>\n",
       "      <th>Area 99 I</th>\n",
       "      <th>Latitude</th>\n",
       "      <th>Longitude</th>\n",
       "    </tr>\n",
       "  </thead>\n",
       "  <tbody>\n",
       "    <tr>\n",
       "      <th>0</th>\n",
       "      <td>91a5d08b2b701f2d37cbb52ecdbeb09579bc7f2ebc60b3...</td>\n",
       "      <td>NaN</td>\n",
       "      <td>NaN</td>\n",
       "      <td>NaN</td>\n",
       "      <td>NaN</td>\n",
       "      <td>Y</td>\n",
       "      <td>NaN</td>\n",
       "      <td>NaN</td>\n",
       "      <td>NaN</td>\n",
       "      <td>NaN</td>\n",
       "      <td>NaN</td>\n",
       "      <td>Y</td>\n",
       "      <td>NaN</td>\n",
       "      <td>NaN</td>\n",
       "      <td>NaN</td>\n",
       "      <td>41.885256</td>\n",
       "      <td>-87.667091</td>\n",
       "    </tr>\n",
       "    <tr>\n",
       "      <th>2</th>\n",
       "      <td>81dc0de2ed92aa62baccab641fa377be7feb1cc47e6554...</td>\n",
       "      <td>NaN</td>\n",
       "      <td>Y</td>\n",
       "      <td>NaN</td>\n",
       "      <td>NaN</td>\n",
       "      <td>NaN</td>\n",
       "      <td>NaN</td>\n",
       "      <td>NaN</td>\n",
       "      <td>NaN</td>\n",
       "      <td>NaN</td>\n",
       "      <td>NaN</td>\n",
       "      <td>NaN</td>\n",
       "      <td>NaN</td>\n",
       "      <td>NaN</td>\n",
       "      <td>NaN</td>\n",
       "      <td>41.900043</td>\n",
       "      <td>-87.755577</td>\n",
       "    </tr>\n",
       "    <tr>\n",
       "      <th>5</th>\n",
       "      <td>80f5b6eff349a72094c9c7a11745549caa8bd39b57cedd...</td>\n",
       "      <td>NaN</td>\n",
       "      <td>NaN</td>\n",
       "      <td>NaN</td>\n",
       "      <td>NaN</td>\n",
       "      <td>NaN</td>\n",
       "      <td>NaN</td>\n",
       "      <td>NaN</td>\n",
       "      <td>Y</td>\n",
       "      <td>Y</td>\n",
       "      <td>NaN</td>\n",
       "      <td>NaN</td>\n",
       "      <td>NaN</td>\n",
       "      <td>NaN</td>\n",
       "      <td>NaN</td>\n",
       "      <td>41.999816</td>\n",
       "      <td>-87.663273</td>\n",
       "    </tr>\n",
       "    <tr>\n",
       "      <th>7</th>\n",
       "      <td>c7c57a49274b3aa953d0b76346f68e116ed8c3d72a683a...</td>\n",
       "      <td>NaN</td>\n",
       "      <td>NaN</td>\n",
       "      <td>NaN</td>\n",
       "      <td>NaN</td>\n",
       "      <td>NaN</td>\n",
       "      <td>NaN</td>\n",
       "      <td>NaN</td>\n",
       "      <td>NaN</td>\n",
       "      <td>NaN</td>\n",
       "      <td>NaN</td>\n",
       "      <td>NaN</td>\n",
       "      <td>NaN</td>\n",
       "      <td>NaN</td>\n",
       "      <td>Y</td>\n",
       "      <td>41.988622</td>\n",
       "      <td>-87.661653</td>\n",
       "    </tr>\n",
       "    <tr>\n",
       "      <th>9</th>\n",
       "      <td>522f18b8de9a8a2bb313e7cf54bc60da64bf0085098cd0...</td>\n",
       "      <td>NaN</td>\n",
       "      <td>Y</td>\n",
       "      <td>NaN</td>\n",
       "      <td>NaN</td>\n",
       "      <td>NaN</td>\n",
       "      <td>Y</td>\n",
       "      <td>Y</td>\n",
       "      <td>Y</td>\n",
       "      <td>NaN</td>\n",
       "      <td>NaN</td>\n",
       "      <td>NaN</td>\n",
       "      <td>Y</td>\n",
       "      <td>Y</td>\n",
       "      <td>NaN</td>\n",
       "      <td>41.873096</td>\n",
       "      <td>-87.742362</td>\n",
       "    </tr>\n",
       "  </tbody>\n",
       "</table>\n",
       "</div>"
      ],
      "text/plain": [
       "                                     Crash Record Id Area 00 I Area 01 I  \\\n",
       "0  91a5d08b2b701f2d37cbb52ecdbeb09579bc7f2ebc60b3...       NaN       NaN   \n",
       "2  81dc0de2ed92aa62baccab641fa377be7feb1cc47e6554...       NaN         Y   \n",
       "5  80f5b6eff349a72094c9c7a11745549caa8bd39b57cedd...       NaN       NaN   \n",
       "7  c7c57a49274b3aa953d0b76346f68e116ed8c3d72a683a...       NaN       NaN   \n",
       "9  522f18b8de9a8a2bb313e7cf54bc60da64bf0085098cd0...       NaN         Y   \n",
       "\n",
       "  Area 02 I Area 03 I Area 04 I Area 05 I Area 06 I Area 07 I Area 08 I  \\\n",
       "0       NaN       NaN         Y       NaN       NaN       NaN       NaN   \n",
       "2       NaN       NaN       NaN       NaN       NaN       NaN       NaN   \n",
       "5       NaN       NaN       NaN       NaN       NaN         Y         Y   \n",
       "7       NaN       NaN       NaN       NaN       NaN       NaN       NaN   \n",
       "9       NaN       NaN       NaN         Y         Y         Y       NaN   \n",
       "\n",
       "  Area 09 I Area 10 I Area 11 I Area 12 I Area 99 I   Latitude  Longitude  \n",
       "0       NaN         Y       NaN       NaN       NaN  41.885256 -87.667091  \n",
       "2       NaN       NaN       NaN       NaN       NaN  41.900043 -87.755577  \n",
       "5       NaN       NaN       NaN       NaN       NaN  41.999816 -87.663273  \n",
       "7       NaN       NaN       NaN       NaN         Y  41.988622 -87.661653  \n",
       "9       NaN       NaN         Y         Y       NaN  41.873096 -87.742362  "
      ]
     },
     "execution_count": 12,
     "metadata": {},
     "output_type": "execute_result"
    }
   ],
   "source": [
    "area_df.head()"
   ]
  },
  {
   "cell_type": "code",
   "execution_count": 13,
   "metadata": {},
   "outputs": [
    {
     "data": {
      "text/plain": [
       "(745092, 17)"
      ]
     },
     "execution_count": 13,
     "metadata": {},
     "output_type": "execute_result"
    }
   ],
   "source": [
    "area_df.shape"
   ]
  },
  {
   "cell_type": "code",
   "execution_count": 14,
   "metadata": {},
   "outputs": [],
   "source": [
    "multi_yes = area_df.columns[area_df.eq('Y').sum() > 1]"
   ]
  },
  {
   "cell_type": "code",
   "execution_count": 15,
   "metadata": {},
   "outputs": [],
   "source": [
    "mask = area_df[multi_yes].eq('Y').sum(axis=1) <= 1"
   ]
  },
  {
   "cell_type": "code",
   "execution_count": 16,
   "metadata": {},
   "outputs": [],
   "source": [
    "filtered_area_df = area_df[mask]"
   ]
  },
  {
   "cell_type": "code",
   "execution_count": 17,
   "metadata": {},
   "outputs": [
    {
     "data": {
      "text/plain": [
       "(483664, 17)"
      ]
     },
     "execution_count": 17,
     "metadata": {},
     "output_type": "execute_result"
    }
   ],
   "source": [
    "filtered_area_df.shape"
   ]
  },
  {
   "cell_type": "code",
   "execution_count": 18,
   "metadata": {},
   "outputs": [
    {
     "data": {
      "text/html": [
       "<div>\n",
       "<style scoped>\n",
       "    .dataframe tbody tr th:only-of-type {\n",
       "        vertical-align: middle;\n",
       "    }\n",
       "\n",
       "    .dataframe tbody tr th {\n",
       "        vertical-align: top;\n",
       "    }\n",
       "\n",
       "    .dataframe thead th {\n",
       "        text-align: right;\n",
       "    }\n",
       "</style>\n",
       "<table border=\"1\" class=\"dataframe\">\n",
       "  <thead>\n",
       "    <tr style=\"text-align: right;\">\n",
       "      <th></th>\n",
       "      <th>Crash Record Id</th>\n",
       "      <th>Area 00 I</th>\n",
       "      <th>Area 01 I</th>\n",
       "      <th>Area 02 I</th>\n",
       "      <th>Area 03 I</th>\n",
       "      <th>Area 04 I</th>\n",
       "      <th>Area 05 I</th>\n",
       "      <th>Area 06 I</th>\n",
       "      <th>Area 07 I</th>\n",
       "      <th>Area 08 I</th>\n",
       "      <th>Area 09 I</th>\n",
       "      <th>Area 10 I</th>\n",
       "      <th>Area 11 I</th>\n",
       "      <th>Area 12 I</th>\n",
       "      <th>Area 99 I</th>\n",
       "      <th>Latitude</th>\n",
       "      <th>Longitude</th>\n",
       "    </tr>\n",
       "  </thead>\n",
       "  <tbody>\n",
       "    <tr>\n",
       "      <th>2</th>\n",
       "      <td>81dc0de2ed92aa62baccab641fa377be7feb1cc47e6554...</td>\n",
       "      <td>NaN</td>\n",
       "      <td>Y</td>\n",
       "      <td>NaN</td>\n",
       "      <td>NaN</td>\n",
       "      <td>NaN</td>\n",
       "      <td>NaN</td>\n",
       "      <td>NaN</td>\n",
       "      <td>NaN</td>\n",
       "      <td>NaN</td>\n",
       "      <td>NaN</td>\n",
       "      <td>NaN</td>\n",
       "      <td>NaN</td>\n",
       "      <td>NaN</td>\n",
       "      <td>NaN</td>\n",
       "      <td>41.900043</td>\n",
       "      <td>-87.755577</td>\n",
       "    </tr>\n",
       "    <tr>\n",
       "      <th>7</th>\n",
       "      <td>c7c57a49274b3aa953d0b76346f68e116ed8c3d72a683a...</td>\n",
       "      <td>NaN</td>\n",
       "      <td>NaN</td>\n",
       "      <td>NaN</td>\n",
       "      <td>NaN</td>\n",
       "      <td>NaN</td>\n",
       "      <td>NaN</td>\n",
       "      <td>NaN</td>\n",
       "      <td>NaN</td>\n",
       "      <td>NaN</td>\n",
       "      <td>NaN</td>\n",
       "      <td>NaN</td>\n",
       "      <td>NaN</td>\n",
       "      <td>NaN</td>\n",
       "      <td>Y</td>\n",
       "      <td>41.988622</td>\n",
       "      <td>-87.661653</td>\n",
       "    </tr>\n",
       "    <tr>\n",
       "      <th>13</th>\n",
       "      <td>7d0acd72b06cdef52a0784b26b75e8dbff86fa24c63410...</td>\n",
       "      <td>NaN</td>\n",
       "      <td>NaN</td>\n",
       "      <td>NaN</td>\n",
       "      <td>Y</td>\n",
       "      <td>NaN</td>\n",
       "      <td>NaN</td>\n",
       "      <td>NaN</td>\n",
       "      <td>NaN</td>\n",
       "      <td>NaN</td>\n",
       "      <td>NaN</td>\n",
       "      <td>NaN</td>\n",
       "      <td>NaN</td>\n",
       "      <td>NaN</td>\n",
       "      <td>NaN</td>\n",
       "      <td>41.830891</td>\n",
       "      <td>-87.627238</td>\n",
       "    </tr>\n",
       "    <tr>\n",
       "      <th>15</th>\n",
       "      <td>26aaf4abbd1f8672ceb1510bc56af90e8079b53d52b7ed...</td>\n",
       "      <td>NaN</td>\n",
       "      <td>NaN</td>\n",
       "      <td>NaN</td>\n",
       "      <td>NaN</td>\n",
       "      <td>NaN</td>\n",
       "      <td>NaN</td>\n",
       "      <td>NaN</td>\n",
       "      <td>NaN</td>\n",
       "      <td>NaN</td>\n",
       "      <td>NaN</td>\n",
       "      <td>NaN</td>\n",
       "      <td>NaN</td>\n",
       "      <td>NaN</td>\n",
       "      <td>Y</td>\n",
       "      <td>41.756551</td>\n",
       "      <td>-87.610690</td>\n",
       "    </tr>\n",
       "    <tr>\n",
       "      <th>17</th>\n",
       "      <td>169ef212c6902639b42f985403007ef11ed3ed9cbf7177...</td>\n",
       "      <td>NaN</td>\n",
       "      <td>NaN</td>\n",
       "      <td>NaN</td>\n",
       "      <td>NaN</td>\n",
       "      <td>NaN</td>\n",
       "      <td>NaN</td>\n",
       "      <td>NaN</td>\n",
       "      <td>NaN</td>\n",
       "      <td>NaN</td>\n",
       "      <td>NaN</td>\n",
       "      <td>NaN</td>\n",
       "      <td>NaN</td>\n",
       "      <td>Y</td>\n",
       "      <td>NaN</td>\n",
       "      <td>41.899260</td>\n",
       "      <td>-87.694179</td>\n",
       "    </tr>\n",
       "  </tbody>\n",
       "</table>\n",
       "</div>"
      ],
      "text/plain": [
       "                                      Crash Record Id Area 00 I Area 01 I  \\\n",
       "2   81dc0de2ed92aa62baccab641fa377be7feb1cc47e6554...       NaN         Y   \n",
       "7   c7c57a49274b3aa953d0b76346f68e116ed8c3d72a683a...       NaN       NaN   \n",
       "13  7d0acd72b06cdef52a0784b26b75e8dbff86fa24c63410...       NaN       NaN   \n",
       "15  26aaf4abbd1f8672ceb1510bc56af90e8079b53d52b7ed...       NaN       NaN   \n",
       "17  169ef212c6902639b42f985403007ef11ed3ed9cbf7177...       NaN       NaN   \n",
       "\n",
       "   Area 02 I Area 03 I Area 04 I Area 05 I Area 06 I Area 07 I Area 08 I  \\\n",
       "2        NaN       NaN       NaN       NaN       NaN       NaN       NaN   \n",
       "7        NaN       NaN       NaN       NaN       NaN       NaN       NaN   \n",
       "13       NaN         Y       NaN       NaN       NaN       NaN       NaN   \n",
       "15       NaN       NaN       NaN       NaN       NaN       NaN       NaN   \n",
       "17       NaN       NaN       NaN       NaN       NaN       NaN       NaN   \n",
       "\n",
       "   Area 09 I Area 10 I Area 11 I Area 12 I Area 99 I   Latitude  Longitude  \n",
       "2        NaN       NaN       NaN       NaN       NaN  41.900043 -87.755577  \n",
       "7        NaN       NaN       NaN       NaN         Y  41.988622 -87.661653  \n",
       "13       NaN       NaN       NaN       NaN       NaN  41.830891 -87.627238  \n",
       "15       NaN       NaN       NaN       NaN         Y  41.756551 -87.610690  \n",
       "17       NaN       NaN       NaN         Y       NaN  41.899260 -87.694179  "
      ]
     },
     "execution_count": 18,
     "metadata": {},
     "output_type": "execute_result"
    }
   ],
   "source": [
    "filtered_area_df.head()"
   ]
  },
  {
   "cell_type": "code",
   "execution_count": null,
   "metadata": {},
   "outputs": [],
   "source": []
  },
  {
   "cell_type": "code",
   "execution_count": null,
   "metadata": {},
   "outputs": [],
   "source": []
  },
  {
   "cell_type": "code",
   "execution_count": 19,
   "metadata": {},
   "outputs": [
    {
     "name": "stderr",
     "output_type": "stream",
     "text": [
      "<ipython-input-19-beffbba6ad4d>:6: SettingWithCopyWarning: \n",
      "A value is trying to be set on a copy of a slice from a DataFrame.\n",
      "Try using .loc[row_indexer,col_indexer] = value instead\n",
      "\n",
      "See the caveats in the documentation: https://pandas.pydata.org/pandas-docs/stable/user_guide/indexing.html#returning-a-view-versus-a-copy\n",
      "  filtered_area_df[column] = area_column\n"
     ]
    },
    {
     "name": "stdout",
     "output_type": "stream",
     "text": [
      "                                           Crash Record Id  Area 00 I  \\\n",
      "2        81dc0de2ed92aa62baccab641fa377be7feb1cc47e6554...        NaN   \n",
      "7        c7c57a49274b3aa953d0b76346f68e116ed8c3d72a683a...        NaN   \n",
      "13       7d0acd72b06cdef52a0784b26b75e8dbff86fa24c63410...        NaN   \n",
      "15       26aaf4abbd1f8672ceb1510bc56af90e8079b53d52b7ed...        NaN   \n",
      "17       169ef212c6902639b42f985403007ef11ed3ed9cbf7177...        NaN   \n",
      "...                                                    ...        ...   \n",
      "1485230  3fd91a7ef43438191bfed3920cdc68868c90283bd6ea7e...        NaN   \n",
      "1485234  34a300225be49643ff7a6cb00648f55e44101ffdba2799...        NaN   \n",
      "1485236  bf04349af64331c7cee45a40bf2979ed3d61fdf82456a0...        1.0   \n",
      "1485241  545044224202f24b78f10eef0aef2935ff9abfc4f10309...        NaN   \n",
      "1485243  6b53b6a8fb20fc4839856798fb480cd21db71c6a3fa9f9...        NaN   \n",
      "\n",
      "         Area 01 I  Area 02 I  Area 03 I  Area 04 I  Area 05 I  Area 06 I  \\\n",
      "2              1.0        NaN        NaN        NaN        NaN        NaN   \n",
      "7              NaN        NaN        NaN        NaN        NaN        NaN   \n",
      "13             NaN        NaN        1.0        NaN        NaN        NaN   \n",
      "15             NaN        NaN        NaN        NaN        NaN        NaN   \n",
      "17             NaN        NaN        NaN        NaN        NaN        NaN   \n",
      "...            ...        ...        ...        ...        ...        ...   \n",
      "1485230        NaN        NaN        NaN        NaN        NaN        NaN   \n",
      "1485234        NaN        NaN        NaN        NaN        NaN        NaN   \n",
      "1485236        NaN        NaN        NaN        NaN        NaN        NaN   \n",
      "1485241        NaN        NaN        NaN        NaN        NaN        NaN   \n",
      "1485243        NaN        NaN        NaN        NaN        NaN        NaN   \n",
      "\n",
      "         Area 07 I  Area 08 I  Area 09 I  Area 10 I  Area 11 I  Area 12 I  \\\n",
      "2              NaN        NaN        NaN        NaN        NaN        NaN   \n",
      "7              NaN        NaN        NaN        NaN        NaN        NaN   \n",
      "13             NaN        NaN        NaN        NaN        NaN        NaN   \n",
      "15             NaN        NaN        NaN        NaN        NaN        NaN   \n",
      "17             NaN        NaN        NaN        NaN        NaN        1.0   \n",
      "...            ...        ...        ...        ...        ...        ...   \n",
      "1485230        NaN        NaN        NaN        NaN        NaN        1.0   \n",
      "1485234        NaN        NaN        NaN        NaN        1.0        NaN   \n",
      "1485236        NaN        NaN        NaN        NaN        NaN        NaN   \n",
      "1485241        NaN        NaN        NaN        NaN        NaN        NaN   \n",
      "1485243        NaN        NaN        NaN        NaN        NaN        NaN   \n",
      "\n",
      "         Area 99 I   Latitude  Longitude  \n",
      "2              NaN  41.900043 -87.755577  \n",
      "7              1.0  41.988622 -87.661653  \n",
      "13             NaN  41.830891 -87.627238  \n",
      "15             1.0  41.756551 -87.610690  \n",
      "17             NaN  41.899260 -87.694179  \n",
      "...            ...        ...        ...  \n",
      "1485230        NaN  41.934677 -87.727206  \n",
      "1485234        NaN  41.925472 -87.707388  \n",
      "1485236        NaN  41.657966 -87.603259  \n",
      "1485241        1.0  41.765606 -87.624113  \n",
      "1485243        1.0  41.751023 -87.626980  \n",
      "\n",
      "[483664 rows x 17 columns]\n"
     ]
    }
   ],
   "source": [
    "for column in filtered_area_df.columns[1:15]:\n",
    "    mapping = {'Y': 1, 'N': np.nan}\n",
    "    \n",
    "    area_column = filtered_area_df[column].map(mapping)\n",
    "    \n",
    "    filtered_area_df[column] = area_column\n",
    "print(filtered_area_df)"
   ]
  },
  {
   "cell_type": "code",
   "execution_count": 20,
   "metadata": {},
   "outputs": [
    {
     "name": "stderr",
     "output_type": "stream",
     "text": [
      "/Users/michaelromanski/anaconda3/envs/learn-env/lib/python3.8/site-packages/pandas/core/frame.py:4317: SettingWithCopyWarning: \n",
      "A value is trying to be set on a copy of a slice from a DataFrame\n",
      "\n",
      "See the caveats in the documentation: https://pandas.pydata.org/pandas-docs/stable/user_guide/indexing.html#returning-a-view-versus-a-copy\n",
      "  return super().fillna(\n"
     ]
    }
   ],
   "source": [
    "filtered_area_df.fillna(0, inplace=True)"
   ]
  },
  {
   "cell_type": "code",
   "execution_count": 21,
   "metadata": {},
   "outputs": [],
   "source": [
    "from sklearn.preprocessing import OrdinalEncoder"
   ]
  },
  {
   "cell_type": "code",
   "execution_count": 22,
   "metadata": {},
   "outputs": [],
   "source": [
    "encoder = OrdinalEncoder()\n"
   ]
  },
  {
   "cell_type": "code",
   "execution_count": 23,
   "metadata": {},
   "outputs": [
    {
     "data": {
      "text/plain": [
       "Crash Record Id    0\n",
       "Area 00 I          0\n",
       "Area 01 I          0\n",
       "Area 02 I          0\n",
       "Area 03 I          0\n",
       "Area 04 I          0\n",
       "Area 05 I          0\n",
       "Area 06 I          0\n",
       "Area 07 I          0\n",
       "Area 08 I          0\n",
       "Area 09 I          0\n",
       "Area 10 I          0\n",
       "Area 11 I          0\n",
       "Area 12 I          0\n",
       "Area 99 I          0\n",
       "Latitude           0\n",
       "Longitude          0\n",
       "dtype: int64"
      ]
     },
     "execution_count": 23,
     "metadata": {},
     "output_type": "execute_result"
    }
   ],
   "source": [
    "filtered_area_df.isna().sum()"
   ]
  },
  {
   "cell_type": "code",
   "execution_count": null,
   "metadata": {},
   "outputs": [],
   "source": []
  },
  {
   "cell_type": "code",
   "execution_count": 28,
   "metadata": {},
   "outputs": [
    {
     "name": "stderr",
     "output_type": "stream",
     "text": [
      "<ipython-input-28-f52366645d3a>:33: SettingWithCopyWarning: \n",
      "A value is trying to be set on a copy of a slice from a DataFrame.\n",
      "Try using .loc[row_indexer,col_indexer] = value instead\n",
      "\n",
      "See the caveats in the documentation: https://pandas.pydata.org/pandas-docs/stable/user_guide/indexing.html#returning-a-view-versus-a-copy\n",
      "  filtered_area_df['Area Number'] = filtered_area_df.apply(fill_area, axis=1)\n"
     ]
    },
    {
     "data": {
      "text/plain": [
       "2           1.0\n",
       "7          99.0\n",
       "13          3.0\n",
       "15         99.0\n",
       "17         12.0\n",
       "           ... \n",
       "1485230    12.0\n",
       "1485234    11.0\n",
       "1485236     0.0\n",
       "1485241    99.0\n",
       "1485243    99.0\n",
       "Name: Area Number, Length: 483664, dtype: float64"
      ]
     },
     "execution_count": 28,
     "metadata": {},
     "output_type": "execute_result"
    }
   ],
   "source": [
    "def fill_area(row):\n",
    "    if row[\"Area 00 I\"] == 1:\n",
    "        return 0\n",
    "    elif row[\"Area 01 I\"] == 1:\n",
    "        return 1\n",
    "    elif row[\"Area 02 I\"] == 1:\n",
    "        return 2\n",
    "    elif row[\"Area 03 I\"] == 1:\n",
    "        return 3\n",
    "    elif row[\"Area 04 I\"] == 1:\n",
    "        return 4\n",
    "    elif row[\"Area 05 I\"] == 1:\n",
    "        return 5\n",
    "    elif row[\"Area 06 I\"] == 1:\n",
    "        return 6\n",
    "    elif row[\"Area 07 I\"] == 1:\n",
    "        return 7\n",
    "    elif row[\"Area 08 I\"] == 1:\n",
    "        return 8\n",
    "    elif row[\"Area 09 I\"] == 1:\n",
    "        return 9\n",
    "    elif row[\"Area 10 I\"] == 1:\n",
    "        return 10\n",
    "    elif row[\"Area 11 I\"] == 1:\n",
    "        return 11\n",
    "    elif row[\"Area 12 I\"] == 1:\n",
    "        return 12\n",
    "    elif row[\"Area 99 I\"] == 1:\n",
    "        return 99\n",
    "    else:\n",
    "        pass\n",
    "\n",
    "filtered_area_df['Area Number'] = filtered_area_df.apply(fill_area, axis=1)\n",
    "\n",
    "filtered_area_df['Area Number']"
   ]
  },
  {
   "cell_type": "code",
   "execution_count": 30,
   "metadata": {},
   "outputs": [
    {
     "data": {
      "text/plain": [
       "99.0    133928\n",
       "1.0      76671\n",
       "12.0     50993\n",
       "2.0      28716\n",
       "0.0      28128\n",
       "8.0      22496\n",
       "11.0     20057\n",
       "6.0      18053\n",
       "5.0      17111\n",
       "3.0      14542\n",
       "7.0      13473\n",
       "4.0       9770\n",
       "9.0       2935\n",
       "10.0      2335\n",
       "Name: Area Number, dtype: int64"
      ]
     },
     "execution_count": 30,
     "metadata": {},
     "output_type": "execute_result"
    }
   ],
   "source": [
    "filtered_area_df['Area Number'].value_counts()"
   ]
  },
  {
   "cell_type": "code",
   "execution_count": 31,
   "metadata": {},
   "outputs": [
    {
     "data": {
      "text/html": [
       "<div>\n",
       "<style scoped>\n",
       "    .dataframe tbody tr th:only-of-type {\n",
       "        vertical-align: middle;\n",
       "    }\n",
       "\n",
       "    .dataframe tbody tr th {\n",
       "        vertical-align: top;\n",
       "    }\n",
       "\n",
       "    .dataframe thead th {\n",
       "        text-align: right;\n",
       "    }\n",
       "</style>\n",
       "<table border=\"1\" class=\"dataframe\">\n",
       "  <thead>\n",
       "    <tr style=\"text-align: right;\">\n",
       "      <th></th>\n",
       "      <th>Crash Record Id</th>\n",
       "      <th>Area 00 I</th>\n",
       "      <th>Area 01 I</th>\n",
       "      <th>Area 02 I</th>\n",
       "      <th>Area 03 I</th>\n",
       "      <th>Area 04 I</th>\n",
       "      <th>Area 05 I</th>\n",
       "      <th>Area 06 I</th>\n",
       "      <th>Area 07 I</th>\n",
       "      <th>Area 08 I</th>\n",
       "      <th>Area 09 I</th>\n",
       "      <th>Area 10 I</th>\n",
       "      <th>Area 11 I</th>\n",
       "      <th>Area 12 I</th>\n",
       "      <th>Area 99 I</th>\n",
       "      <th>Latitude</th>\n",
       "      <th>Longitude</th>\n",
       "      <th>Area Number</th>\n",
       "    </tr>\n",
       "  </thead>\n",
       "  <tbody>\n",
       "    <tr>\n",
       "      <th>2</th>\n",
       "      <td>81dc0de2ed92aa62baccab641fa377be7feb1cc47e6554...</td>\n",
       "      <td>0.0</td>\n",
       "      <td>1.0</td>\n",
       "      <td>0.0</td>\n",
       "      <td>0.0</td>\n",
       "      <td>0.0</td>\n",
       "      <td>0.0</td>\n",
       "      <td>0.0</td>\n",
       "      <td>0.0</td>\n",
       "      <td>0.0</td>\n",
       "      <td>0.0</td>\n",
       "      <td>0.0</td>\n",
       "      <td>0.0</td>\n",
       "      <td>0.0</td>\n",
       "      <td>0.0</td>\n",
       "      <td>41.900043</td>\n",
       "      <td>-87.755577</td>\n",
       "      <td>1.0</td>\n",
       "    </tr>\n",
       "    <tr>\n",
       "      <th>7</th>\n",
       "      <td>c7c57a49274b3aa953d0b76346f68e116ed8c3d72a683a...</td>\n",
       "      <td>0.0</td>\n",
       "      <td>0.0</td>\n",
       "      <td>0.0</td>\n",
       "      <td>0.0</td>\n",
       "      <td>0.0</td>\n",
       "      <td>0.0</td>\n",
       "      <td>0.0</td>\n",
       "      <td>0.0</td>\n",
       "      <td>0.0</td>\n",
       "      <td>0.0</td>\n",
       "      <td>0.0</td>\n",
       "      <td>0.0</td>\n",
       "      <td>0.0</td>\n",
       "      <td>1.0</td>\n",
       "      <td>41.988622</td>\n",
       "      <td>-87.661653</td>\n",
       "      <td>99.0</td>\n",
       "    </tr>\n",
       "    <tr>\n",
       "      <th>13</th>\n",
       "      <td>7d0acd72b06cdef52a0784b26b75e8dbff86fa24c63410...</td>\n",
       "      <td>0.0</td>\n",
       "      <td>0.0</td>\n",
       "      <td>0.0</td>\n",
       "      <td>1.0</td>\n",
       "      <td>0.0</td>\n",
       "      <td>0.0</td>\n",
       "      <td>0.0</td>\n",
       "      <td>0.0</td>\n",
       "      <td>0.0</td>\n",
       "      <td>0.0</td>\n",
       "      <td>0.0</td>\n",
       "      <td>0.0</td>\n",
       "      <td>0.0</td>\n",
       "      <td>0.0</td>\n",
       "      <td>41.830891</td>\n",
       "      <td>-87.627238</td>\n",
       "      <td>3.0</td>\n",
       "    </tr>\n",
       "    <tr>\n",
       "      <th>15</th>\n",
       "      <td>26aaf4abbd1f8672ceb1510bc56af90e8079b53d52b7ed...</td>\n",
       "      <td>0.0</td>\n",
       "      <td>0.0</td>\n",
       "      <td>0.0</td>\n",
       "      <td>0.0</td>\n",
       "      <td>0.0</td>\n",
       "      <td>0.0</td>\n",
       "      <td>0.0</td>\n",
       "      <td>0.0</td>\n",
       "      <td>0.0</td>\n",
       "      <td>0.0</td>\n",
       "      <td>0.0</td>\n",
       "      <td>0.0</td>\n",
       "      <td>0.0</td>\n",
       "      <td>1.0</td>\n",
       "      <td>41.756551</td>\n",
       "      <td>-87.610690</td>\n",
       "      <td>99.0</td>\n",
       "    </tr>\n",
       "    <tr>\n",
       "      <th>17</th>\n",
       "      <td>169ef212c6902639b42f985403007ef11ed3ed9cbf7177...</td>\n",
       "      <td>0.0</td>\n",
       "      <td>0.0</td>\n",
       "      <td>0.0</td>\n",
       "      <td>0.0</td>\n",
       "      <td>0.0</td>\n",
       "      <td>0.0</td>\n",
       "      <td>0.0</td>\n",
       "      <td>0.0</td>\n",
       "      <td>0.0</td>\n",
       "      <td>0.0</td>\n",
       "      <td>0.0</td>\n",
       "      <td>0.0</td>\n",
       "      <td>1.0</td>\n",
       "      <td>0.0</td>\n",
       "      <td>41.899260</td>\n",
       "      <td>-87.694179</td>\n",
       "      <td>12.0</td>\n",
       "    </tr>\n",
       "  </tbody>\n",
       "</table>\n",
       "</div>"
      ],
      "text/plain": [
       "                                      Crash Record Id  Area 00 I  Area 01 I  \\\n",
       "2   81dc0de2ed92aa62baccab641fa377be7feb1cc47e6554...        0.0        1.0   \n",
       "7   c7c57a49274b3aa953d0b76346f68e116ed8c3d72a683a...        0.0        0.0   \n",
       "13  7d0acd72b06cdef52a0784b26b75e8dbff86fa24c63410...        0.0        0.0   \n",
       "15  26aaf4abbd1f8672ceb1510bc56af90e8079b53d52b7ed...        0.0        0.0   \n",
       "17  169ef212c6902639b42f985403007ef11ed3ed9cbf7177...        0.0        0.0   \n",
       "\n",
       "    Area 02 I  Area 03 I  Area 04 I  Area 05 I  Area 06 I  Area 07 I  \\\n",
       "2         0.0        0.0        0.0        0.0        0.0        0.0   \n",
       "7         0.0        0.0        0.0        0.0        0.0        0.0   \n",
       "13        0.0        1.0        0.0        0.0        0.0        0.0   \n",
       "15        0.0        0.0        0.0        0.0        0.0        0.0   \n",
       "17        0.0        0.0        0.0        0.0        0.0        0.0   \n",
       "\n",
       "    Area 08 I  Area 09 I  Area 10 I  Area 11 I  Area 12 I  Area 99 I  \\\n",
       "2         0.0        0.0        0.0        0.0        0.0        0.0   \n",
       "7         0.0        0.0        0.0        0.0        0.0        1.0   \n",
       "13        0.0        0.0        0.0        0.0        0.0        0.0   \n",
       "15        0.0        0.0        0.0        0.0        0.0        1.0   \n",
       "17        0.0        0.0        0.0        0.0        1.0        0.0   \n",
       "\n",
       "     Latitude  Longitude  Area Number  \n",
       "2   41.900043 -87.755577          1.0  \n",
       "7   41.988622 -87.661653         99.0  \n",
       "13  41.830891 -87.627238          3.0  \n",
       "15  41.756551 -87.610690         99.0  \n",
       "17  41.899260 -87.694179         12.0  "
      ]
     },
     "execution_count": 31,
     "metadata": {},
     "output_type": "execute_result"
    }
   ],
   "source": [
    "filtered_area_df.head()"
   ]
  },
  {
   "cell_type": "code",
   "execution_count": 32,
   "metadata": {},
   "outputs": [],
   "source": [
    "filtered_area_df.to_csv('../data/localdata/filtered_area.csv')"
   ]
  },
  {
   "cell_type": "code",
   "execution_count": null,
   "metadata": {},
   "outputs": [],
   "source": []
  }
 ],
 "metadata": {
  "kernelspec": {
   "display_name": "Python 3",
   "language": "python",
   "name": "python3"
  },
  "language_info": {
   "codemirror_mode": {
    "name": "ipython",
    "version": 3
   },
   "file_extension": ".py",
   "mimetype": "text/x-python",
   "name": "python",
   "nbconvert_exporter": "python",
   "pygments_lexer": "ipython3",
   "version": "3.8.5"
  }
 },
 "nbformat": 4,
 "nbformat_minor": 5
}
