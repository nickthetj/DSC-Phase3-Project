{
 "cells": [
  {
   "cell_type": "markdown",
   "id": "17d4f316-6293-41ad-a16a-f32484dc15f5",
   "metadata": {},
   "source": [
    "## Imports"
   ]
  },
  {
   "cell_type": "code",
   "execution_count": 1,
   "id": "0bbdf215-6137-4fd2-84c1-fcc32378fd28",
   "metadata": {},
   "outputs": [],
   "source": [
    "import pandas as pd\n",
    "import numpy as np\n",
    "import matplotlib.pyplot as plt\n",
    "import seaborn as sns\n",
    "\n",
    "from sklearn.model_selection import train_test_split\n",
    "from sklearn.preprocessing import normalize, OneHotEncoder\n",
    "from sklearn.linear_model import LinearRegression, LogisticRegression\n",
    "from sklearn.metrics import log_loss"
   ]
  },
  {
   "cell_type": "markdown",
   "id": "e27db700-a776-4923-bfc9-bfc20e9f1606",
   "metadata": {},
   "source": [
    "## Reading Data"
   ]
  },
  {
   "cell_type": "code",
   "execution_count": 2,
   "id": "1abc9f19-26d1-451d-9b45-6c2ca2651d05",
   "metadata": {},
   "outputs": [
    {
     "name": "stderr",
     "output_type": "stream",
     "text": [
      "/var/folders/9n/kzdbb24d6718p004k3bbjtr40000gn/T/ipykernel_5456/1848980315.py:2: DtypeWarning: Columns (19,21,40,41,42,44,48,49,50,53,55,58,59,61,71) have mixed types. Specify dtype option on import or set low_memory=False.\n",
      "  vehicle_df = pd.read_csv('../data/localdata/Traffic_Crashes_Vehicles.csv')\n",
      "/var/folders/9n/kzdbb24d6718p004k3bbjtr40000gn/T/ipykernel_5456/1848980315.py:3: DtypeWarning: Columns (20,24,25,26,29) have mixed types. Specify dtype option on import or set low_memory=False.\n",
      "  people_df = pd.read_csv('../data/localdata/Traffic_Crashes_People.csv')\n"
     ]
    }
   ],
   "source": [
    "# reading CSVs\n",
    "vehicle_df = pd.read_csv('../data/localdata/Traffic_Crashes_Vehicles.csv')\n",
    "people_df = pd.read_csv('../data/localdata/Traffic_Crashes_People.csv')\n",
    "crash_df = pd.read_csv('../data/localdata/Traffic_Crashes_Crashes.csv')"
   ]
  },
  {
   "cell_type": "markdown",
   "id": "7a546b0c-f152-4af2-8d8d-0a85f4859901",
   "metadata": {},
   "source": [
    "## Data Cleaning"
   ]
  },
  {
   "cell_type": "code",
   "execution_count": 3,
   "id": "adeb64c2-55b4-4898-b3a3-44539903d576",
   "metadata": {},
   "outputs": [],
   "source": [
    "# Crashes DataFrame\n",
    "\n",
    "crash_df.drop(columns=['WORK_ZONE_I', 'WORK_ZONE_TYPE', 'DOORING_I', 'WORKERS_PRESENT_I',\n",
    "                                          'PHOTOS_TAKEN_I', 'STATEMENTS_TAKEN_I', 'RD_NO', 'REPORT_TYPE', 'NOT_RIGHT_OF_WAY_I', 'CRASH_DATE_EST_I'], axis=1, inplace=True)\n",
    "crash_df.dropna(subset = ['INJURIES_TOTAL', 'LATITUDE', 'MOST_SEVERE_INJURY', \n",
    "                          'STREET_DIRECTION', 'BEAT_OF_OCCURRENCE'], axis=0, inplace=True)\n",
    "crash_df.columns = crash_df.columns.str.title()\n",
    "crash_df.columns = crash_df.columns.str.replace('_', ' ')"
   ]
  },
  {
   "cell_type": "code",
   "execution_count": 4,
   "id": "0372e9b6-a918-45a2-8b0f-fc65002179f9",
   "metadata": {},
   "outputs": [],
   "source": [
    "# Vehicles DataFrame\n",
    "\n",
    "vehicle_df = vehicle_df[['CRASH_UNIT_ID', 'CRASH_RECORD_ID', 'CRASH_DATE', 'UNIT_NO', 'UNIT_TYPE',\n",
    "                       'VEHICLE_YEAR', 'VEHICLE_USE', 'VEHICLE_TYPE', 'MANEUVER', 'OCCUPANT_CNT',\n",
    "                         'AREA_00_I', 'AREA_01_I', 'AREA_02_I', 'AREA_03_I', 'AREA_04_I',\n",
    "                       'AREA_05_I', 'AREA_06_I', 'AREA_07_I', 'AREA_08_I', 'AREA_09_I', 'AREA_10_I', 'AREA_11_I',\n",
    "                       'AREA_12_I', 'AREA_99_I', 'FIRST_CONTACT_POINT']]\n",
    "vehicle_df.dropna(subset = ['VEHICLE_USE', 'FIRST_CONTACT_POINT', 'UNIT_TYPE'], axis=0, inplace=True)\n",
    "vehicle_df['VEHICLE_YEAR'].fillna(value = 'Unknown', inplace=True)\n",
    "\n",
    "vehicle_df.columns = vehicle_df.columns.str.title()\n",
    "vehicle_df.columns = vehicle_df.columns.str.replace('_', ' ')"
   ]
  },
  {
   "cell_type": "code",
   "execution_count": 5,
   "id": "dcfb9d04-d160-4e1f-9f49-4f41e92ec0d4",
   "metadata": {},
   "outputs": [],
   "source": [
    "# People DataFrame\n",
    "\n",
    "people_df.drop(columns=['RD_NO', 'CELL_PHONE_USE', 'PEDPEDAL_ACTION', \n",
    "                        'PEDPEDAL_VISIBILITY', 'PEDPEDAL_LOCATION', 'SEAT_NO', \n",
    "                        'HOSPITAL', 'EMS_AGENCY', 'EMS_RUN_NO', 'BAC_RESULT', 'BAC_RESULT VALUE', \n",
    "                        'DRIVERS_LICENSE_STATE', 'DRIVERS_LICENSE_CLASS', 'CITY', 'STATE', 'ZIPCODE']\n",
    "               , axis=1, inplace=True)\n",
    "\n",
    "people_df.dropna(subset = ['AIRBAG_DEPLOYED', 'EJECTION', 'INJURY_CLASSIFICATION', 'VEHICLE_ID', \n",
    "                           'SAFETY_EQUIPMENT', 'SEX'], axis=0, inplace=True)\n",
    "\n",
    "people_df.columns = people_df.columns.str.title()\n",
    "people_df.columns = people_df.columns.str.replace('_', ' ')"
   ]
  },
  {
   "cell_type": "markdown",
   "id": "c2c1deb4-0f06-48d5-98db-26e892b86708",
   "metadata": {},
   "source": [
    "## Feature Engineering Crash Score"
   ]
  },
  {
   "cell_type": "code",
   "execution_count": 6,
   "id": "443587d7-6bda-4fba-80fb-880ac2175e8c",
   "metadata": {},
   "outputs": [],
   "source": [
    "# Injury Score\n",
    "\n",
    "crash_df[['Injuries Total', 'Injuries Fatal', 'Injuries Incapacitating', \n",
    "            'Injuries Non Incapacitating', 'Injuries Reported Not Evident']][crash_df['Injuries Total']!=0][:50]\n",
    "\n",
    "crash_df['total injured'] = crash_df['Injuries Fatal'] + crash_df['Injuries Incapacitating'] + crash_df['Injuries Non Incapacitating'] + crash_df['Injuries Reported Not Evident']\n",
    "\n",
    "# Checking if added up columns in 'total injured' make up 'Injuries Total'\n",
    "(crash_df['total injured'] == crash_df['Injuries Total']).value_counts()\n",
    "\n",
    "# Injury Score column is a linear combination of the factors that make up Injuries Total simply multiplied by a constant depending on their severity\n",
    "crash_df['Injury Score'] = crash_df['Injuries Fatal']*7 + crash_df['Injuries Incapacitating']*3 + crash_df['Injuries Non Incapacitating']*2 + crash_df['Injuries Reported Not Evident']\n",
    "\n",
    "# Accounting Material Damage of Car and Surrounding Areas )\n",
    "# Crash Score \n",
    "\n",
    "crash_df['Damage'].value_counts()\n",
    "mapping = {'OVER $1,500': 3, '$501 - $1,500': 2, \"$500 OR LESS\": 1}\n",
    "crash_df['Damage_ODE'] = crash_df['Damage'].map(mapping)\n",
    "crash_df['Injury Score'] = crash_df['Injury Score'] + crash_df['Damage_ODE']*3\n",
    "crash_df['Crash Score'] = crash_df['Injury Score']"
   ]
  },
  {
   "cell_type": "code",
   "execution_count": 7,
   "id": "2c75480b-526f-4578-a14a-beac625e8a59",
   "metadata": {},
   "outputs": [
    {
     "name": "stdout",
     "output_type": "stream",
     "text": [
      "(746042, 43)\n",
      "(1497524, 25)\n"
     ]
    }
   ],
   "source": [
    "print(crash_df.shape)\n",
    "print(vehicle_df.shape)"
   ]
  },
  {
   "cell_type": "markdown",
   "id": "91001f66-3172-4705-9da0-c434b054445c",
   "metadata": {},
   "source": [
    "## Merging Vehicle and Crash DataFrames"
   ]
  },
  {
   "cell_type": "code",
   "execution_count": 9,
   "id": "beb3a960-755a-42e1-bf68-b492a4be1da8",
   "metadata": {},
   "outputs": [
    {
     "name": "stdout",
     "output_type": "stream",
     "text": [
      "(1484628, 67)\n",
      "(744782, 67)\n"
     ]
    }
   ],
   "source": [
    "vehicles_crashes_df = vehicle_df.merge(crash_df, on = 'Crash Record Id', how = 'inner')\n",
    "vehicles_crashes_df.drop_duplicates(subset='Crash Record Id', inplace=True)"
   ]
  },
  {
   "cell_type": "code",
   "execution_count": 14,
   "id": "ca4fcdd2-da9e-4bae-bac3-f5b0a542aec7",
   "metadata": {},
   "outputs": [
    {
     "ename": "AttributeError",
     "evalue": "'OneHotEncoder' object has no attribute 'get'",
     "output_type": "error",
     "traceback": [
      "\u001b[0;31m---------------------------------------------------------------------------\u001b[0m",
      "\u001b[0;31mAttributeError\u001b[0m                            Traceback (most recent call last)",
      "Cell \u001b[0;32mIn[14], line 8\u001b[0m\n\u001b[1;32m      5\u001b[0m ohe\u001b[38;5;241m.\u001b[39mfit(vehicles_crashes_df[categorical])\n\u001b[1;32m      6\u001b[0m categorical_encoded \u001b[38;5;241m=\u001b[39m pd\u001b[38;5;241m.\u001b[39mDataFrame(ohe\u001b[38;5;241m.\u001b[39mtransform(vehicles_crashes_df[categorical])\u001b[38;5;241m.\u001b[39mtodense(),\n\u001b[1;32m      7\u001b[0m                                columns\u001b[38;5;241m=\u001b[39mohe\u001b[38;5;241m.\u001b[39mget_feature_names_out())\n\u001b[0;32m----> 8\u001b[0m \u001b[43mohe\u001b[49m\u001b[38;5;241;43m.\u001b[39;49m\u001b[43mget\u001b[49m\n",
      "\u001b[0;31mAttributeError\u001b[0m: 'OneHotEncoder' object has no attribute 'get'"
     ]
    }
   ],
   "source": [
    "categorical = ['Weather Condition', 'Roadway Surface Cond', 'Road Defect', 'Alignment',\n",
    "                       'Traffic Control Device', 'Device Condition', 'Crash Hour', 'Trafficway Type', 'Maneuver'] #potentiall vehicle defects\n",
    "\n",
    "ohe = OneHotEncoder(drop='first')\n",
    "ohe.fit(vehicles_crashes_df[categorical])\n",
    "categorical_encoded = pd.DataFrame(ohe.transform(vehicles_crashes_df[categorical]).todense(),\n",
    "                               columns=ohe.get_feature_names_out())\n",
    "# for Nick's version of OneHotEncoder, since its newer, the attribute is get_feature_names_out but get_feature_name for bobby and mike's version"
   ]
  }
 ],
 "metadata": {
  "kernelspec": {
   "display_name": "Python 3 (ipykernel)",
   "language": "python",
   "name": "python3"
  },
  "language_info": {
   "codemirror_mode": {
    "name": "ipython",
    "version": 3
   },
   "file_extension": ".py",
   "mimetype": "text/x-python",
   "name": "python",
   "nbconvert_exporter": "python",
   "pygments_lexer": "ipython3",
   "version": "3.9.16"
  }
 },
 "nbformat": 4,
 "nbformat_minor": 5
}
