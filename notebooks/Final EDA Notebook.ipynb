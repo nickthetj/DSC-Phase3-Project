{
 "cells": [
  {
   "cell_type": "markdown",
   "metadata": {},
   "source": [
    "## Imports"
   ]
  },
  {
   "cell_type": "code",
   "execution_count": 1,
   "metadata": {},
   "outputs": [],
   "source": [
    "import pandas as pd\n",
    "import numpy as np\n",
    "import matplotlib.pyplot as plt\n",
    "import seaborn as sns\n",
    "import math\n",
    "\n",
    "from sklearn.model_selection import train_test_split, cross_val_score, cross_validate, GridSearchCV\n",
    "from sklearn.preprocessing import normalize, OneHotEncoder\n",
    "from sklearn.linear_model import LinearRegression, LogisticRegression\n",
    "from sklearn.metrics import log_loss, accuracy_score, recall_score, make_scorer\n",
    "from sklearn.dummy import DummyClassifier\n",
    "from sklearn.metrics import confusion_matrix, plot_confusion_matrix\n",
    "from imblearn.over_sampling import SMOTE\n",
    "from imblearn.pipeline import Pipeline\n",
    "from sklearn.tree import DecisionTreeClassifier"
   ]
  },
  {
   "cell_type": "markdown",
   "metadata": {},
   "source": [
    "## Reading Data"
   ]
  },
  {
   "cell_type": "code",
   "execution_count": 2,
   "metadata": {},
   "outputs": [
    {
     "name": "stderr",
     "output_type": "stream",
     "text": [
      "/Users/michaelromanski/anaconda3/envs/learn-env/lib/python3.8/site-packages/IPython/core/interactiveshell.py:3145: DtypeWarning: Columns (19,21,40,41,42,44,48,49,50,53,55,58,59,61,71) have mixed types.Specify dtype option on import or set low_memory=False.\n",
      "  has_raised = await self.run_ast_nodes(code_ast.body, cell_name,\n",
      "/Users/michaelromanski/anaconda3/envs/learn-env/lib/python3.8/site-packages/IPython/core/interactiveshell.py:3145: DtypeWarning: Columns (20,24,25,26,29) have mixed types.Specify dtype option on import or set low_memory=False.\n",
      "  has_raised = await self.run_ast_nodes(code_ast.body, cell_name,\n"
     ]
    }
   ],
   "source": [
    "# reading CSVs\n",
    "vehicle_df = pd.read_csv('../data/localdata/Traffic_Crashes_Vehicles.csv')\n",
    "people_df = pd.read_csv('../data/localdata/Traffic_Crashes_People.csv')\n",
    "crash_df = pd.read_csv('../data/localdata/Traffic_Crashes_Crashes.csv')"
   ]
  },
  {
   "cell_type": "code",
   "execution_count": 3,
   "metadata": {},
   "outputs": [
    {
     "name": "stdout",
     "output_type": "stream",
     "text": [
      "<class 'pandas.core.frame.DataFrame'>\n",
      "RangeIndex: 752960 entries, 0 to 752959\n",
      "Data columns (total 49 columns):\n",
      " #   Column                         Non-Null Count   Dtype  \n",
      "---  ------                         --------------   -----  \n",
      " 0   CRASH_RECORD_ID                752960 non-null  object \n",
      " 1   RD_NO                          748818 non-null  object \n",
      " 2   CRASH_DATE_EST_I               56786 non-null   object \n",
      " 3   CRASH_DATE                     752960 non-null  object \n",
      " 4   POSTED_SPEED_LIMIT             752960 non-null  int64  \n",
      " 5   TRAFFIC_CONTROL_DEVICE         752960 non-null  object \n",
      " 6   DEVICE_CONDITION               752960 non-null  object \n",
      " 7   WEATHER_CONDITION              752960 non-null  object \n",
      " 8   LIGHTING_CONDITION             752960 non-null  object \n",
      " 9   FIRST_CRASH_TYPE               752960 non-null  object \n",
      " 10  TRAFFICWAY_TYPE                752960 non-null  object \n",
      " 11  LANE_CNT                       199004 non-null  float64\n",
      " 12  ALIGNMENT                      752960 non-null  object \n",
      " 13  ROADWAY_SURFACE_COND           752960 non-null  object \n",
      " 14  ROAD_DEFECT                    752960 non-null  object \n",
      " 15  REPORT_TYPE                    731463 non-null  object \n",
      " 16  CRASH_TYPE                     752960 non-null  object \n",
      " 17  INTERSECTION_RELATED_I         172523 non-null  object \n",
      " 18  NOT_RIGHT_OF_WAY_I             35048 non-null   object \n",
      " 19  HIT_AND_RUN_I                  234951 non-null  object \n",
      " 20  DAMAGE                         752960 non-null  object \n",
      " 21  DATE_POLICE_NOTIFIED           752960 non-null  object \n",
      " 22  PRIM_CONTRIBUTORY_CAUSE        752960 non-null  object \n",
      " 23  SEC_CONTRIBUTORY_CAUSE         752960 non-null  object \n",
      " 24  STREET_NO                      752960 non-null  int64  \n",
      " 25  STREET_DIRECTION               752956 non-null  object \n",
      " 26  STREET_NAME                    752959 non-null  object \n",
      " 27  BEAT_OF_OCCURRENCE             752955 non-null  float64\n",
      " 28  PHOTOS_TAKEN_I                 9591 non-null    object \n",
      " 29  STATEMENTS_TAKEN_I             16263 non-null   object \n",
      " 30  DOORING_I                      2310 non-null    object \n",
      " 31  WORK_ZONE_I                    4353 non-null    object \n",
      " 32  WORK_ZONE_TYPE                 3393 non-null    object \n",
      " 33  WORKERS_PRESENT_I              1122 non-null    object \n",
      " 34  NUM_UNITS                      752960 non-null  int64  \n",
      " 35  MOST_SEVERE_INJURY             751320 non-null  object \n",
      " 36  INJURIES_TOTAL                 751331 non-null  float64\n",
      " 37  INJURIES_FATAL                 751331 non-null  float64\n",
      " 38  INJURIES_INCAPACITATING        751331 non-null  float64\n",
      " 39  INJURIES_NON_INCAPACITATING    751331 non-null  float64\n",
      " 40  INJURIES_REPORTED_NOT_EVIDENT  751331 non-null  float64\n",
      " 41  INJURIES_NO_INDICATION         751331 non-null  float64\n",
      " 42  INJURIES_UNKNOWN               751331 non-null  float64\n",
      " 43  CRASH_HOUR                     752960 non-null  int64  \n",
      " 44  CRASH_DAY_OF_WEEK              752960 non-null  int64  \n",
      " 45  CRASH_MONTH                    752960 non-null  int64  \n",
      " 46  LATITUDE                       747985 non-null  float64\n",
      " 47  LONGITUDE                      747985 non-null  float64\n",
      " 48  LOCATION                       747985 non-null  object \n",
      "dtypes: float64(11), int64(6), object(32)\n",
      "memory usage: 281.5+ MB\n"
     ]
    }
   ],
   "source": [
    "crash_df.info()"
   ]
  },
  {
   "cell_type": "markdown",
   "metadata": {},
   "source": [
    "## Data Cleaning"
   ]
  },
  {
   "cell_type": "code",
   "execution_count": 4,
   "metadata": {},
   "outputs": [],
   "source": [
    "# Crashes DataFrame\n",
    "\n",
    "crash_df.drop(columns=['WORK_ZONE_I', 'WORK_ZONE_TYPE', 'DOORING_I', 'WORKERS_PRESENT_I',\n",
    "                                          'PHOTOS_TAKEN_I', 'STATEMENTS_TAKEN_I', 'RD_NO', 'REPORT_TYPE', 'CRASH_DATE_EST_I'], axis=1, inplace=True)\n",
    "crash_df.dropna(subset = ['INJURIES_TOTAL', 'LATITUDE', 'MOST_SEVERE_INJURY', \n",
    "                          'STREET_DIRECTION', 'BEAT_OF_OCCURRENCE'], axis=0, inplace=True)\n",
    "crash_df.columns = crash_df.columns.str.title()\n",
    "crash_df.columns = crash_df.columns.str.replace('_', ' ')"
   ]
  },
  {
   "cell_type": "code",
   "execution_count": 5,
   "metadata": {},
   "outputs": [],
   "source": [
    "# Vehicles DataFrame\n",
    "\n",
    "vehicle_df = vehicle_df[['CRASH_UNIT_ID', 'CRASH_RECORD_ID', 'CRASH_DATE', 'UNIT_NO', 'UNIT_TYPE',\n",
    "                       'VEHICLE_YEAR', 'VEHICLE_USE', 'VEHICLE_TYPE', 'VEHICLE_DEFECT', 'MANEUVER', 'OCCUPANT_CNT',\n",
    "                         'AREA_00_I', 'AREA_01_I', 'AREA_02_I', 'AREA_03_I', 'AREA_04_I',\n",
    "                       'AREA_05_I', 'AREA_06_I', 'AREA_07_I', 'AREA_08_I', 'AREA_09_I', 'AREA_10_I', 'AREA_11_I',\n",
    "                       'AREA_12_I', 'AREA_99_I', 'FIRST_CONTACT_POINT']]\n",
    "vehicle_df.dropna(subset = ['VEHICLE_USE', 'FIRST_CONTACT_POINT', 'UNIT_TYPE'], axis=0, inplace=True)\n",
    "vehicle_df['VEHICLE_YEAR'].fillna(value = 'Unknown', inplace=True)\n",
    "\n",
    "vehicle_df.columns = vehicle_df.columns.str.title()\n",
    "vehicle_df.columns = vehicle_df.columns.str.replace('_', ' ')"
   ]
  },
  {
   "cell_type": "code",
   "execution_count": 6,
   "metadata": {},
   "outputs": [],
   "source": [
    "# People DataFrame\n",
    "\n",
    "people_df.drop(columns=['RD_NO', 'CELL_PHONE_USE', 'PEDPEDAL_ACTION', \n",
    "                        'PEDPEDAL_VISIBILITY', 'PEDPEDAL_LOCATION', 'SEAT_NO', \n",
    "                        'HOSPITAL', 'EMS_AGENCY', 'EMS_RUN_NO', 'BAC_RESULT', 'BAC_RESULT VALUE', \n",
    "                        'DRIVERS_LICENSE_STATE', 'DRIVERS_LICENSE_CLASS', 'CITY', 'STATE', 'ZIPCODE']\n",
    "               , axis=1, inplace=True)\n",
    "\n",
    "people_df.dropna(subset = ['AIRBAG_DEPLOYED', 'EJECTION', 'INJURY_CLASSIFICATION', 'VEHICLE_ID', \n",
    "                           'SAFETY_EQUIPMENT', 'SEX'], axis=0, inplace=True)\n",
    "\n",
    "people_df.columns = people_df.columns.str.title()\n",
    "people_df.columns = people_df.columns.str.replace('_', ' ')"
   ]
  },
  {
   "cell_type": "markdown",
   "metadata": {},
   "source": [
    "## Feature Engineering Crash Score"
   ]
  },
  {
   "cell_type": "code",
   "execution_count": 7,
   "metadata": {},
   "outputs": [],
   "source": [
    "# Injury Score\n",
    "\n",
    "crash_df[['Injuries Total', 'Injuries Fatal', 'Injuries Incapacitating', \n",
    "            'Injuries Non Incapacitating', 'Injuries Reported Not Evident']][crash_df['Injuries Total']!=0][:50]\n",
    "\n",
    "crash_df['total injured'] = crash_df['Injuries Fatal'] + crash_df['Injuries Incapacitating'] + crash_df['Injuries Non Incapacitating'] + crash_df['Injuries Reported Not Evident']\n",
    "\n",
    "# Checking if added up columns in 'total injured' make up 'Injuries Total'\n",
    "(crash_df['total injured'] == crash_df['Injuries Total']).value_counts()\n",
    "\n",
    "# Injury Score column is a linear combination of the factors that make up Injuries Total simply multiplied by a constant depending on their severity\n",
    "crash_df['Injury Score'] = crash_df['Injuries Fatal']*7 + crash_df['Injuries Incapacitating']*3 + crash_df['Injuries Non Incapacitating']*2 + crash_df['Injuries Reported Not Evident']\n",
    "\n",
    "# Accounting Material Damage of Car and Surrounding Areas )\n",
    "# Crash Score \n",
    "\n",
    "crash_df['Damage'].value_counts()\n",
    "mapping = {'OVER $1,500': 3, '$501 - $1,500': 2, \"$500 OR LESS\": 1}\n",
    "crash_df['Damage_ODE'] = crash_df['Damage'].map(mapping)\n",
    "crash_df['Injury Score'] = crash_df['Injury Score'] + crash_df['Damage_ODE']*3\n",
    "crash_df['Crash Score'] = crash_df['Injury Score']"
   ]
  },
  {
   "cell_type": "markdown",
   "metadata": {},
   "source": [
    "## Injury Classification Column (Predictor)"
   ]
  },
  {
   "cell_type": "code",
   "execution_count": 8,
   "metadata": {},
   "outputs": [],
   "source": [
    "# def fill_injury_class_rows(row):\n",
    "#     if row[\"Injuries Fatal\"] > 0 :\n",
    "#         return 'Fatal'\n",
    "#     elif row[\"Injuries Incapacitating\"] > 0 :\n",
    "#         return 'Incapacitating'\n",
    "#     elif row['Injuries Non Incapacitating'] + row['Injuries Reported Not Evident'] > 0:\n",
    "#         return 'Minor'\n",
    "#     else:\n",
    "#         return 'None Injured'\n",
    "\n",
    "# crash_df['Injury Classification'] = crash_df.apply(fill_injury_class_rows, axis=1)\n",
    "\n",
    "# crash_df['Injury Classification']"
   ]
  },
  {
   "cell_type": "code",
   "execution_count": 9,
   "metadata": {},
   "outputs": [],
   "source": [
    "def fill_fatal_class_rows(row):\n",
    "    if row[\"Injuries Fatal\"] > 0 :\n",
    "        return 'Fatal'\n",
    "    else:\n",
    "        return 'Not Fatal'\n",
    "\n",
    "crash_df['Fatality Classification'] = crash_df.apply(fill_fatal_class_rows, axis=1)"
   ]
  },
  {
   "cell_type": "code",
   "execution_count": 10,
   "metadata": {},
   "outputs": [
    {
     "data": {
      "text/plain": [
       "Not Fatal    0.998912\n",
       "Fatal        0.001088\n",
       "Name: Fatality Classification, dtype: float64"
      ]
     },
     "execution_count": 10,
     "metadata": {},
     "output_type": "execute_result"
    }
   ],
   "source": [
    "crash_df['Fatality Classification'].value_counts(normalize=True)\n"
   ]
  },
  {
   "cell_type": "code",
   "execution_count": 11,
   "metadata": {},
   "outputs": [
    {
     "data": {
      "text/plain": [
       "PARKED MOTOR VEHICLE            174074\n",
       "REAR END                        168995\n",
       "SIDESWIPE SAME DIRECTION        113131\n",
       "TURNING                         106334\n",
       "ANGLE                            81051\n",
       "FIXED OBJECT                     34650\n",
       "PEDESTRIAN                       17163\n",
       "PEDALCYCLIST                     11205\n",
       "SIDESWIPE OPPOSITE DIRECTION     10627\n",
       "OTHER OBJECT                      7184\n",
       "REAR TO FRONT                     6780\n",
       "HEAD ON                           6386\n",
       "REAR TO SIDE                      4036\n",
       "OTHER NONCOLLISION                2287\n",
       "REAR TO REAR                      1435\n",
       "ANIMAL                             529\n",
       "OVERTURNED                         446\n",
       "TRAIN                               39\n",
       "Name: First Crash Type, dtype: int64"
      ]
     },
     "execution_count": 11,
     "metadata": {},
     "output_type": "execute_result"
    }
   ],
   "source": [
    "crash_df['First Crash Type'].value_counts()"
   ]
  },
  {
   "cell_type": "code",
   "execution_count": 12,
   "metadata": {},
   "outputs": [
    {
     "data": {
      "text/plain": [
       "UNABLE TO DETERMINE                                                                 288602\n",
       "FAILING TO YIELD RIGHT-OF-WAY                                                        81766\n",
       "FOLLOWING TOO CLOSELY                                                                73678\n",
       "NOT APPLICABLE                                                                       39190\n",
       "IMPROPER OVERTAKING/PASSING                                                          36649\n",
       "FAILING TO REDUCE SPEED TO AVOID CRASH                                               31683\n",
       "IMPROPER BACKING                                                                     29952\n",
       "IMPROPER LANE USAGE                                                                  26990\n",
       "IMPROPER TURNING/NO SIGNAL                                                           24770\n",
       "DRIVING SKILLS/KNOWLEDGE/EXPERIENCE                                                  24671\n",
       "DISREGARDING TRAFFIC SIGNALS                                                         14523\n",
       "WEATHER                                                                              11333\n",
       "OPERATING VEHICLE IN ERRATIC, RECKLESS, CARELESS, NEGLIGENT OR AGGRESSIVE MANNER      9523\n",
       "DISREGARDING STOP SIGN                                                                8208\n",
       "DISTRACTION - FROM INSIDE VEHICLE                                                     5169\n",
       "EQUIPMENT - VEHICLE CONDITION                                                         4643\n",
       "PHYSICAL CONDITION OF DRIVER                                                          4525\n",
       "VISION OBSCURED (SIGNS, TREE LIMBS, BUILDINGS, ETC.)                                  4268\n",
       "DRIVING ON WRONG SIDE/WRONG WAY                                                       3935\n",
       "UNDER THE INFLUENCE OF ALCOHOL/DRUGS (USE WHEN ARREST IS EFFECTED)                    3593\n",
       "DISTRACTION - FROM OUTSIDE VEHICLE                                                    3117\n",
       "EXCEEDING AUTHORIZED SPEED LIMIT                                                      1956\n",
       "ROAD ENGINEERING/SURFACE/MARKING DEFECTS                                              1899\n",
       "EXCEEDING SAFE SPEED FOR CONDITIONS                                                   1671\n",
       "ROAD CONSTRUCTION/MAINTENANCE                                                         1640\n",
       "DISREGARDING OTHER TRAFFIC SIGNS                                                      1605\n",
       "EVASIVE ACTION DUE TO ANIMAL, OBJECT, NONMOTORIST                                     1398\n",
       "CELL PHONE USE OTHER THAN TEXTING                                                     1008\n",
       "DISREGARDING ROAD MARKINGS                                                             930\n",
       "HAD BEEN DRINKING (USE WHEN ARREST IS NOT MADE)                                        778\n",
       "ANIMAL                                                                                 629\n",
       "TURNING RIGHT ON RED                                                                   546\n",
       "DISTRACTION - OTHER ELECTRONIC DEVICE (NAVIGATION DEVICE, DVD PLAYER, ETC.)            355\n",
       "RELATED TO BUS STOP                                                                    330\n",
       "TEXTING                                                                                299\n",
       "DISREGARDING YIELD SIGN                                                                261\n",
       "PASSING STOPPED SCHOOL BUS                                                              90\n",
       "BICYCLE ADVANCING LEGALLY ON RED LIGHT                                                  76\n",
       "OBSTRUCTED CROSSWALKS                                                                   71\n",
       "MOTORCYCLE ADVANCING LEGALLY ON RED LIGHT                                               22\n",
       "Name: Prim Contributory Cause, dtype: int64"
      ]
     },
     "execution_count": 12,
     "metadata": {},
     "output_type": "execute_result"
    }
   ],
   "source": [
    "crash_df['Prim Contributory Cause'].value_counts()"
   ]
  },
  {
   "cell_type": "markdown",
   "metadata": {},
   "source": [
    "## Merging Vehicle and Crash DataFrames"
   ]
  },
  {
   "cell_type": "code",
   "execution_count": 13,
   "metadata": {},
   "outputs": [],
   "source": [
    "vehicles_crashes_df = vehicle_df.merge(crash_df, on = 'Crash Record Id', how = 'inner')\n",
    "vehicles_crashes_df.drop_duplicates(subset='Crash Record Id', inplace=True)"
   ]
  },
  {
   "cell_type": "code",
   "execution_count": 14,
   "metadata": {},
   "outputs": [],
   "source": [
    "categorical = ['Weather Condition', 'Roadway Surface Cond', 'Road Defect', 'Alignment',\n",
    "                       'Traffic Control Device', 'Device Condition', 'Crash Hour', 'Trafficway Type', 'Maneuver', 'Vehicle Defect',\n",
    "               'Lighting Condition', 'First Crash Type', 'Prim Contributory Cause', 'Sec Contributory Cause'] #potentiall vehicle defects\n",
    "\n",
    "ohe = OneHotEncoder(drop='first')\n",
    "ohe.fit(vehicles_crashes_df[categorical])\n",
    "\n",
    "categorical_encoded = pd.DataFrame(ohe.transform(vehicles_crashes_df[categorical]).todense(),\n",
    "                               columns=ohe.get_feature_names())\n",
    "# for Nick's version of OneHotEncoder, since its newer, the attribute is get_feature_names_out but get_feature_name for bobby and mike's version"
   ]
  },
  {
   "cell_type": "code",
   "execution_count": 15,
   "metadata": {},
   "outputs": [
    {
     "data": {
      "text/plain": [
       "(745092, 238)"
      ]
     },
     "execution_count": 15,
     "metadata": {},
     "output_type": "execute_result"
    }
   ],
   "source": [
    "categorical_encoded.shape"
   ]
  },
  {
   "cell_type": "code",
   "execution_count": 16,
   "metadata": {},
   "outputs": [
    {
     "data": {
      "text/plain": [
       "(745092, 70)"
      ]
     },
     "execution_count": 16,
     "metadata": {},
     "output_type": "execute_result"
    }
   ],
   "source": [
    "vehicles_crashes_df.shape"
   ]
  },
  {
   "cell_type": "markdown",
   "metadata": {},
   "source": [
    "## Creating Train_Test_Split"
   ]
  },
  {
   "cell_type": "code",
   "execution_count": 17,
   "metadata": {},
   "outputs": [],
   "source": [
    "#X = categorical_encoded\n",
    "#y = vehicles_crashes_df['Fatal Classification']\n",
    "\n",
    "#X_train, X_test, y_train, y_test = train_test_split(X, y)"
   ]
  },
  {
   "cell_type": "markdown",
   "metadata": {},
   "source": [
    "## Creating Dummy Model"
   ]
  },
  {
   "cell_type": "code",
   "execution_count": 18,
   "metadata": {},
   "outputs": [],
   "source": [
    "#Instantiate dummy model that will always predict majority class\n",
    "#dummy_model = DummyClassifier(strategy=\"most_frequent\", random_state = 42)\n",
    "#dummy_model.fit(X_train, y_train)\n",
    "\n",
    "#baseline score\n",
    "#dummy_model.score(X_train, y_train)"
   ]
  },
  {
   "cell_type": "code",
   "execution_count": 19,
   "metadata": {},
   "outputs": [],
   "source": [
    "#y_train.value_counts(normalize=True)"
   ]
  },
  {
   "cell_type": "code",
   "execution_count": 20,
   "metadata": {},
   "outputs": [],
   "source": [
    "#can also grab cross_val mean to see how it’s performing\n",
    "#cv_results = cross_val_score(dummy_model, X_train, y_train, cv=5)\n",
    "#cv_results.mean()"
   ]
  },
  {
   "cell_type": "markdown",
   "metadata": {},
   "source": [
    "## Testing Dummy Model"
   ]
  },
  {
   "cell_type": "code",
   "execution_count": 21,
   "metadata": {},
   "outputs": [],
   "source": [
    "#dummy_model.score(X_test, y_test)"
   ]
  },
  {
   "cell_type": "markdown",
   "metadata": {},
   "source": [
    "## Creating Logistic Regression Model"
   ]
  },
  {
   "cell_type": "code",
   "execution_count": 22,
   "metadata": {},
   "outputs": [],
   "source": [
    "# logreg = LogisticRegression(random_state=42, max_iter = 1000)\n",
    "# log_model = logreg.fit(X_train, y_train)\n",
    "\n",
    "# y_hat_train = log_model.predict(X_train)\n",
    "# y_hat_test = log_model.predict(X_test)"
   ]
  },
  {
   "cell_type": "code",
   "execution_count": 23,
   "metadata": {},
   "outputs": [],
   "source": [
    "#plot_confusion_matrix(log_model, X_train, y_train);"
   ]
  },
  {
   "cell_type": "code",
   "execution_count": 24,
   "metadata": {},
   "outputs": [],
   "source": [
    "# print(\"Training Score: \", log_model.score(X_train, y_train))\n",
    "# print(\"Testing Score: \", log_model.score(X_test, y_test))"
   ]
  },
  {
   "cell_type": "markdown",
   "metadata": {},
   "source": [
    "## SMOTE"
   ]
  },
  {
   "cell_type": "code",
   "execution_count": 25,
   "metadata": {},
   "outputs": [],
   "source": [
    "#CAUTION! This code takes about 20 minutes to run.\n",
    "# # Instantiate our SMOTE\n",
    "# sm = SMOTE(random_state=42)\n",
    "# # Fit and resample on the training data\n",
    "# X_train_smote, y_train_smote = sm.fit_resample(X_train, y_train)"
   ]
  },
  {
   "cell_type": "code",
   "execution_count": 26,
   "metadata": {},
   "outputs": [],
   "source": [
    "#CAUTION! This code takes about 2 hours to run. \n",
    "\n",
    "# #Run Log Model on resampled SMOTE data\n",
    "# log_model = logreg.fit(X_train_smote, y_train_smote)\n",
    "\n",
    "# print(\"Training Score: \", log_model.score(X_train_smote, y_train_smote))\n",
    "# print(\"Testing Score: \", log_model.score(X_test, y_test))"
   ]
  },
  {
   "cell_type": "code",
   "execution_count": 27,
   "metadata": {},
   "outputs": [],
   "source": [
    "#y_train_smote.value_counts()"
   ]
  },
  {
   "cell_type": "code",
   "execution_count": 28,
   "metadata": {},
   "outputs": [],
   "source": [
    "#plot_confusion_matrix(log_model, X_train_smote, y_train_smote);"
   ]
  },
  {
   "cell_type": "markdown",
   "metadata": {},
   "source": [
    "Looking at this confusion matrix, it appeared that the model was performing well when predicting Fatal and None Injured. As Vision Zero's goal is for zero fatalities, we decided to hone our focus on Fatal vs. Not Fatal."
   ]
  },
  {
   "cell_type": "markdown",
   "metadata": {},
   "source": [
    "## Decision Tree Model"
   ]
  },
  {
   "cell_type": "code",
   "execution_count": 29,
   "metadata": {},
   "outputs": [],
   "source": [
    "# normal decision tree model\n",
    "# clf = DecisionTreeClassifier(criterion='gini', random_state=42, )\n",
    "\n",
    "# clf.fit(X_train, y_train)\n",
    "\n",
    "# y_preds = clf.predict(X_test)\n",
    "\n",
    "# print('Accuracy: ', accuracy_score(y_test, y_preds))\n",
    "\n",
    "# smote decision tree model\n",
    "# clf = DecisionTreeClassifier(criterion='gini', random_state=42, max_depth =10)\n",
    "\n",
    "# clf.fit(X_train_smote, y_train_smote)\n",
    "\n",
    "# y_preds = clf.predict(X_test)\n",
    "\n",
    "# print('Accuracy: ', accuracy_score(y_test, y_preds))"
   ]
  },
  {
   "cell_type": "markdown",
   "metadata": {},
   "source": [
    "## Creating Train_Test_Split for Fatal vs. Not Fatal"
   ]
  },
  {
   "cell_type": "code",
   "execution_count": 30,
   "metadata": {},
   "outputs": [
    {
     "data": {
      "text/plain": [
       "Not Fatal    0.998914\n",
       "Fatal        0.001086\n",
       "Name: Fatality Classification, dtype: float64"
      ]
     },
     "execution_count": 30,
     "metadata": {},
     "output_type": "execute_result"
    }
   ],
   "source": [
    "vehicles_crashes_df['Fatality Classification'].value_counts(normalize=True)"
   ]
  },
  {
   "cell_type": "code",
   "execution_count": 31,
   "metadata": {},
   "outputs": [],
   "source": [
    "X = categorical_encoded\n",
    "y = vehicles_crashes_df['Fatality Classification']\n",
    "\n",
    "X_train, X_test, y_train, y_test = train_test_split(X, y, random_state=42)"
   ]
  },
  {
   "cell_type": "markdown",
   "metadata": {},
   "source": [
    "## Creating Dummy Model"
   ]
  },
  {
   "cell_type": "code",
   "execution_count": 32,
   "metadata": {},
   "outputs": [
    {
     "data": {
      "text/plain": [
       "0.0"
      ]
     },
     "execution_count": 32,
     "metadata": {},
     "output_type": "execute_result"
    }
   ],
   "source": [
    "#Instantiate dummy model that will always predict majority class\n",
    "dummy_model = DummyClassifier(strategy=\"most_frequent\", random_state = 42)\n",
    "dummy_model.fit(X_train, y_train)\n",
    "\n",
    "y_true = y_train\n",
    "y_pred = dummy_model.predict(X_train)\n",
    "#baseline score\n",
    "recall_score(y_true, y_pred, pos_label='Fatal')"
   ]
  },
  {
   "cell_type": "markdown",
   "metadata": {},
   "source": [
    "#### Ensuring we are evaluating models based on recall.\n",
    "False Negatives in this case means that our model predicted a crash to be Not Fatal when in actuality it was Fatal. As lives are of the upmost importance, we want to minimize that chance of a False Negative as much as possible. "
   ]
  },
  {
   "cell_type": "code",
   "execution_count": 33,
   "metadata": {},
   "outputs": [],
   "source": [
    "recall_scorer = make_scorer(recall_score, pos_label='Fatal')"
   ]
  },
  {
   "cell_type": "code",
   "execution_count": 34,
   "metadata": {},
   "outputs": [
    {
     "data": {
      "text/plain": [
       "0.0"
      ]
     },
     "execution_count": 34,
     "metadata": {},
     "output_type": "execute_result"
    }
   ],
   "source": [
    "cv_score_dummy = cross_val_score(estimator = dummy_model, X=X_train, y=y_train, scoring = recall_scorer, n_jobs=-1).mean()\n",
    "cv_score_dummy"
   ]
  },
  {
   "cell_type": "markdown",
   "metadata": {},
   "source": [
    "## Creating a Logistic Regression Model"
   ]
  },
  {
   "cell_type": "code",
   "execution_count": 35,
   "metadata": {},
   "outputs": [
    {
     "ename": "NameError",
     "evalue": "name 'log_model' is not defined",
     "output_type": "error",
     "traceback": [
      "\u001b[0;31m---------------------------------------------------------------------------\u001b[0m",
      "\u001b[0;31mNameError\u001b[0m                                 Traceback (most recent call last)",
      "\u001b[0;32m<ipython-input-35-b694612577aa>\u001b[0m in \u001b[0;36m<module>\u001b[0;34m\u001b[0m\n\u001b[1;32m      2\u001b[0m \u001b[0;31m#logreg.fit(X_train, y_train)\u001b[0m\u001b[0;34m\u001b[0m\u001b[0;34m\u001b[0m\u001b[0;34m\u001b[0m\u001b[0m\n\u001b[1;32m      3\u001b[0m \u001b[0my_true\u001b[0m \u001b[0;34m=\u001b[0m \u001b[0my_train\u001b[0m\u001b[0;34m\u001b[0m\u001b[0;34m\u001b[0m\u001b[0m\n\u001b[0;32m----> 4\u001b[0;31m \u001b[0my_pred\u001b[0m \u001b[0;34m=\u001b[0m \u001b[0mlog_model\u001b[0m\u001b[0;34m.\u001b[0m\u001b[0mpredict\u001b[0m\u001b[0;34m(\u001b[0m\u001b[0mX_train\u001b[0m\u001b[0;34m)\u001b[0m\u001b[0;34m\u001b[0m\u001b[0;34m\u001b[0m\u001b[0m\n\u001b[0m\u001b[1;32m      5\u001b[0m \u001b[0mrecall_score\u001b[0m\u001b[0;34m(\u001b[0m\u001b[0my_true\u001b[0m\u001b[0;34m,\u001b[0m \u001b[0my_pred\u001b[0m\u001b[0;34m,\u001b[0m \u001b[0mpos_label\u001b[0m \u001b[0;34m=\u001b[0m \u001b[0;34m'Fatal'\u001b[0m\u001b[0;34m)\u001b[0m\u001b[0;34m\u001b[0m\u001b[0;34m\u001b[0m\u001b[0m\n",
      "\u001b[0;31mNameError\u001b[0m: name 'log_model' is not defined"
     ]
    }
   ],
   "source": [
    "#logreg = LogisticRegression(random_state=42, max_iter = 1000, class_weight = 'balanced')\n",
    "#logreg.fit(X_train, y_train)\n",
    "#y_true = y_train\n",
    "#y_pred = log_model.predict(X_train)\n",
    "#recall_score(y_true, y_pred, pos_label = 'Fatal')"
   ]
  },
  {
   "cell_type": "code",
   "execution_count": 38,
   "metadata": {},
   "outputs": [
    {
     "data": {
      "text/plain": [
       "0.8611570247933884"
      ]
     },
     "execution_count": 38,
     "metadata": {},
     "output_type": "execute_result"
    }
   ],
   "source": [
    "logreg = LogisticRegression(random_state=42, max_iter = 2000, class_weight = 'balanced', penalty = 'none')\n",
    "logreg.fit(X_train, y_train)\n",
    "y_true = y_train\n",
    "y_pred = logreg.predict(X_train)\n",
    "recall_score(y_true, y_pred, pos_label = 'Fatal')"
   ]
  },
  {
   "cell_type": "code",
   "execution_count": null,
   "metadata": {},
   "outputs": [],
   "source": [
    "# Attempting to flip our confusion matrix so Fatal is positive label\n",
    "cm = confusion_matrix(y_true, y_pred).T\n",
    "cm"
   ]
  },
  {
   "cell_type": "code",
   "execution_count": null,
   "metadata": {},
   "outputs": [],
   "source": [
    "plot_confusion_matrix(log_model, X_train, y_train, labels = ['Not Fatal', 'Fatal']);"
   ]
  },
  {
   "cell_type": "code",
   "execution_count": null,
   "metadata": {},
   "outputs": [],
   "source": [
    "y_train"
   ]
  },
  {
   "cell_type": "code",
   "execution_count": null,
   "metadata": {},
   "outputs": [],
   "source": [
    "log_model.classes_"
   ]
  },
  {
   "cell_type": "code",
   "execution_count": null,
   "metadata": {},
   "outputs": [],
   "source": [
    "#cv_score_log = cross_val_score(estimator = log_model, X=X_train, y=y_train, scoring = recall_scorer, n_jobs=4).mean()\n",
    "#cv_score_log"
   ]
  },
  {
   "cell_type": "markdown",
   "metadata": {},
   "source": [
    "#### Logistic Regression Pipeline including SMOTE and Model"
   ]
  },
  {
   "cell_type": "code",
   "execution_count": null,
   "metadata": {},
   "outputs": [],
   "source": [
    "#enter non-smoted data into pipeline"
   ]
  },
  {
   "cell_type": "code",
   "execution_count": 39,
   "metadata": {},
   "outputs": [],
   "source": [
    "logpipe = Pipeline([('smote', SMOTE(random_state=42, sampling_strategy = 0.3)),\n",
    "                    ('model', logreg)])\n",
    "#logpipe.fit(X_train, y_train)"
   ]
  },
  {
   "cell_type": "code",
   "execution_count": 40,
   "metadata": {},
   "outputs": [
    {
     "data": {
      "text/plain": [
       "0.715702479338843"
      ]
     },
     "execution_count": 40,
     "metadata": {},
     "output_type": "execute_result"
    }
   ],
   "source": [
    "#Cross Validating LogReg with Pipeline\n",
    "cv_score_logpipe = cross_val_score(estimator=logpipe, X=X_train, y=y_train, scoring = recall_scorer, n_jobs = -1).mean()\n",
    "cv_score_logpipe"
   ]
  },
  {
   "cell_type": "code",
   "execution_count": null,
   "metadata": {},
   "outputs": [],
   "source": []
  },
  {
   "cell_type": "code",
   "execution_count": null,
   "metadata": {},
   "outputs": [],
   "source": [
    "plot_confusion_matrix(logpipe, X_train, y_train, labels = ['Not Fatal', 'Fatal']);"
   ]
  },
  {
   "cell_type": "code",
   "execution_count": 42,
   "metadata": {},
   "outputs": [
    {
     "data": {
      "text/html": [
       "<div>\n",
       "<style scoped>\n",
       "    .dataframe tbody tr th:only-of-type {\n",
       "        vertical-align: middle;\n",
       "    }\n",
       "\n",
       "    .dataframe tbody tr th {\n",
       "        vertical-align: top;\n",
       "    }\n",
       "\n",
       "    .dataframe thead th {\n",
       "        text-align: right;\n",
       "    }\n",
       "</style>\n",
       "<table border=\"1\" class=\"dataframe\">\n",
       "  <thead>\n",
       "    <tr style=\"text-align: right;\">\n",
       "      <th></th>\n",
       "      <th>coefficients</th>\n",
       "      <th>features</th>\n",
       "    </tr>\n",
       "  </thead>\n",
       "  <tbody>\n",
       "    <tr>\n",
       "      <th>167</th>\n",
       "      <td>-10.9933</td>\n",
       "      <td>x12_DISTRACTION - FROM INSIDE VEHICLE</td>\n",
       "    </tr>\n",
       "    <tr>\n",
       "      <th>196</th>\n",
       "      <td>-11.2544</td>\n",
       "      <td>x12_UNDER THE INFLUENCE OF ALCOHOL/DRUGS (USE ...</td>\n",
       "    </tr>\n",
       "    <tr>\n",
       "      <th>164</th>\n",
       "      <td>-11.3092</td>\n",
       "      <td>x12_DISREGARDING STOP SIGN</td>\n",
       "    </tr>\n",
       "    <tr>\n",
       "      <th>197</th>\n",
       "      <td>-11.4053</td>\n",
       "      <td>x12_VISION OBSCURED (SIGNS, TREE LIMBS, BUILDI...</td>\n",
       "    </tr>\n",
       "    <tr>\n",
       "      <th>176</th>\n",
       "      <td>-11.6525</td>\n",
       "      <td>x12_FAILING TO REDUCE SPEED TO AVOID CRASH</td>\n",
       "    </tr>\n",
       "    <tr>\n",
       "      <th>190</th>\n",
       "      <td>-11.6571</td>\n",
       "      <td>x12_RELATED TO BUS STOP</td>\n",
       "    </tr>\n",
       "    <tr>\n",
       "      <th>170</th>\n",
       "      <td>-11.7487</td>\n",
       "      <td>x12_DRIVING ON WRONG SIDE/WRONG WAY</td>\n",
       "    </tr>\n",
       "    <tr>\n",
       "      <th>185</th>\n",
       "      <td>-11.7909</td>\n",
       "      <td>x12_NOT APPLICABLE</td>\n",
       "    </tr>\n",
       "    <tr>\n",
       "      <th>168</th>\n",
       "      <td>-11.9363</td>\n",
       "      <td>x12_DISTRACTION - FROM OUTSIDE VEHICLE</td>\n",
       "    </tr>\n",
       "    <tr>\n",
       "      <th>187</th>\n",
       "      <td>-12.0841</td>\n",
       "      <td>x12_OPERATING VEHICLE IN ERRATIC, RECKLESS, CA...</td>\n",
       "    </tr>\n",
       "    <tr>\n",
       "      <th>165</th>\n",
       "      <td>-12.1633</td>\n",
       "      <td>x12_DISREGARDING TRAFFIC SIGNALS</td>\n",
       "    </tr>\n",
       "    <tr>\n",
       "      <th>162</th>\n",
       "      <td>-12.3088</td>\n",
       "      <td>x12_DISREGARDING OTHER TRAFFIC SIGNS</td>\n",
       "    </tr>\n",
       "    <tr>\n",
       "      <th>175</th>\n",
       "      <td>-12.4317</td>\n",
       "      <td>x12_EXCEEDING SAFE SPEED FOR CONDITIONS</td>\n",
       "    </tr>\n",
       "    <tr>\n",
       "      <th>174</th>\n",
       "      <td>-13.4663</td>\n",
       "      <td>x12_EXCEEDING AUTHORIZED SPEED LIMIT</td>\n",
       "    </tr>\n",
       "    <tr>\n",
       "      <th>189</th>\n",
       "      <td>-14.4051</td>\n",
       "      <td>x12_PHYSICAL CONDITION OF DRIVER</td>\n",
       "    </tr>\n",
       "  </tbody>\n",
       "</table>\n",
       "</div>"
      ],
      "text/plain": [
       "    coefficients                                           features\n",
       "167     -10.9933              x12_DISTRACTION - FROM INSIDE VEHICLE\n",
       "196     -11.2544  x12_UNDER THE INFLUENCE OF ALCOHOL/DRUGS (USE ...\n",
       "164     -11.3092                         x12_DISREGARDING STOP SIGN\n",
       "197     -11.4053  x12_VISION OBSCURED (SIGNS, TREE LIMBS, BUILDI...\n",
       "176     -11.6525         x12_FAILING TO REDUCE SPEED TO AVOID CRASH\n",
       "190     -11.6571                            x12_RELATED TO BUS STOP\n",
       "170     -11.7487                x12_DRIVING ON WRONG SIDE/WRONG WAY\n",
       "185     -11.7909                                 x12_NOT APPLICABLE\n",
       "168     -11.9363             x12_DISTRACTION - FROM OUTSIDE VEHICLE\n",
       "187     -12.0841  x12_OPERATING VEHICLE IN ERRATIC, RECKLESS, CA...\n",
       "165     -12.1633                   x12_DISREGARDING TRAFFIC SIGNALS\n",
       "162     -12.3088               x12_DISREGARDING OTHER TRAFFIC SIGNS\n",
       "175     -12.4317            x12_EXCEEDING SAFE SPEED FOR CONDITIONS\n",
       "174     -13.4663               x12_EXCEEDING AUTHORIZED SPEED LIMIT\n",
       "189     -14.4051                   x12_PHYSICAL CONDITION OF DRIVER"
      ]
     },
     "execution_count": 42,
     "metadata": {},
     "output_type": "execute_result"
    }
   ],
   "source": [
    "coefficients_table = logpipe.named_steps['model'].coef_\n",
    "coefficients_table = coefficients_table.transpose()\n",
    "coefficients_table = [x[0] for x in coefficients_table]\n",
    "coefficients = pd.Series(list(coefficients_table), name = 'coefficients')\n",
    "features = pd.Series(list(categorical_encoded), name = 'features')\n",
    "coefs_df = pd.DataFrame([coefficients, features]).transpose()\n",
    "coefs_df.sort_values(by='coefficients', inplace=True, ascending=False)\n",
    "coefs_df.tail(15)"
   ]
  },
  {
   "cell_type": "code",
   "execution_count": null,
   "metadata": {},
   "outputs": [],
   "source": []
  },
  {
   "cell_type": "code",
   "execution_count": 43,
   "metadata": {},
   "outputs": [],
   "source": [
    "coefs_df.to_csv('../data/localdata/coefs.csv', index=True)"
   ]
  },
  {
   "cell_type": "markdown",
   "metadata": {},
   "source": [
    "#### Most likely will delete as SMOTE is now done in pipeline ---- Using SMOTE to account for our class imbalance"
   ]
  },
  {
   "cell_type": "code",
   "execution_count": null,
   "metadata": {},
   "outputs": [],
   "source": []
  },
  {
   "cell_type": "code",
   "execution_count": null,
   "metadata": {},
   "outputs": [],
   "source": [
    "#Most likely will delete as SMOTE is done in pipeline now\n",
    "sm = SMOTE(random_state=42, sampling_strategy = 0.3)\n",
    "\n",
    "X_train_smote, y_train_smote = sm.fit_resample(X_train, y_train)\n",
    "\n"
   ]
  },
  {
   "cell_type": "code",
   "execution_count": null,
   "metadata": {},
   "outputs": [],
   "source": [
    "#Most likely will delete as SMOTE is done in pipeline now\n",
    "log_model_smote = logreg.fit(X_train_smote, y_train_smote)\n",
    "\n",
    "y_true_smote = y_train_smote\n",
    "y_pred_smote = log_model_smote.predict(X_train_smote)\n",
    "\n",
    "print(\"Training recall: \", recall_score(y_true_smote, y_pred_smote, pos_label = 'Fatal'))"
   ]
  },
  {
   "cell_type": "code",
   "execution_count": null,
   "metadata": {},
   "outputs": [],
   "source": [
    "#Most likely will delete as SMOTE is done in pipeline now\n",
    "cv_scores_smote = cross_val_score(estimator = log_model_smote, X=X_train_smote, y=y_train_smote, \n",
    "                                  scoring = recall_scorer, n_jobs = -1).mean()\n",
    "cv_scores_smote"
   ]
  },
  {
   "cell_type": "code",
   "execution_count": null,
   "metadata": {},
   "outputs": [],
   "source": [
    "#Most likely will delete as SMOTE is done in pipeline now\n",
    "log_model_smote.coef_"
   ]
  },
  {
   "cell_type": "code",
   "execution_count": null,
   "metadata": {},
   "outputs": [],
   "source": [
    "# Grid Search\n",
    "logreg = LogisticRegression(random_state=42, max_iter = 2000, n_jobs= -1, class_weight = 'balanced')\n",
    "\n",
    "logpipe = Pipeline([('smote', SMOTE(random_state=42, n_jobs=-1)),\n",
    "                    ('model', logreg)])\n",
    "\n",
    "param_grid = {\n",
    "    \"smote__sampling_strategy\": [0.3, 0.4, 0.5],\n",
    "    \"model__C\": np.logspace(-4, 4, 4),\n",
    "    \"model__penalty\": ['l1', 'none']\n",
    "}\n",
    "\n",
    "search = GridSearchCV(logpipe, param_grid, scoring= recall_scorer, n_jobs=-1)\n",
    "search.fit(X_train, y_train)\n",
    "\n",
    "print(\"Best parameter (CV score=%0.3f):\" % search.best_score_)\n",
    "print(search.best_params_)"
   ]
  },
  {
   "cell_type": "markdown",
   "metadata": {},
   "source": [
    "## Decision Tree Model"
   ]
  },
  {
   "cell_type": "code",
   "execution_count": null,
   "metadata": {},
   "outputs": [],
   "source": [
    "#normal decision tree model\n",
    "clf = DecisionTreeClassifier(criterion='gini', random_state=42, class_weight = 'balanced', max_depth = 24, min_samples_split = 5000)\n",
    "\n",
    "clf.fit(X_train, y_train)\n",
    "\n",
    "y_preds = clf.predict(X_train)\n",
    "\n",
    "print('Recall: ', recall_score(y_train, y_preds, pos_label = 'Fatal'))"
   ]
  },
  {
   "cell_type": "code",
   "execution_count": null,
   "metadata": {},
   "outputs": [],
   "source": [
    "#Cross Validating clf\n",
    "cv_score_clf = cross_val_score(estimator = clf, X=X_train, y=y_train, scoring = recall_scorer, n_jobs=-1).mean()\n",
    "cv_score_clf"
   ]
  },
  {
   "cell_type": "markdown",
   "metadata": {},
   "source": [
    "#### Decision Tree Pipeline for clf with SMOTE and Model"
   ]
  },
  {
   "cell_type": "code",
   "execution_count": null,
   "metadata": {},
   "outputs": [],
   "source": [
    "#Create Pipeline\n",
    "clfpipe = Pipeline([('smote', SMOTE(random_state=42, sampling_strategy = 0.3)),\n",
    "                    ('model', clf)])"
   ]
  },
  {
   "cell_type": "code",
   "execution_count": null,
   "metadata": {},
   "outputs": [],
   "source": [
    "#Cross Validating Decision Tree with pipeline\n",
    "cv_score_clfpipe = cross_val_score(estimator=clfpipe, X=X_train, y=y_train, scoring = recall_scorer).mean()\n",
    "cv_score_clfpipe"
   ]
  },
  {
   "cell_type": "markdown",
   "metadata": {},
   "source": [
    "## Decision Tree Revised 1 (clf_1)"
   ]
  },
  {
   "cell_type": "code",
   "execution_count": null,
   "metadata": {},
   "outputs": [],
   "source": [
    "#Instantiating Decision Tree with new parameters to increase recall score\n",
    "clf_1 = DecisionTreeClassifier(criterion='gini', random_state=42, class_weight = 'balanced', max_depth = 24,\n",
    "                                   min_samples_split = 2500)\n",
    "\n",
    "clf_1.fit(X_train, y_train)\n",
    "\n",
    "y_preds = clf_1.predict(X_train)\n",
    "\n",
    "print('Recall: ', recall_score(y_train, y_preds, pos_label = 'Fatal'))"
   ]
  },
  {
   "cell_type": "markdown",
   "metadata": {},
   "source": [
    "#### Decision Tree Pipeline for clf_1 with SMOTE and Model"
   ]
  },
  {
   "cell_type": "code",
   "execution_count": null,
   "metadata": {},
   "outputs": [],
   "source": [
    "#Create Pipeline with new model\n",
    "clf_1pipe = Pipeline([('smote', SMOTE(random_state=42, sampling_strategy = 0.3)),\n",
    "                    ('model', clf_1)])"
   ]
  },
  {
   "cell_type": "code",
   "execution_count": null,
   "metadata": {},
   "outputs": [],
   "source": [
    "#Cross Validating Decision Tree with pipeline\n",
    "cv_score_clf_1pipe = cross_val_score(estimator=clf_1pipe, X=X_train, y=y_train, scoring = recall_scorer).mean()\n",
    "cv_score_clf_1pipe"
   ]
  },
  {
   "cell_type": "markdown",
   "metadata": {},
   "source": [
    "### Organizing Feature Importance Data for further analysis"
   ]
  },
  {
   "cell_type": "code",
   "execution_count": null,
   "metadata": {},
   "outputs": [],
   "source": [
    "feature_importance = clf_1.feature_importances_\n",
    "feature_importance"
   ]
  },
  {
   "cell_type": "code",
   "execution_count": null,
   "metadata": {},
   "outputs": [],
   "source": [
    "categorical_encoded.columns"
   ]
  },
  {
   "cell_type": "code",
   "execution_count": null,
   "metadata": {},
   "outputs": [],
   "source": [
    "feature_importances = pd.Series(list(feature_importance), name = 'feature_importance')\n",
    "features = pd.Series(list(categorical_encoded), name = 'features')\n"
   ]
  },
  {
   "cell_type": "code",
   "execution_count": null,
   "metadata": {},
   "outputs": [],
   "source": [
    "features"
   ]
  },
  {
   "cell_type": "code",
   "execution_count": null,
   "metadata": {},
   "outputs": [],
   "source": [
    "feature_importances"
   ]
  },
  {
   "cell_type": "code",
   "execution_count": null,
   "metadata": {},
   "outputs": [],
   "source": [
    "features_df = pd.DataFrame([feature_importances, features]).transpose()"
   ]
  },
  {
   "cell_type": "code",
   "execution_count": null,
   "metadata": {},
   "outputs": [],
   "source": [
    "features_df"
   ]
  },
  {
   "cell_type": "code",
   "execution_count": null,
   "metadata": {},
   "outputs": [],
   "source": [
    "features_df.sort_values(by='feature_importance', inplace=True, ascending=False)"
   ]
  },
  {
   "cell_type": "code",
   "execution_count": null,
   "metadata": {},
   "outputs": [],
   "source": [
    "features_df.head(15)"
   ]
  },
  {
   "cell_type": "markdown",
   "metadata": {},
   "source": [
    "## Feature Importance Analysis"
   ]
  },
  {
   "cell_type": "code",
   "execution_count": 47,
   "metadata": {},
   "outputs": [
    {
     "data": {
      "text/html": [
       "<div>\n",
       "<style scoped>\n",
       "    .dataframe tbody tr th:only-of-type {\n",
       "        vertical-align: middle;\n",
       "    }\n",
       "\n",
       "    .dataframe tbody tr th {\n",
       "        vertical-align: top;\n",
       "    }\n",
       "\n",
       "    .dataframe thead th {\n",
       "        text-align: right;\n",
       "    }\n",
       "</style>\n",
       "<table border=\"1\" class=\"dataframe\">\n",
       "  <thead>\n",
       "    <tr style=\"text-align: right;\">\n",
       "      <th></th>\n",
       "      <th>x0_BLOWING SNOW</th>\n",
       "      <th>x0_CLEAR</th>\n",
       "      <th>x0_CLOUDY/OVERCAST</th>\n",
       "      <th>x0_FOG/SMOKE/HAZE</th>\n",
       "      <th>x0_FREEZING RAIN/DRIZZLE</th>\n",
       "      <th>x0_OTHER</th>\n",
       "      <th>x0_RAIN</th>\n",
       "      <th>x0_SEVERE CROSS WIND GATE</th>\n",
       "      <th>x0_SLEET/HAIL</th>\n",
       "      <th>x0_SNOW</th>\n",
       "      <th>...</th>\n",
       "      <th>x13_PHYSICAL CONDITION OF DRIVER</th>\n",
       "      <th>x13_RELATED TO BUS STOP</th>\n",
       "      <th>x13_ROAD CONSTRUCTION/MAINTENANCE</th>\n",
       "      <th>x13_ROAD ENGINEERING/SURFACE/MARKING DEFECTS</th>\n",
       "      <th>x13_TEXTING</th>\n",
       "      <th>x13_TURNING RIGHT ON RED</th>\n",
       "      <th>x13_UNABLE TO DETERMINE</th>\n",
       "      <th>x13_UNDER THE INFLUENCE OF ALCOHOL/DRUGS (USE WHEN ARREST IS EFFECTED)</th>\n",
       "      <th>x13_VISION OBSCURED (SIGNS, TREE LIMBS, BUILDINGS, ETC.)</th>\n",
       "      <th>x13_WEATHER</th>\n",
       "    </tr>\n",
       "  </thead>\n",
       "  <tbody>\n",
       "    <tr>\n",
       "      <th>0</th>\n",
       "      <td>0.0</td>\n",
       "      <td>1.0</td>\n",
       "      <td>0.0</td>\n",
       "      <td>0.0</td>\n",
       "      <td>0.0</td>\n",
       "      <td>0.0</td>\n",
       "      <td>0.0</td>\n",
       "      <td>0.0</td>\n",
       "      <td>0.0</td>\n",
       "      <td>0.0</td>\n",
       "      <td>...</td>\n",
       "      <td>0.0</td>\n",
       "      <td>0.0</td>\n",
       "      <td>0.0</td>\n",
       "      <td>0.0</td>\n",
       "      <td>0.0</td>\n",
       "      <td>0.0</td>\n",
       "      <td>1.0</td>\n",
       "      <td>0.0</td>\n",
       "      <td>0.0</td>\n",
       "      <td>0.0</td>\n",
       "    </tr>\n",
       "    <tr>\n",
       "      <th>1</th>\n",
       "      <td>0.0</td>\n",
       "      <td>0.0</td>\n",
       "      <td>0.0</td>\n",
       "      <td>0.0</td>\n",
       "      <td>0.0</td>\n",
       "      <td>0.0</td>\n",
       "      <td>1.0</td>\n",
       "      <td>0.0</td>\n",
       "      <td>0.0</td>\n",
       "      <td>0.0</td>\n",
       "      <td>...</td>\n",
       "      <td>0.0</td>\n",
       "      <td>0.0</td>\n",
       "      <td>0.0</td>\n",
       "      <td>0.0</td>\n",
       "      <td>0.0</td>\n",
       "      <td>0.0</td>\n",
       "      <td>0.0</td>\n",
       "      <td>0.0</td>\n",
       "      <td>0.0</td>\n",
       "      <td>0.0</td>\n",
       "    </tr>\n",
       "    <tr>\n",
       "      <th>2</th>\n",
       "      <td>0.0</td>\n",
       "      <td>0.0</td>\n",
       "      <td>0.0</td>\n",
       "      <td>0.0</td>\n",
       "      <td>0.0</td>\n",
       "      <td>0.0</td>\n",
       "      <td>0.0</td>\n",
       "      <td>0.0</td>\n",
       "      <td>0.0</td>\n",
       "      <td>0.0</td>\n",
       "      <td>...</td>\n",
       "      <td>0.0</td>\n",
       "      <td>0.0</td>\n",
       "      <td>0.0</td>\n",
       "      <td>0.0</td>\n",
       "      <td>0.0</td>\n",
       "      <td>0.0</td>\n",
       "      <td>1.0</td>\n",
       "      <td>0.0</td>\n",
       "      <td>0.0</td>\n",
       "      <td>0.0</td>\n",
       "    </tr>\n",
       "    <tr>\n",
       "      <th>3</th>\n",
       "      <td>0.0</td>\n",
       "      <td>0.0</td>\n",
       "      <td>0.0</td>\n",
       "      <td>0.0</td>\n",
       "      <td>0.0</td>\n",
       "      <td>0.0</td>\n",
       "      <td>0.0</td>\n",
       "      <td>0.0</td>\n",
       "      <td>0.0</td>\n",
       "      <td>0.0</td>\n",
       "      <td>...</td>\n",
       "      <td>0.0</td>\n",
       "      <td>0.0</td>\n",
       "      <td>0.0</td>\n",
       "      <td>0.0</td>\n",
       "      <td>0.0</td>\n",
       "      <td>0.0</td>\n",
       "      <td>0.0</td>\n",
       "      <td>0.0</td>\n",
       "      <td>0.0</td>\n",
       "      <td>0.0</td>\n",
       "    </tr>\n",
       "    <tr>\n",
       "      <th>4</th>\n",
       "      <td>0.0</td>\n",
       "      <td>1.0</td>\n",
       "      <td>0.0</td>\n",
       "      <td>0.0</td>\n",
       "      <td>0.0</td>\n",
       "      <td>0.0</td>\n",
       "      <td>0.0</td>\n",
       "      <td>0.0</td>\n",
       "      <td>0.0</td>\n",
       "      <td>0.0</td>\n",
       "      <td>...</td>\n",
       "      <td>0.0</td>\n",
       "      <td>0.0</td>\n",
       "      <td>0.0</td>\n",
       "      <td>0.0</td>\n",
       "      <td>0.0</td>\n",
       "      <td>0.0</td>\n",
       "      <td>0.0</td>\n",
       "      <td>0.0</td>\n",
       "      <td>0.0</td>\n",
       "      <td>0.0</td>\n",
       "    </tr>\n",
       "  </tbody>\n",
       "</table>\n",
       "<p>5 rows × 238 columns</p>\n",
       "</div>"
      ],
      "text/plain": [
       "   x0_BLOWING SNOW  x0_CLEAR  x0_CLOUDY/OVERCAST  x0_FOG/SMOKE/HAZE  \\\n",
       "0              0.0       1.0                 0.0                0.0   \n",
       "1              0.0       0.0                 0.0                0.0   \n",
       "2              0.0       0.0                 0.0                0.0   \n",
       "3              0.0       0.0                 0.0                0.0   \n",
       "4              0.0       1.0                 0.0                0.0   \n",
       "\n",
       "   x0_FREEZING RAIN/DRIZZLE  x0_OTHER  x0_RAIN  x0_SEVERE CROSS WIND GATE  \\\n",
       "0                       0.0       0.0      0.0                        0.0   \n",
       "1                       0.0       0.0      1.0                        0.0   \n",
       "2                       0.0       0.0      0.0                        0.0   \n",
       "3                       0.0       0.0      0.0                        0.0   \n",
       "4                       0.0       0.0      0.0                        0.0   \n",
       "\n",
       "   x0_SLEET/HAIL  x0_SNOW  ...  x13_PHYSICAL CONDITION OF DRIVER  \\\n",
       "0            0.0      0.0  ...                               0.0   \n",
       "1            0.0      0.0  ...                               0.0   \n",
       "2            0.0      0.0  ...                               0.0   \n",
       "3            0.0      0.0  ...                               0.0   \n",
       "4            0.0      0.0  ...                               0.0   \n",
       "\n",
       "   x13_RELATED TO BUS STOP  x13_ROAD CONSTRUCTION/MAINTENANCE  \\\n",
       "0                      0.0                                0.0   \n",
       "1                      0.0                                0.0   \n",
       "2                      0.0                                0.0   \n",
       "3                      0.0                                0.0   \n",
       "4                      0.0                                0.0   \n",
       "\n",
       "   x13_ROAD ENGINEERING/SURFACE/MARKING DEFECTS  x13_TEXTING  \\\n",
       "0                                           0.0          0.0   \n",
       "1                                           0.0          0.0   \n",
       "2                                           0.0          0.0   \n",
       "3                                           0.0          0.0   \n",
       "4                                           0.0          0.0   \n",
       "\n",
       "   x13_TURNING RIGHT ON RED  x13_UNABLE TO DETERMINE  \\\n",
       "0                       0.0                      1.0   \n",
       "1                       0.0                      0.0   \n",
       "2                       0.0                      1.0   \n",
       "3                       0.0                      0.0   \n",
       "4                       0.0                      0.0   \n",
       "\n",
       "   x13_UNDER THE INFLUENCE OF ALCOHOL/DRUGS (USE WHEN ARREST IS EFFECTED)  \\\n",
       "0                                                0.0                        \n",
       "1                                                0.0                        \n",
       "2                                                0.0                        \n",
       "3                                                0.0                        \n",
       "4                                                0.0                        \n",
       "\n",
       "   x13_VISION OBSCURED (SIGNS, TREE LIMBS, BUILDINGS, ETC.)  x13_WEATHER  \n",
       "0                                                0.0                 0.0  \n",
       "1                                                0.0                 0.0  \n",
       "2                                                0.0                 0.0  \n",
       "3                                                0.0                 0.0  \n",
       "4                                                0.0                 0.0  \n",
       "\n",
       "[5 rows x 238 columns]"
      ]
     },
     "execution_count": 47,
     "metadata": {},
     "output_type": "execute_result"
    }
   ],
   "source": [
    "#Check to see if indices align\n",
    "X.head()"
   ]
  },
  {
   "cell_type": "code",
   "execution_count": 48,
   "metadata": {},
   "outputs": [
    {
     "data": {
      "text/plain": [
       "0    Not Fatal\n",
       "2    Not Fatal\n",
       "5    Not Fatal\n",
       "7    Not Fatal\n",
       "9    Not Fatal\n",
       "Name: Fatality Classification, dtype: object"
      ]
     },
     "execution_count": 48,
     "metadata": {},
     "output_type": "execute_result"
    }
   ],
   "source": [
    "#Check to see if indices align\n",
    "y.head()"
   ]
  },
  {
   "cell_type": "code",
   "execution_count": 49,
   "metadata": {},
   "outputs": [],
   "source": [
    "#reset y index so can merge with X on the index\n",
    "y.reset_index(drop = True, inplace = True)"
   ]
  },
  {
   "cell_type": "code",
   "execution_count": 50,
   "metadata": {},
   "outputs": [
    {
     "data": {
      "text/plain": [
       "0    Not Fatal\n",
       "1    Not Fatal\n",
       "2    Not Fatal\n",
       "3    Not Fatal\n",
       "4    Not Fatal\n",
       "Name: Fatality Classification, dtype: object"
      ]
     },
     "execution_count": 50,
     "metadata": {},
     "output_type": "execute_result"
    }
   ],
   "source": [
    "#Confirm reset was successful\n",
    "y.head()"
   ]
  },
  {
   "cell_type": "code",
   "execution_count": 51,
   "metadata": {},
   "outputs": [],
   "source": [
    "#Merge dfs to be able to perform calculations with all data together\n",
    "categorical_and_fatal_df = X.merge(y, left_index = True, right_index = True, how = 'right')"
   ]
  },
  {
   "cell_type": "code",
   "execution_count": null,
   "metadata": {},
   "outputs": [],
   "source": [
    "X.shape"
   ]
  },
  {
   "cell_type": "code",
   "execution_count": null,
   "metadata": {},
   "outputs": [],
   "source": [
    "y.shape"
   ]
  },
  {
   "cell_type": "code",
   "execution_count": null,
   "metadata": {},
   "outputs": [],
   "source": [
    "#Confirm merge was successful. Should have same # of rows as before with one more column than X\n",
    "categorical_and_fatal_df.shape"
   ]
  },
  {
   "cell_type": "code",
   "execution_count": 45,
   "metadata": {},
   "outputs": [],
   "source": [
    "#Function takes in a dataframe and relevant columns.\n",
    "#Function loops through each column, calculating the percentage of Fatalities for each column's involvment in crashes\n",
    "#Function outputs a dataframe with column names and their Fatality Percentage in descending order\n",
    "def calc_percentage(df, columns):\n",
    "    \n",
    "    percent_dict = {}\n",
    "    \n",
    "    for col in columns:    \n",
    "        #Calculate percentage\n",
    "        col_perc = len(df.loc[(df[col]==1) & (df['Fatality Classification']=='Fatal')]) / len(df.loc[df[col]==1])\n",
    "        #Add percentage to dictionary\n",
    "        percent_dict[col] = col_perc\n",
    "    #Convert dictionary to DataFrame\n",
    "    percent_df = pd.DataFrame.from_dict(percent_dict, orient='index', columns=['Fatality Percentage'])\n",
    "    percent_df.sort_values(by = 'Fatality Percentage', ascending = False, inplace = True)\n",
    "    \n",
    "    return percent_df"
   ]
  },
  {
   "cell_type": "code",
   "execution_count": 52,
   "metadata": {},
   "outputs": [
    {
     "ename": "NameError",
     "evalue": "name 'features_df' is not defined",
     "output_type": "error",
     "traceback": [
      "\u001b[0;31m---------------------------------------------------------------------------\u001b[0m",
      "\u001b[0;31mNameError\u001b[0m                                 Traceback (most recent call last)",
      "\u001b[0;32m<ipython-input-52-867ee4ba9e38>\u001b[0m in \u001b[0;36m<module>\u001b[0;34m\u001b[0m\n\u001b[0;32m----> 1\u001b[0;31m \u001b[0mrelevant_columns\u001b[0m \u001b[0;34m=\u001b[0m \u001b[0mfeatures_df\u001b[0m\u001b[0;34m[\u001b[0m\u001b[0;34m'features'\u001b[0m\u001b[0;34m]\u001b[0m\u001b[0;34m.\u001b[0m\u001b[0munique\u001b[0m\u001b[0;34m(\u001b[0m\u001b[0;34m)\u001b[0m\u001b[0;34m[\u001b[0m\u001b[0;34m:\u001b[0m\u001b[0;36m15\u001b[0m\u001b[0;34m]\u001b[0m\u001b[0;34m.\u001b[0m\u001b[0mtolist\u001b[0m\u001b[0;34m(\u001b[0m\u001b[0;34m)\u001b[0m \u001b[0;31m#select columns to analyze the fatal percentage of\u001b[0m\u001b[0;34m\u001b[0m\u001b[0;34m\u001b[0m\u001b[0m\n\u001b[0m\u001b[1;32m      2\u001b[0m \u001b[0mfeature_fatal_percent_df\u001b[0m \u001b[0;34m=\u001b[0m \u001b[0mcalc_percentage\u001b[0m\u001b[0;34m(\u001b[0m\u001b[0mcategorical_and_fatal_df\u001b[0m\u001b[0;34m,\u001b[0m \u001b[0mrelevant_columns\u001b[0m\u001b[0;34m)\u001b[0m\u001b[0;34m\u001b[0m\u001b[0;34m\u001b[0m\u001b[0m\n\u001b[1;32m      3\u001b[0m \u001b[0mfeature_fatal_percent_df\u001b[0m\u001b[0;34m\u001b[0m\u001b[0;34m\u001b[0m\u001b[0m\n",
      "\u001b[0;31mNameError\u001b[0m: name 'features_df' is not defined"
     ]
    }
   ],
   "source": [
    "relevant_columns = features_df['features'].unique()[:15].tolist() #select columns to analyze the fatal percentage of\n",
    "feature_fatal_percent_df = calc_percentage(categorical_and_fatal_df, relevant_columns)\n",
    "feature_fatal_percent_df"
   ]
  },
  {
   "cell_type": "code",
   "execution_count": 60,
   "metadata": {},
   "outputs": [
    {
     "data": {
      "text/html": [
       "<div>\n",
       "<style scoped>\n",
       "    .dataframe tbody tr th:only-of-type {\n",
       "        vertical-align: middle;\n",
       "    }\n",
       "\n",
       "    .dataframe tbody tr th {\n",
       "        vertical-align: top;\n",
       "    }\n",
       "\n",
       "    .dataframe thead th {\n",
       "        text-align: right;\n",
       "    }\n",
       "</style>\n",
       "<table border=\"1\" class=\"dataframe\">\n",
       "  <thead>\n",
       "    <tr style=\"text-align: right;\">\n",
       "      <th></th>\n",
       "      <th>Fatality Percentage</th>\n",
       "    </tr>\n",
       "  </thead>\n",
       "  <tbody>\n",
       "    <tr>\n",
       "      <th>x12_PHYSICAL CONDITION OF DRIVER</th>\n",
       "      <td>0.016615</td>\n",
       "    </tr>\n",
       "    <tr>\n",
       "      <th>x8_DRIVERLESS</th>\n",
       "      <td>0.016129</td>\n",
       "    </tr>\n",
       "    <tr>\n",
       "      <th>x11_PEDESTRIAN</th>\n",
       "      <td>0.011919</td>\n",
       "    </tr>\n",
       "    <tr>\n",
       "      <th>x12_EXCEEDING AUTHORIZED SPEED LIMIT</th>\n",
       "      <td>0.010736</td>\n",
       "    </tr>\n",
       "    <tr>\n",
       "      <th>x4_SCHOOL ZONE</th>\n",
       "      <td>0.010714</td>\n",
       "    </tr>\n",
       "    <tr>\n",
       "      <th>x11_ANIMAL</th>\n",
       "      <td>0.009452</td>\n",
       "    </tr>\n",
       "    <tr>\n",
       "      <th>x11_OVERTURNED</th>\n",
       "      <td>0.009091</td>\n",
       "    </tr>\n",
       "    <tr>\n",
       "      <th>x4_PEDESTRIAN CROSSING SIGN</th>\n",
       "      <td>0.006711</td>\n",
       "    </tr>\n",
       "    <tr>\n",
       "      <th>x4_RAILROAD CROSSING GATE</th>\n",
       "      <td>0.006211</td>\n",
       "    </tr>\n",
       "    <tr>\n",
       "      <th>x12_DRIVING ON WRONG SIDE/WRONG WAY</th>\n",
       "      <td>0.005339</td>\n",
       "    </tr>\n",
       "    <tr>\n",
       "      <th>x13_DISREGARDING YIELD SIGN</th>\n",
       "      <td>0.005128</td>\n",
       "    </tr>\n",
       "    <tr>\n",
       "      <th>x12_UNDER THE INFLUENCE OF ALCOHOL/DRUGS (USE WHEN ARREST IS EFFECTED)</th>\n",
       "      <td>0.005018</td>\n",
       "    </tr>\n",
       "    <tr>\n",
       "      <th>x12_DISREGARDING TRAFFIC SIGNALS</th>\n",
       "      <td>0.004205</td>\n",
       "    </tr>\n",
       "    <tr>\n",
       "      <th>x4_POLICE/FLAGMAN</th>\n",
       "      <td>0.004032</td>\n",
       "    </tr>\n",
       "    <tr>\n",
       "      <th>x12_OPERATING VEHICLE IN ERRATIC, RECKLESS, CARELESS, NEGLIGENT OR AGGRESSIVE MANNER</th>\n",
       "      <td>0.003891</td>\n",
       "    </tr>\n",
       "    <tr>\n",
       "      <th>x12_EVASIVE ACTION DUE TO ANIMAL, OBJECT, NONMOTORIST</th>\n",
       "      <td>0.003579</td>\n",
       "    </tr>\n",
       "    <tr>\n",
       "      <th>x4_OTHER WARNING SIGN</th>\n",
       "      <td>0.003378</td>\n",
       "    </tr>\n",
       "    <tr>\n",
       "      <th>x12_DISREGARDING ROAD MARKINGS</th>\n",
       "      <td>0.003264</td>\n",
       "    </tr>\n",
       "    <tr>\n",
       "      <th>x12_RELATED TO BUS STOP</th>\n",
       "      <td>0.003040</td>\n",
       "    </tr>\n",
       "    <tr>\n",
       "      <th>x12_EXCEEDING SAFE SPEED FOR CONDITIONS</th>\n",
       "      <td>0.002992</td>\n",
       "    </tr>\n",
       "    <tr>\n",
       "      <th>x12_DISTRACTION - FROM OUTSIDE VEHICLE</th>\n",
       "      <td>0.002572</td>\n",
       "    </tr>\n",
       "    <tr>\n",
       "      <th>x12_DISREGARDING OTHER TRAFFIC SIGNS</th>\n",
       "      <td>0.002519</td>\n",
       "    </tr>\n",
       "    <tr>\n",
       "      <th>x12_FAILING TO REDUCE SPEED TO AVOID CRASH</th>\n",
       "      <td>0.002148</td>\n",
       "    </tr>\n",
       "    <tr>\n",
       "      <th>x4_OTHER</th>\n",
       "      <td>0.001839</td>\n",
       "    </tr>\n",
       "    <tr>\n",
       "      <th>x12_NOT APPLICABLE</th>\n",
       "      <td>0.001693</td>\n",
       "    </tr>\n",
       "    <tr>\n",
       "      <th>x12_VISION OBSCURED (SIGNS, TREE LIMBS, BUILDINGS, ETC.)</th>\n",
       "      <td>0.001411</td>\n",
       "    </tr>\n",
       "    <tr>\n",
       "      <th>x12_DISREGARDING STOP SIGN</th>\n",
       "      <td>0.001341</td>\n",
       "    </tr>\n",
       "    <tr>\n",
       "      <th>x12_HAD BEEN DRINKING (USE WHEN ARREST IS NOT MADE)</th>\n",
       "      <td>0.001287</td>\n",
       "    </tr>\n",
       "    <tr>\n",
       "      <th>x4_TRAFFIC SIGNAL</th>\n",
       "      <td>0.001169</td>\n",
       "    </tr>\n",
       "    <tr>\n",
       "      <th>x12_DISTRACTION - FROM INSIDE VEHICLE</th>\n",
       "      <td>0.001161</td>\n",
       "    </tr>\n",
       "    <tr>\n",
       "      <th>x4_NO CONTROLS</th>\n",
       "      <td>0.001093</td>\n",
       "    </tr>\n",
       "    <tr>\n",
       "      <th>x7_Y-INTERSECTION</th>\n",
       "      <td>0.001063</td>\n",
       "    </tr>\n",
       "    <tr>\n",
       "      <th>x12_UNABLE TO DETERMINE</th>\n",
       "      <td>0.000944</td>\n",
       "    </tr>\n",
       "    <tr>\n",
       "      <th>x4_YIELD</th>\n",
       "      <td>0.000931</td>\n",
       "    </tr>\n",
       "    <tr>\n",
       "      <th>x12_FAILING TO YIELD RIGHT-OF-WAY</th>\n",
       "      <td>0.000881</td>\n",
       "    </tr>\n",
       "    <tr>\n",
       "      <th>x4_STOP SIGN/FLASHER</th>\n",
       "      <td>0.000851</td>\n",
       "    </tr>\n",
       "    <tr>\n",
       "      <th>x4_UNKNOWN</th>\n",
       "      <td>0.000629</td>\n",
       "    </tr>\n",
       "    <tr>\n",
       "      <th>x12_ROAD ENGINEERING/SURFACE/MARKING DEFECTS</th>\n",
       "      <td>0.000551</td>\n",
       "    </tr>\n",
       "    <tr>\n",
       "      <th>x12_IMPROPER LANE USAGE</th>\n",
       "      <td>0.000445</td>\n",
       "    </tr>\n",
       "    <tr>\n",
       "      <th>x12_EQUIPMENT - VEHICLE CONDITION</th>\n",
       "      <td>0.000433</td>\n",
       "    </tr>\n",
       "    <tr>\n",
       "      <th>x12_IMPROPER OVERTAKING/PASSING</th>\n",
       "      <td>0.000382</td>\n",
       "    </tr>\n",
       "    <tr>\n",
       "      <th>x12_IMPROPER TURNING/NO SIGNAL</th>\n",
       "      <td>0.000242</td>\n",
       "    </tr>\n",
       "    <tr>\n",
       "      <th>x12_DRIVING SKILLS/KNOWLEDGE/EXPERIENCE</th>\n",
       "      <td>0.000203</td>\n",
       "    </tr>\n",
       "    <tr>\n",
       "      <th>x12_IMPROPER BACKING</th>\n",
       "      <td>0.000100</td>\n",
       "    </tr>\n",
       "    <tr>\n",
       "      <th>x12_FOLLOWING TOO CLOSELY</th>\n",
       "      <td>0.000054</td>\n",
       "    </tr>\n",
       "  </tbody>\n",
       "</table>\n",
       "</div>"
      ],
      "text/plain": [
       "                                                    Fatality Percentage\n",
       "x12_PHYSICAL CONDITION OF DRIVER                               0.016615\n",
       "x8_DRIVERLESS                                                  0.016129\n",
       "x11_PEDESTRIAN                                                 0.011919\n",
       "x12_EXCEEDING AUTHORIZED SPEED LIMIT                           0.010736\n",
       "x4_SCHOOL ZONE                                                 0.010714\n",
       "x11_ANIMAL                                                     0.009452\n",
       "x11_OVERTURNED                                                 0.009091\n",
       "x4_PEDESTRIAN CROSSING SIGN                                    0.006711\n",
       "x4_RAILROAD CROSSING GATE                                      0.006211\n",
       "x12_DRIVING ON WRONG SIDE/WRONG WAY                            0.005339\n",
       "x13_DISREGARDING YIELD SIGN                                    0.005128\n",
       "x12_UNDER THE INFLUENCE OF ALCOHOL/DRUGS (USE W...             0.005018\n",
       "x12_DISREGARDING TRAFFIC SIGNALS                               0.004205\n",
       "x4_POLICE/FLAGMAN                                              0.004032\n",
       "x12_OPERATING VEHICLE IN ERRATIC, RECKLESS, CAR...             0.003891\n",
       "x12_EVASIVE ACTION DUE TO ANIMAL, OBJECT, NONMO...             0.003579\n",
       "x4_OTHER WARNING SIGN                                          0.003378\n",
       "x12_DISREGARDING ROAD MARKINGS                                 0.003264\n",
       "x12_RELATED TO BUS STOP                                        0.003040\n",
       "x12_EXCEEDING SAFE SPEED FOR CONDITIONS                        0.002992\n",
       "x12_DISTRACTION - FROM OUTSIDE VEHICLE                         0.002572\n",
       "x12_DISREGARDING OTHER TRAFFIC SIGNS                           0.002519\n",
       "x12_FAILING TO REDUCE SPEED TO AVOID CRASH                     0.002148\n",
       "x4_OTHER                                                       0.001839\n",
       "x12_NOT APPLICABLE                                             0.001693\n",
       "x12_VISION OBSCURED (SIGNS, TREE LIMBS, BUILDIN...             0.001411\n",
       "x12_DISREGARDING STOP SIGN                                     0.001341\n",
       "x12_HAD BEEN DRINKING (USE WHEN ARREST IS NOT M...             0.001287\n",
       "x4_TRAFFIC SIGNAL                                              0.001169\n",
       "x12_DISTRACTION - FROM INSIDE VEHICLE                          0.001161\n",
       "x4_NO CONTROLS                                                 0.001093\n",
       "x7_Y-INTERSECTION                                              0.001063\n",
       "x12_UNABLE TO DETERMINE                                        0.000944\n",
       "x4_YIELD                                                       0.000931\n",
       "x12_FAILING TO YIELD RIGHT-OF-WAY                              0.000881\n",
       "x4_STOP SIGN/FLASHER                                           0.000851\n",
       "x4_UNKNOWN                                                     0.000629\n",
       "x12_ROAD ENGINEERING/SURFACE/MARKING DEFECTS                   0.000551\n",
       "x12_IMPROPER LANE USAGE                                        0.000445\n",
       "x12_EQUIPMENT - VEHICLE CONDITION                              0.000433\n",
       "x12_IMPROPER OVERTAKING/PASSING                                0.000382\n",
       "x12_IMPROPER TURNING/NO SIGNAL                                 0.000242\n",
       "x12_DRIVING SKILLS/KNOWLEDGE/EXPERIENCE                        0.000203\n",
       "x12_IMPROPER BACKING                                           0.000100\n",
       "x12_FOLLOWING TOO CLOSELY                                      0.000054"
      ]
     },
     "execution_count": 60,
     "metadata": {},
     "output_type": "execute_result"
    }
   ],
   "source": [
    "relevant_columns = coefs_df['features'].unique()[-45:].tolist() #select columns to analyze the fatal percentage of\n",
    "coef_fatal_percent_df = calc_percentage(categorical_and_fatal_df, relevant_columns)\n",
    "coef_fatal_percent_df"
   ]
  },
  {
   "cell_type": "code",
   "execution_count": null,
   "metadata": {},
   "outputs": [],
   "source": [
    "#x6 is Crash Hour, 1 corresponding to 1pm and 21 corresponding to 9pm\n",
    "vehicles_crashes_df['Crash Hour'].value_counts()"
   ]
  },
  {
   "cell_type": "code",
   "execution_count": null,
   "metadata": {},
   "outputs": [],
   "source": [
    "#Group by index for easier group analysis\n",
    "grouped_feature_fatal_percent_df = feature_fatal_percent_df.sort_index()\n",
    "grouped_feature_fatal_percent_df"
   ]
  },
  {
   "cell_type": "code",
   "execution_count": 61,
   "metadata": {},
   "outputs": [],
   "source": [
    "#Output df to csv for graph making in Tableau\n",
    "coef_fatal_percent_df.to_csv('../data/localdata/coef_fatal_percent.csv', index=True)\n",
    "#grouped_feature_fatal_percent_df.to_csv('../data/localdata/grouped_feature_fatal_percent.csv', index=True)"
   ]
  },
  {
   "cell_type": "markdown",
   "metadata": {},
   "source": [
    "## Testing Data"
   ]
  },
  {
   "cell_type": "code",
   "execution_count": null,
   "metadata": {},
   "outputs": [],
   "source": [
    "y_preds_test = clf_1pipe.predict(X_test)\n",
    "print('Recall: ', recall_score(y_test, y_preds_test, pos_label = 'Fatal'))"
   ]
  },
  {
   "cell_type": "code",
   "execution_count": null,
   "metadata": {},
   "outputs": [],
   "source": [
    "y_pred_test = logpipe.predict(X_test)\n",
    "\n",
    "print(\"Training recall: \", recall_score(y_test, y_pred_test, pos_label = 'Fatal'))"
   ]
  },
  {
   "cell_type": "code",
   "execution_count": null,
   "metadata": {},
   "outputs": [],
   "source": [
    "plot_confusion_matrix(logpipe, y_test, y_pred_test, labels = ['Not Fatal', 'Fatal']);"
   ]
  },
  {
   "cell_type": "code",
   "execution_count": null,
   "metadata": {},
   "outputs": [],
   "source": []
  },
  {
   "cell_type": "code",
   "execution_count": null,
   "metadata": {},
   "outputs": [],
   "source": []
  }
 ],
 "metadata": {
  "kernelspec": {
   "display_name": "Python 3",
   "language": "python",
   "name": "python3"
  },
  "language_info": {
   "codemirror_mode": {
    "name": "ipython",
    "version": 3
   },
   "file_extension": ".py",
   "mimetype": "text/x-python",
   "name": "python",
   "nbconvert_exporter": "python",
   "pygments_lexer": "ipython3",
   "version": "3.8.5"
  }
 },
 "nbformat": 4,
 "nbformat_minor": 5
}
