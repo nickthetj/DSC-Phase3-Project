{
 "cells": [
  {
   "cell_type": "code",
   "execution_count": 1,
   "metadata": {},
   "outputs": [],
   "source": [
    "import pandas as pd\n",
    "import numpy as np\n",
    "from matplotlib import pyplot as plt\n",
    "from mpl_toolkits.mplot3d import Axes3D\n",
    "from random import gauss, seed\n",
    "from scipy import stats\n",
    "import seaborn as sns\n",
    "from mpl_toolkits import mplot3d\n",
    "import sklearn.metrics as metrics\n",
    "import statsmodels.api as sm\n",
    "from sklearn.model_selection import train_test_split\n",
    "\n",
    "%matplotlib inline\n",
    "\n",
    "from sklearn.utils import resample\n",
    "from sklearn.datasets import load_breast_cancer, load_iris, make_classification\n",
    "from sklearn.model_selection import train_test_split, cross_validate\n",
    "from sklearn.preprocessing import StandardScaler\n",
    "from sklearn.linear_model import LogisticRegression\n",
    "\n",
    "from sklearn.metrics import confusion_matrix, plot_confusion_matrix,\\\n",
    "    precision_score, recall_score, accuracy_score, f1_score, log_loss,\\\n",
    "    roc_curve, roc_auc_score, classification_report\n"
   ]
  },
  {
   "cell_type": "code",
   "execution_count": 2,
   "metadata": {},
   "outputs": [
    {
     "name": "stderr",
     "output_type": "stream",
     "text": [
      "/Users/robertdaly/anaconda3/envs/learn-env/lib/python3.8/site-packages/IPython/core/interactiveshell.py:3145: DtypeWarning: Columns (20,24,25,26,29) have mixed types.Specify dtype option on import or set low_memory=False.\n",
      "  has_raised = await self.run_ast_nodes(code_ast.body, cell_name,\n",
      "/Users/robertdaly/anaconda3/envs/learn-env/lib/python3.8/site-packages/IPython/core/interactiveshell.py:3145: DtypeWarning: Columns (19,21,40,41,42,44,48,49,50,53,55,58,59,61,71) have mixed types.Specify dtype option on import or set low_memory=False.\n",
      "  has_raised = await self.run_ast_nodes(code_ast.body, cell_name,\n"
     ]
    }
   ],
   "source": [
    "crashes_df = pd.read_csv('data/localdata/Crashes.csv')\n",
    "people_df = pd.read_csv('data/localdata/People.csv')\n",
    "vehicles_df = pd.read_csv('data/localdata/Vehicles.csv')"
   ]
  },
  {
   "cell_type": "code",
   "execution_count": 3,
   "metadata": {},
   "outputs": [
    {
     "data": {
      "text/html": [
       "<div>\n",
       "<style scoped>\n",
       "    .dataframe tbody tr th:only-of-type {\n",
       "        vertical-align: middle;\n",
       "    }\n",
       "\n",
       "    .dataframe tbody tr th {\n",
       "        vertical-align: top;\n",
       "    }\n",
       "\n",
       "    .dataframe thead th {\n",
       "        text-align: right;\n",
       "    }\n",
       "</style>\n",
       "<table border=\"1\" class=\"dataframe\">\n",
       "  <thead>\n",
       "    <tr style=\"text-align: right;\">\n",
       "      <th></th>\n",
       "      <th>PERSON_ID</th>\n",
       "      <th>PERSON_TYPE</th>\n",
       "      <th>CRASH_RECORD_ID</th>\n",
       "      <th>RD_NO</th>\n",
       "      <th>VEHICLE_ID</th>\n",
       "      <th>CRASH_DATE</th>\n",
       "      <th>SEAT_NO</th>\n",
       "      <th>CITY</th>\n",
       "      <th>STATE</th>\n",
       "      <th>ZIPCODE</th>\n",
       "      <th>...</th>\n",
       "      <th>EMS_RUN_NO</th>\n",
       "      <th>DRIVER_ACTION</th>\n",
       "      <th>DRIVER_VISION</th>\n",
       "      <th>PHYSICAL_CONDITION</th>\n",
       "      <th>PEDPEDAL_ACTION</th>\n",
       "      <th>PEDPEDAL_VISIBILITY</th>\n",
       "      <th>PEDPEDAL_LOCATION</th>\n",
       "      <th>BAC_RESULT</th>\n",
       "      <th>BAC_RESULT VALUE</th>\n",
       "      <th>CELL_PHONE_USE</th>\n",
       "    </tr>\n",
       "  </thead>\n",
       "  <tbody>\n",
       "    <tr>\n",
       "      <th>0</th>\n",
       "      <td>O749947</td>\n",
       "      <td>DRIVER</td>\n",
       "      <td>81dc0de2ed92aa62baccab641fa377be7feb1cc47e6554...</td>\n",
       "      <td>JC451435</td>\n",
       "      <td>834816.0</td>\n",
       "      <td>09/28/2019 03:30:00 AM</td>\n",
       "      <td>NaN</td>\n",
       "      <td>CHICAGO</td>\n",
       "      <td>IL</td>\n",
       "      <td>60651</td>\n",
       "      <td>...</td>\n",
       "      <td>NaN</td>\n",
       "      <td>UNKNOWN</td>\n",
       "      <td>UNKNOWN</td>\n",
       "      <td>UNKNOWN</td>\n",
       "      <td>NaN</td>\n",
       "      <td>NaN</td>\n",
       "      <td>NaN</td>\n",
       "      <td>TEST NOT OFFERED</td>\n",
       "      <td>NaN</td>\n",
       "      <td>NaN</td>\n",
       "    </tr>\n",
       "    <tr>\n",
       "      <th>1</th>\n",
       "      <td>O871921</td>\n",
       "      <td>DRIVER</td>\n",
       "      <td>af84fb5c8d996fcd3aefd36593c3a02e6e7509eeb27568...</td>\n",
       "      <td>JD208731</td>\n",
       "      <td>827212.0</td>\n",
       "      <td>04/13/2020 10:50:00 PM</td>\n",
       "      <td>NaN</td>\n",
       "      <td>CHICAGO</td>\n",
       "      <td>IL</td>\n",
       "      <td>60620</td>\n",
       "      <td>...</td>\n",
       "      <td>NaN</td>\n",
       "      <td>NONE</td>\n",
       "      <td>NOT OBSCURED</td>\n",
       "      <td>NORMAL</td>\n",
       "      <td>NaN</td>\n",
       "      <td>NaN</td>\n",
       "      <td>NaN</td>\n",
       "      <td>TEST NOT OFFERED</td>\n",
       "      <td>NaN</td>\n",
       "      <td>NaN</td>\n",
       "    </tr>\n",
       "    <tr>\n",
       "      <th>2</th>\n",
       "      <td>O10018</td>\n",
       "      <td>DRIVER</td>\n",
       "      <td>71162af7bf22799b776547132ebf134b5b438dcf3dac6b...</td>\n",
       "      <td>HY484534</td>\n",
       "      <td>9579.0</td>\n",
       "      <td>11/01/2015 05:00:00 AM</td>\n",
       "      <td>NaN</td>\n",
       "      <td>NaN</td>\n",
       "      <td>NaN</td>\n",
       "      <td>NaN</td>\n",
       "      <td>...</td>\n",
       "      <td>NaN</td>\n",
       "      <td>IMPROPER BACKING</td>\n",
       "      <td>UNKNOWN</td>\n",
       "      <td>UNKNOWN</td>\n",
       "      <td>NaN</td>\n",
       "      <td>NaN</td>\n",
       "      <td>NaN</td>\n",
       "      <td>TEST NOT OFFERED</td>\n",
       "      <td>NaN</td>\n",
       "      <td>NaN</td>\n",
       "    </tr>\n",
       "    <tr>\n",
       "      <th>3</th>\n",
       "      <td>O10038</td>\n",
       "      <td>DRIVER</td>\n",
       "      <td>c21c476e2ccc41af550b5d858d22aaac4ffc88745a1700...</td>\n",
       "      <td>HY484750</td>\n",
       "      <td>9598.0</td>\n",
       "      <td>11/01/2015 08:00:00 AM</td>\n",
       "      <td>NaN</td>\n",
       "      <td>NaN</td>\n",
       "      <td>NaN</td>\n",
       "      <td>NaN</td>\n",
       "      <td>...</td>\n",
       "      <td>NaN</td>\n",
       "      <td>UNKNOWN</td>\n",
       "      <td>UNKNOWN</td>\n",
       "      <td>UNKNOWN</td>\n",
       "      <td>NaN</td>\n",
       "      <td>NaN</td>\n",
       "      <td>NaN</td>\n",
       "      <td>TEST NOT OFFERED</td>\n",
       "      <td>NaN</td>\n",
       "      <td>NaN</td>\n",
       "    </tr>\n",
       "    <tr>\n",
       "      <th>4</th>\n",
       "      <td>O10039</td>\n",
       "      <td>DRIVER</td>\n",
       "      <td>eb390a4c8e114c69488f5fb8a097fe629f5a92fd528cf4...</td>\n",
       "      <td>HY484778</td>\n",
       "      <td>9600.0</td>\n",
       "      <td>11/01/2015 10:15:00 AM</td>\n",
       "      <td>NaN</td>\n",
       "      <td>NaN</td>\n",
       "      <td>NaN</td>\n",
       "      <td>NaN</td>\n",
       "      <td>...</td>\n",
       "      <td>NaN</td>\n",
       "      <td>UNKNOWN</td>\n",
       "      <td>UNKNOWN</td>\n",
       "      <td>UNKNOWN</td>\n",
       "      <td>NaN</td>\n",
       "      <td>NaN</td>\n",
       "      <td>NaN</td>\n",
       "      <td>TEST NOT OFFERED</td>\n",
       "      <td>NaN</td>\n",
       "      <td>NaN</td>\n",
       "    </tr>\n",
       "  </tbody>\n",
       "</table>\n",
       "<p>5 rows × 30 columns</p>\n",
       "</div>"
      ],
      "text/plain": [
       "  PERSON_ID PERSON_TYPE                                    CRASH_RECORD_ID  \\\n",
       "0   O749947      DRIVER  81dc0de2ed92aa62baccab641fa377be7feb1cc47e6554...   \n",
       "1   O871921      DRIVER  af84fb5c8d996fcd3aefd36593c3a02e6e7509eeb27568...   \n",
       "2    O10018      DRIVER  71162af7bf22799b776547132ebf134b5b438dcf3dac6b...   \n",
       "3    O10038      DRIVER  c21c476e2ccc41af550b5d858d22aaac4ffc88745a1700...   \n",
       "4    O10039      DRIVER  eb390a4c8e114c69488f5fb8a097fe629f5a92fd528cf4...   \n",
       "\n",
       "      RD_NO  VEHICLE_ID              CRASH_DATE  SEAT_NO     CITY STATE  \\\n",
       "0  JC451435    834816.0  09/28/2019 03:30:00 AM      NaN  CHICAGO    IL   \n",
       "1  JD208731    827212.0  04/13/2020 10:50:00 PM      NaN  CHICAGO    IL   \n",
       "2  HY484534      9579.0  11/01/2015 05:00:00 AM      NaN      NaN   NaN   \n",
       "3  HY484750      9598.0  11/01/2015 08:00:00 AM      NaN      NaN   NaN   \n",
       "4  HY484778      9600.0  11/01/2015 10:15:00 AM      NaN      NaN   NaN   \n",
       "\n",
       "  ZIPCODE  ... EMS_RUN_NO     DRIVER_ACTION DRIVER_VISION PHYSICAL_CONDITION  \\\n",
       "0   60651  ...        NaN           UNKNOWN       UNKNOWN            UNKNOWN   \n",
       "1   60620  ...        NaN              NONE  NOT OBSCURED             NORMAL   \n",
       "2     NaN  ...        NaN  IMPROPER BACKING       UNKNOWN            UNKNOWN   \n",
       "3     NaN  ...        NaN           UNKNOWN       UNKNOWN            UNKNOWN   \n",
       "4     NaN  ...        NaN           UNKNOWN       UNKNOWN            UNKNOWN   \n",
       "\n",
       "  PEDPEDAL_ACTION PEDPEDAL_VISIBILITY PEDPEDAL_LOCATION        BAC_RESULT  \\\n",
       "0             NaN                 NaN               NaN  TEST NOT OFFERED   \n",
       "1             NaN                 NaN               NaN  TEST NOT OFFERED   \n",
       "2             NaN                 NaN               NaN  TEST NOT OFFERED   \n",
       "3             NaN                 NaN               NaN  TEST NOT OFFERED   \n",
       "4             NaN                 NaN               NaN  TEST NOT OFFERED   \n",
       "\n",
       "  BAC_RESULT VALUE CELL_PHONE_USE  \n",
       "0              NaN            NaN  \n",
       "1              NaN            NaN  \n",
       "2              NaN            NaN  \n",
       "3              NaN            NaN  \n",
       "4              NaN            NaN  \n",
       "\n",
       "[5 rows x 30 columns]"
      ]
     },
     "execution_count": 3,
     "metadata": {},
     "output_type": "execute_result"
    }
   ],
   "source": [
    "people_df.head()"
   ]
  },
  {
   "cell_type": "code",
   "execution_count": 4,
   "metadata": {},
   "outputs": [
    {
     "name": "stdout",
     "output_type": "stream",
     "text": [
      "<class 'pandas.core.frame.DataFrame'>\n",
      "RangeIndex: 1651814 entries, 0 to 1651813\n",
      "Data columns (total 30 columns):\n",
      " #   Column                 Non-Null Count    Dtype  \n",
      "---  ------                 --------------    -----  \n",
      " 0   PERSON_ID              1651814 non-null  object \n",
      " 1   PERSON_TYPE            1651814 non-null  object \n",
      " 2   CRASH_RECORD_ID        1651814 non-null  object \n",
      " 3   RD_NO                  1642247 non-null  object \n",
      " 4   VEHICLE_ID             1619178 non-null  float64\n",
      " 5   CRASH_DATE             1651814 non-null  object \n",
      " 6   SEAT_NO                334546 non-null   float64\n",
      " 7   CITY                   1203874 non-null  object \n",
      " 8   STATE                  1221019 non-null  object \n",
      " 9   ZIPCODE                1102457 non-null  object \n",
      " 10  SEX                    1625151 non-null  object \n",
      " 11  AGE                    1170060 non-null  float64\n",
      " 12  DRIVERS_LICENSE_STATE  969159 non-null   object \n",
      " 13  DRIVERS_LICENSE_CLASS  814924 non-null   object \n",
      " 14  SAFETY_EQUIPMENT       1647197 non-null  object \n",
      " 15  AIRBAG_DEPLOYED        1620436 non-null  object \n",
      " 16  EJECTION               1631636 non-null  object \n",
      " 17  INJURY_CLASSIFICATION  1651123 non-null  object \n",
      " 18  HOSPITAL               279394 non-null   object \n",
      " 19  EMS_AGENCY             173311 non-null   object \n",
      " 20  EMS_RUN_NO             28645 non-null    object \n",
      " 21  DRIVER_ACTION          1314308 non-null  object \n",
      " 22  DRIVER_VISION          1313822 non-null  object \n",
      " 23  PHYSICAL_CONDITION     1315211 non-null  object \n",
      " 24  PEDPEDAL_ACTION        31000 non-null    object \n",
      " 25  PEDPEDAL_VISIBILITY    30941 non-null    object \n",
      " 26  PEDPEDAL_LOCATION      30998 non-null    object \n",
      " 27  BAC_RESULT             1315301 non-null  object \n",
      " 28  BAC_RESULT VALUE       1907 non-null     float64\n",
      " 29  CELL_PHONE_USE         1158 non-null     object \n",
      "dtypes: float64(4), object(26)\n",
      "memory usage: 378.1+ MB\n"
     ]
    }
   ],
   "source": [
    "people_df.info()"
   ]
  },
  {
   "cell_type": "code",
   "execution_count": 5,
   "metadata": {},
   "outputs": [
    {
     "name": "stdout",
     "output_type": "stream",
     "text": [
      "<class 'pandas.core.frame.DataFrame'>\n",
      "RangeIndex: 1534825 entries, 0 to 1534824\n",
      "Data columns (total 72 columns):\n",
      " #   Column                    Non-Null Count    Dtype  \n",
      "---  ------                    --------------    -----  \n",
      " 0   CRASH_UNIT_ID             1534825 non-null  int64  \n",
      " 1   CRASH_RECORD_ID           1534825 non-null  object \n",
      " 2   RD_NO                     1526222 non-null  object \n",
      " 3   CRASH_DATE                1534825 non-null  object \n",
      " 4   UNIT_NO                   1534825 non-null  int64  \n",
      " 5   UNIT_TYPE                 1532776 non-null  object \n",
      " 6   NUM_PASSENGERS            227298 non-null   float64\n",
      " 7   VEHICLE_ID                1499997 non-null  float64\n",
      " 8   CMRC_VEH_I                28641 non-null    object \n",
      " 9   MAKE                      1499992 non-null  object \n",
      " 10  MODEL                     1499848 non-null  object \n",
      " 11  LIC_PLATE_STATE           1363068 non-null  object \n",
      " 12  VEHICLE_YEAR              1257350 non-null  float64\n",
      " 13  VEHICLE_DEFECT            1499997 non-null  object \n",
      " 14  VEHICLE_TYPE              1499997 non-null  object \n",
      " 15  VEHICLE_USE               1499997 non-null  object \n",
      " 16  TRAVEL_DIRECTION          1499997 non-null  object \n",
      " 17  MANEUVER                  1499997 non-null  object \n",
      " 18  TOWED_I                   189209 non-null   object \n",
      " 19  FIRE_I                    1245 non-null     object \n",
      " 20  OCCUPANT_CNT              1499997 non-null  float64\n",
      " 21  EXCEED_SPEED_LIMIT_I      2397 non-null     object \n",
      " 22  TOWED_BY                  141678 non-null   object \n",
      " 23  TOWED_TO                  87140 non-null    object \n",
      " 24  AREA_00_I                 53465 non-null    object \n",
      " 25  AREA_01_I                 407893 non-null   object \n",
      " 26  AREA_02_I                 244949 non-null   object \n",
      " 27  AREA_03_I                 146371 non-null   object \n",
      " 28  AREA_04_I                 146938 non-null   object \n",
      " 29  AREA_05_I                 228059 non-null   object \n",
      " 30  AREA_06_I                 239041 non-null   object \n",
      " 31  AREA_07_I                 218892 non-null   object \n",
      " 32  AREA_08_I                 223387 non-null   object \n",
      " 33  AREA_09_I                 97955 non-null    object \n",
      " 34  AREA_10_I                 141966 non-null   object \n",
      " 35  AREA_11_I                 276303 non-null   object \n",
      " 36  AREA_12_I                 271157 non-null   object \n",
      " 37  AREA_99_I                 171686 non-null   object \n",
      " 38  FIRST_CONTACT_POINT       1496902 non-null  object \n",
      " 39  CMV_ID                    15862 non-null    float64\n",
      " 40  USDOT_NO                  8975 non-null     object \n",
      " 41  CCMC_NO                   1933 non-null     object \n",
      " 42  ILCC_NO                   1341 non-null     object \n",
      " 43  COMMERCIAL_SRC            10628 non-null    object \n",
      " 44  GVWR                      8903 non-null     object \n",
      " 45  CARRIER_NAME              15161 non-null    object \n",
      " 46  CARRIER_STATE             14241 non-null    object \n",
      " 47  CARRIER_CITY              13979 non-null    object \n",
      " 48  HAZMAT_PLACARDS_I         312 non-null      object \n",
      " 49  HAZMAT_NAME               57 non-null       object \n",
      " 50  UN_NO                     539 non-null      object \n",
      " 51  HAZMAT_PRESENT_I          11575 non-null    object \n",
      " 52  HAZMAT_REPORT_I           11244 non-null    object \n",
      " 53  HAZMAT_REPORT_NO          1 non-null        object \n",
      " 54  MCS_REPORT_I              11291 non-null    object \n",
      " 55  MCS_REPORT_NO             7 non-null        object \n",
      " 56  HAZMAT_VIO_CAUSE_CRASH_I  11407 non-null    object \n",
      " 57  MCS_VIO_CAUSE_CRASH_I     11202 non-null    object \n",
      " 58  IDOT_PERMIT_NO            871 non-null      object \n",
      " 59  WIDE_LOAD_I               134 non-null      object \n",
      " 60  TRAILER1_WIDTH            2790 non-null     object \n",
      " 61  TRAILER2_WIDTH            329 non-null      object \n",
      " 62  TRAILER1_LENGTH           2265 non-null     float64\n",
      " 63  TRAILER2_LENGTH           66 non-null       float64\n",
      " 64  TOTAL_VEHICLE_LENGTH      2749 non-null     float64\n",
      " 65  AXLE_CNT                  4092 non-null     float64\n",
      " 66  VEHICLE_CONFIG            13143 non-null    object \n",
      " 67  CARGO_BODY_TYPE           12550 non-null    object \n",
      " 68  LOAD_TYPE                 12005 non-null    object \n",
      " 69  HAZMAT_OUT_OF_SERVICE_I   10913 non-null    object \n",
      " 70  MCS_OUT_OF_SERVICE_I      11161 non-null    object \n",
      " 71  HAZMAT_CLASS              1049 non-null     object \n",
      "dtypes: float64(9), int64(2), object(61)\n",
      "memory usage: 843.1+ MB\n"
     ]
    }
   ],
   "source": [
    "vehicles_df.info()"
   ]
  },
  {
   "cell_type": "code",
   "execution_count": 6,
   "metadata": {},
   "outputs": [
    {
     "name": "stdout",
     "output_type": "stream",
     "text": [
      "<class 'pandas.core.frame.DataFrame'>\n",
      "RangeIndex: 752649 entries, 0 to 752648\n",
      "Data columns (total 49 columns):\n",
      " #   Column                         Non-Null Count   Dtype  \n",
      "---  ------                         --------------   -----  \n",
      " 0   CRASH_RECORD_ID                752649 non-null  object \n",
      " 1   RD_NO                          748463 non-null  object \n",
      " 2   CRASH_DATE_EST_I               56767 non-null   object \n",
      " 3   CRASH_DATE                     752649 non-null  object \n",
      " 4   POSTED_SPEED_LIMIT             752649 non-null  int64  \n",
      " 5   TRAFFIC_CONTROL_DEVICE         752649 non-null  object \n",
      " 6   DEVICE_CONDITION               752649 non-null  object \n",
      " 7   WEATHER_CONDITION              752649 non-null  object \n",
      " 8   LIGHTING_CONDITION             752649 non-null  object \n",
      " 9   FIRST_CRASH_TYPE               752649 non-null  object \n",
      " 10  TRAFFICWAY_TYPE                752649 non-null  object \n",
      " 11  LANE_CNT                       199004 non-null  float64\n",
      " 12  ALIGNMENT                      752649 non-null  object \n",
      " 13  ROADWAY_SURFACE_COND           752649 non-null  object \n",
      " 14  ROAD_DEFECT                    752649 non-null  object \n",
      " 15  REPORT_TYPE                    731161 non-null  object \n",
      " 16  CRASH_TYPE                     752649 non-null  object \n",
      " 17  INTERSECTION_RELATED_I         172451 non-null  object \n",
      " 18  NOT_RIGHT_OF_WAY_I             35035 non-null   object \n",
      " 19  HIT_AND_RUN_I                  234834 non-null  object \n",
      " 20  DAMAGE                         752649 non-null  object \n",
      " 21  DATE_POLICE_NOTIFIED           752649 non-null  object \n",
      " 22  PRIM_CONTRIBUTORY_CAUSE        752649 non-null  object \n",
      " 23  SEC_CONTRIBUTORY_CAUSE         752649 non-null  object \n",
      " 24  STREET_NO                      752649 non-null  int64  \n",
      " 25  STREET_DIRECTION               752645 non-null  object \n",
      " 26  STREET_NAME                    752648 non-null  object \n",
      " 27  BEAT_OF_OCCURRENCE             752644 non-null  float64\n",
      " 28  PHOTOS_TAKEN_I                 9583 non-null    object \n",
      " 29  STATEMENTS_TAKEN_I             16253 non-null   object \n",
      " 30  DOORING_I                      2309 non-null    object \n",
      " 31  WORK_ZONE_I                    4353 non-null    object \n",
      " 32  WORK_ZONE_TYPE                 3393 non-null    object \n",
      " 33  WORKERS_PRESENT_I              1122 non-null    object \n",
      " 34  NUM_UNITS                      752649 non-null  int64  \n",
      " 35  MOST_SEVERE_INJURY             751010 non-null  object \n",
      " 36  INJURIES_TOTAL                 751021 non-null  float64\n",
      " 37  INJURIES_FATAL                 751021 non-null  float64\n",
      " 38  INJURIES_INCAPACITATING        751021 non-null  float64\n",
      " 39  INJURIES_NON_INCAPACITATING    751021 non-null  float64\n",
      " 40  INJURIES_REPORTED_NOT_EVIDENT  751021 non-null  float64\n",
      " 41  INJURIES_NO_INDICATION         751021 non-null  float64\n",
      " 42  INJURIES_UNKNOWN               751021 non-null  float64\n",
      " 43  CRASH_HOUR                     752649 non-null  int64  \n",
      " 44  CRASH_DAY_OF_WEEK              752649 non-null  int64  \n",
      " 45  CRASH_MONTH                    752649 non-null  int64  \n",
      " 46  LATITUDE                       747674 non-null  float64\n",
      " 47  LONGITUDE                      747674 non-null  float64\n",
      " 48  LOCATION                       747674 non-null  object \n",
      "dtypes: float64(11), int64(6), object(32)\n",
      "memory usage: 281.4+ MB\n"
     ]
    }
   ],
   "source": [
    "crashes_df.info()"
   ]
  },
  {
   "cell_type": "code",
   "execution_count": 7,
   "metadata": {},
   "outputs": [
    {
     "data": {
      "text/plain": [
       "UNABLE TO DETERMINE                                                                 291069\n",
       "FAILING TO YIELD RIGHT-OF-WAY                                                        82318\n",
       "FOLLOWING TOO CLOSELY                                                                74202\n",
       "NOT APPLICABLE                                                                       39743\n",
       "IMPROPER OVERTAKING/PASSING                                                          36900\n",
       "FAILING TO REDUCE SPEED TO AVOID CRASH                                               31869\n",
       "IMPROPER BACKING                                                                     30204\n",
       "IMPROPER LANE USAGE                                                                  27322\n",
       "IMPROPER TURNING/NO SIGNAL                                                           24934\n",
       "DRIVING SKILLS/KNOWLEDGE/EXPERIENCE                                                  24871\n",
       "DISREGARDING TRAFFIC SIGNALS                                                         14619\n",
       "WEATHER                                                                              11573\n",
       "OPERATING VEHICLE IN ERRATIC, RECKLESS, CARELESS, NEGLIGENT OR AGGRESSIVE MANNER      9605\n",
       "DISREGARDING STOP SIGN                                                                8226\n",
       "DISTRACTION - FROM INSIDE VEHICLE                                                     5205\n",
       "EQUIPMENT - VEHICLE CONDITION                                                         4730\n",
       "PHYSICAL CONDITION OF DRIVER                                                          4553\n",
       "VISION OBSCURED (SIGNS, TREE LIMBS, BUILDINGS, ETC.)                                  4296\n",
       "DRIVING ON WRONG SIDE/WRONG WAY                                                       3960\n",
       "UNDER THE INFLUENCE OF ALCOHOL/DRUGS (USE WHEN ARREST IS EFFECTED)                    3614\n",
       "DISTRACTION - FROM OUTSIDE VEHICLE                                                    3145\n",
       "EXCEEDING AUTHORIZED SPEED LIMIT                                                      1982\n",
       "ROAD ENGINEERING/SURFACE/MARKING DEFECTS                                              1914\n",
       "EXCEEDING SAFE SPEED FOR CONDITIONS                                                   1684\n",
       "ROAD CONSTRUCTION/MAINTENANCE                                                         1650\n",
       "DISREGARDING OTHER TRAFFIC SIGNS                                                      1618\n",
       "EVASIVE ACTION DUE TO ANIMAL, OBJECT, NONMOTORIST                                     1410\n",
       "CELL PHONE USE OTHER THAN TEXTING                                                     1012\n",
       "DISREGARDING ROAD MARKINGS                                                             938\n",
       "HAD BEEN DRINKING (USE WHEN ARREST IS NOT MADE)                                        788\n",
       "ANIMAL                                                                                 630\n",
       "TURNING RIGHT ON RED                                                                   550\n",
       "DISTRACTION - OTHER ELECTRONIC DEVICE (NAVIGATION DEVICE, DVD PLAYER, ETC.)            357\n",
       "RELATED TO BUS STOP                                                                    333\n",
       "TEXTING                                                                                300\n",
       "DISREGARDING YIELD SIGN                                                                263\n",
       "PASSING STOPPED SCHOOL BUS                                                              90\n",
       "BICYCLE ADVANCING LEGALLY ON RED LIGHT                                                  78\n",
       "OBSTRUCTED CROSSWALKS                                                                   72\n",
       "MOTORCYCLE ADVANCING LEGALLY ON RED LIGHT                                               22\n",
       "Name: PRIM_CONTRIBUTORY_CAUSE, dtype: int64"
      ]
     },
     "execution_count": 7,
     "metadata": {},
     "output_type": "execute_result"
    }
   ],
   "source": [
    "crashes_df['PRIM_CONTRIBUTORY_CAUSE'].value_counts()"
   ]
  },
  {
   "cell_type": "code",
   "execution_count": 8,
   "metadata": {},
   "outputs": [
    {
     "data": {
      "text/plain": [
       "NOT APPLICABLE                                                                      307677\n",
       "UNABLE TO DETERMINE                                                                 273021\n",
       "FAILING TO REDUCE SPEED TO AVOID CRASH                                               28574\n",
       "FAILING TO YIELD RIGHT-OF-WAY                                                        23223\n",
       "DRIVING SKILLS/KNOWLEDGE/EXPERIENCE                                                  23049\n",
       "FOLLOWING TOO CLOSELY                                                                19924\n",
       "IMPROPER OVERTAKING/PASSING                                                          11443\n",
       "IMPROPER LANE USAGE                                                                  10637\n",
       "WEATHER                                                                               8730\n",
       "IMPROPER TURNING/NO SIGNAL                                                            7594\n",
       "IMPROPER BACKING                                                                      6109\n",
       "OPERATING VEHICLE IN ERRATIC, RECKLESS, CARELESS, NEGLIGENT OR AGGRESSIVE MANNER      4808\n",
       "DISREGARDING TRAFFIC SIGNALS                                                          3020\n",
       "VISION OBSCURED (SIGNS, TREE LIMBS, BUILDINGS, ETC.)                                  2417\n",
       "PHYSICAL CONDITION OF DRIVER                                                          2336\n",
       "DISTRACTION - FROM INSIDE VEHICLE                                                     2294\n",
       "DISREGARDING STOP SIGN                                                                2207\n",
       "EQUIPMENT - VEHICLE CONDITION                                                         1529\n",
       "DRIVING ON WRONG SIDE/WRONG WAY                                                       1521\n",
       "EXCEEDING AUTHORIZED SPEED LIMIT                                                      1473\n",
       "EXCEEDING SAFE SPEED FOR CONDITIONS                                                   1438\n",
       "DISTRACTION - FROM OUTSIDE VEHICLE                                                    1266\n",
       "UNDER THE INFLUENCE OF ALCOHOL/DRUGS (USE WHEN ARREST IS EFFECTED)                    1249\n",
       "HAD BEEN DRINKING (USE WHEN ARREST IS NOT MADE)                                        943\n",
       "ROAD CONSTRUCTION/MAINTENANCE                                                          895\n",
       "DISREGARDING OTHER TRAFFIC SIGNS                                                       775\n",
       "DISREGARDING ROAD MARKINGS                                                             770\n",
       "ROAD ENGINEERING/SURFACE/MARKING DEFECTS                                               756\n",
       "CELL PHONE USE OTHER THAN TEXTING                                                      565\n",
       "EVASIVE ACTION DUE TO ANIMAL, OBJECT, NONMOTORIST                                      411\n",
       "ANIMAL                                                                                 360\n",
       "RELATED TO BUS STOP                                                                    344\n",
       "TURNING RIGHT ON RED                                                                   288\n",
       "BICYCLE ADVANCING LEGALLY ON RED LIGHT                                                 225\n",
       "DISTRACTION - OTHER ELECTRONIC DEVICE (NAVIGATION DEVICE, DVD PLAYER, ETC.)            223\n",
       "DISREGARDING YIELD SIGN                                                                195\n",
       "TEXTING                                                                                140\n",
       "PASSING STOPPED SCHOOL BUS                                                              88\n",
       "OBSTRUCTED CROSSWALKS                                                                   77\n",
       "MOTORCYCLE ADVANCING LEGALLY ON RED LIGHT                                               55\n",
       "Name: SEC_CONTRIBUTORY_CAUSE, dtype: int64"
      ]
     },
     "execution_count": 8,
     "metadata": {},
     "output_type": "execute_result"
    }
   ],
   "source": [
    "crashes_df['SEC_CONTRIBUTORY_CAUSE'].value_counts()"
   ]
  },
  {
   "cell_type": "code",
   "execution_count": 9,
   "metadata": {},
   "outputs": [
    {
     "data": {
      "text/plain": [
       "OVER $1,500      461672\n",
       "$501 - $1,500    203738\n",
       "$500 OR LESS      87239\n",
       "Name: DAMAGE, dtype: int64"
      ]
     },
     "execution_count": 9,
     "metadata": {},
     "output_type": "execute_result"
    }
   ],
   "source": [
    "crashes_df['DAMAGE'].value_counts()"
   ]
  },
  {
   "cell_type": "code",
   "execution_count": 10,
   "metadata": {},
   "outputs": [
    {
     "data": {
      "text/plain": [
       "0.0    750205\n",
       "1.0       756\n",
       "2.0        51\n",
       "3.0         8\n",
       "4.0         1\n",
       "Name: INJURIES_FATAL, dtype: int64"
      ]
     },
     "execution_count": 10,
     "metadata": {},
     "output_type": "execute_result"
    }
   ],
   "source": [
    "crashes_df['INJURIES_FATAL'].value_counts()"
   ]
  },
  {
   "cell_type": "code",
   "execution_count": 11,
   "metadata": {},
   "outputs": [
    {
     "data": {
      "text/plain": [
       "Y    31875\n",
       "N     3160\n",
       "Name: NOT_RIGHT_OF_WAY_I, dtype: int64"
      ]
     },
     "execution_count": 11,
     "metadata": {},
     "output_type": "execute_result"
    }
   ],
   "source": [
    "crashes_df['NOT_RIGHT_OF_WAY_I'].value_counts()"
   ]
  },
  {
   "cell_type": "code",
   "execution_count": 12,
   "metadata": {},
   "outputs": [
    {
     "data": {
      "text/plain": [
       "6    122508\n",
       "7    111587\n",
       "5    108214\n",
       "3    107099\n",
       "4    106437\n",
       "2    103537\n",
       "1     93267\n",
       "Name: CRASH_DAY_OF_WEEK, dtype: int64"
      ]
     },
     "execution_count": 12,
     "metadata": {},
     "output_type": "execute_result"
    }
   ],
   "source": [
    "crashes_df['CRASH_DAY_OF_WEEK'].value_counts()"
   ]
  },
  {
   "cell_type": "code",
   "execution_count": 13,
   "metadata": {},
   "outputs": [
    {
     "data": {
      "text/plain": [
       "Y    164328\n",
       "N      8123\n",
       "Name: INTERSECTION_RELATED_I, dtype: int64"
      ]
     },
     "execution_count": 13,
     "metadata": {},
     "output_type": "execute_result"
    }
   ],
   "source": [
    "crashes_df['INTERSECTION_RELATED_I'].value_counts()"
   ]
  },
  {
   "cell_type": "code",
   "execution_count": 14,
   "metadata": {},
   "outputs": [
    {
     "data": {
      "text/plain": [
       "NOT DIVIDED                        329054\n",
       "DIVIDED - W/MEDIAN (NOT RAISED)    122054\n",
       "ONE-WAY                             96819\n",
       "PARKING LOT                         51620\n",
       "DIVIDED - W/MEDIAN BARRIER          43370\n",
       "FOUR WAY                            43080\n",
       "OTHER                               20748\n",
       "ALLEY                               12473\n",
       "T-INTERSECTION                       8812\n",
       "UNKNOWN                              8598\n",
       "CENTER TURN LANE                     5538\n",
       "DRIVEWAY                             2469\n",
       "RAMP                                 2363\n",
       "UNKNOWN INTERSECTION TYPE            2105\n",
       "FIVE POINT, OR MORE                   973\n",
       "Y-INTERSECTION                        953\n",
       "TRAFFIC ROUTE                         788\n",
       "NOT REPORTED                          472\n",
       "ROUNDABOUT                            217\n",
       "L-INTERSECTION                        143\n",
       "Name: TRAFFICWAY_TYPE, dtype: int64"
      ]
     },
     "execution_count": 14,
     "metadata": {},
     "output_type": "execute_result"
    }
   ],
   "source": [
    "crashes_df['TRAFFICWAY_TYPE'].value_counts()"
   ]
  },
  {
   "cell_type": "code",
   "execution_count": 15,
   "metadata": {},
   "outputs": [
    {
     "data": {
      "text/plain": [
       "2.0          91152\n",
       "4.0          49588\n",
       "1.0          32547\n",
       "3.0           8674\n",
       "0.0           8032\n",
       "6.0           4502\n",
       "5.0           1940\n",
       "8.0           1908\n",
       "7.0            184\n",
       "10.0           162\n",
       "99.0           108\n",
       "9.0             66\n",
       "11.0            30\n",
       "12.0            29\n",
       "20.0            15\n",
       "22.0            13\n",
       "15.0             7\n",
       "16.0             7\n",
       "14.0             5\n",
       "30.0             5\n",
       "40.0             4\n",
       "60.0             3\n",
       "21.0             3\n",
       "100.0            2\n",
       "25.0             2\n",
       "44.0             1\n",
       "41.0             1\n",
       "433634.0         1\n",
       "400.0            1\n",
       "35.0             1\n",
       "28.0             1\n",
       "19.0             1\n",
       "45.0             1\n",
       "299679.0         1\n",
       "17.0             1\n",
       "1191625.0        1\n",
       "13.0             1\n",
       "218474.0         1\n",
       "80.0             1\n",
       "902.0            1\n",
       "24.0             1\n",
       "Name: LANE_CNT, dtype: int64"
      ]
     },
     "execution_count": 15,
     "metadata": {},
     "output_type": "execute_result"
    }
   ],
   "source": [
    "crashes_df['LANE_CNT'].value_counts()"
   ]
  },
  {
   "cell_type": "code",
   "execution_count": 16,
   "metadata": {},
   "outputs": [
    {
     "data": {
      "text/plain": [
       "STRAIGHT AND LEVEL       734043\n",
       "STRAIGHT ON GRADE          9599\n",
       "CURVE, LEVEL               5494\n",
       "STRAIGHT ON HILLCREST      2043\n",
       "CURVE ON GRADE             1125\n",
       "CURVE ON HILLCREST          345\n",
       "Name: ALIGNMENT, dtype: int64"
      ]
     },
     "execution_count": 16,
     "metadata": {},
     "output_type": "execute_result"
    }
   ],
   "source": [
    "crashes_df['ALIGNMENT'].value_counts()"
   ]
  },
  {
   "cell_type": "code",
   "execution_count": 17,
   "metadata": {},
   "outputs": [
    {
     "data": {
      "text/plain": [
       "DRY                559163\n",
       "WET                 98999\n",
       "UNKNOWN             60639\n",
       "SNOW OR SLUSH       26458\n",
       "ICE                  5214\n",
       "OTHER                1890\n",
       "SAND, MUD, DIRT       286\n",
       "Name: ROADWAY_SURFACE_COND, dtype: int64"
      ]
     },
     "execution_count": 17,
     "metadata": {},
     "output_type": "execute_result"
    }
   ],
   "source": [
    "crashes_df['ROADWAY_SURFACE_COND'].value_counts()"
   ]
  },
  {
   "cell_type": "code",
   "execution_count": 18,
   "metadata": {},
   "outputs": [
    {
     "data": {
      "text/plain": [
       "NO DEFECTS           610297\n",
       "UNKNOWN              127257\n",
       "RUT, HOLES             5857\n",
       "OTHER                  4159\n",
       "WORN SURFACE           3087\n",
       "SHOULDER DEFECT        1409\n",
       "DEBRIS ON ROADWAY       583\n",
       "Name: ROAD_DEFECT, dtype: int64"
      ]
     },
     "execution_count": 18,
     "metadata": {},
     "output_type": "execute_result"
    }
   ],
   "source": [
    "crashes_df['ROAD_DEFECT'].value_counts()"
   ]
  },
  {
   "cell_type": "code",
   "execution_count": 19,
   "metadata": {},
   "outputs": [
    {
     "data": {
      "text/plain": [
       "NO INJURY / DRIVE AWAY              553291\n",
       "INJURY AND / OR TOW DUE TO CRASH    199358\n",
       "Name: CRASH_TYPE, dtype: int64"
      ]
     },
     "execution_count": 19,
     "metadata": {},
     "output_type": "execute_result"
    }
   ],
   "source": [
    "crashes_df['CRASH_TYPE'].value_counts()"
   ]
  },
  {
   "cell_type": "code",
   "execution_count": 20,
   "metadata": {},
   "outputs": [
    {
     "data": {
      "text/plain": [
       "7     68919\n",
       "6     67542\n",
       "10    66703\n",
       "8     66612\n",
       "5     66519\n",
       "9     62801\n",
       "12    61713\n",
       "11    60487\n",
       "3     58885\n",
       "1     57832\n",
       "2     57478\n",
       "4     57158\n",
       "Name: CRASH_MONTH, dtype: int64"
      ]
     },
     "execution_count": 20,
     "metadata": {},
     "output_type": "execute_result"
    }
   ],
   "source": [
    "crashes_df['CRASH_MONTH'].value_counts()"
   ]
  },
  {
   "cell_type": "code",
   "execution_count": 21,
   "metadata": {},
   "outputs": [],
   "source": [
    "crashes_df.drop(columns=['WORK_ZONE_I', 'WORK_ZONE_TYPE', 'DOORING_I', 'WORKERS_PRESENT_I',\n",
    "                                          'PHOTOS_TAKEN_I', 'STATEMENTS_TAKEN_I', 'RD_NO'], axis=1, inplace=True)\n"
   ]
  },
  {
   "cell_type": "code",
   "execution_count": 22,
   "metadata": {},
   "outputs": [],
   "source": [
    "crashes_df.dropna(subset = ['INJURIES_TOTAL', 'LATITUDE', 'MOST_SEVERE_INJURY', 'STREET_DIRECTION', 'BEAT_OF_OCCURRENCE'] , axis=0, inplace=True)"
   ]
  },
  {
   "cell_type": "code",
   "execution_count": 23,
   "metadata": {},
   "outputs": [],
   "source": [
    "crashes_df = crashes_df[(crashes_df['LANE_CNT'] <= 10)]"
   ]
  },
  {
   "cell_type": "code",
   "execution_count": 24,
   "metadata": {},
   "outputs": [
    {
     "data": {
      "text/plain": [
       "2     175169\n",
       "3      10259\n",
       "1       9563\n",
       "4       1890\n",
       "5        452\n",
       "6        116\n",
       "7         36\n",
       "8         18\n",
       "9          7\n",
       "10         4\n",
       "11         2\n",
       "18         1\n",
       "12         1\n",
       "Name: NUM_UNITS, dtype: int64"
      ]
     },
     "execution_count": 24,
     "metadata": {},
     "output_type": "execute_result"
    }
   ],
   "source": [
    "crashes_df['NUM_UNITS'].value_counts()"
   ]
  },
  {
   "cell_type": "code",
   "execution_count": 25,
   "metadata": {},
   "outputs": [
    {
     "name": "stdout",
     "output_type": "stream",
     "text": [
      "<class 'pandas.core.frame.DataFrame'>\n",
      "RangeIndex: 1534825 entries, 0 to 1534824\n",
      "Data columns (total 72 columns):\n",
      " #   Column                    Non-Null Count    Dtype  \n",
      "---  ------                    --------------    -----  \n",
      " 0   CRASH_UNIT_ID             1534825 non-null  int64  \n",
      " 1   CRASH_RECORD_ID           1534825 non-null  object \n",
      " 2   RD_NO                     1526222 non-null  object \n",
      " 3   CRASH_DATE                1534825 non-null  object \n",
      " 4   UNIT_NO                   1534825 non-null  int64  \n",
      " 5   UNIT_TYPE                 1532776 non-null  object \n",
      " 6   NUM_PASSENGERS            227298 non-null   float64\n",
      " 7   VEHICLE_ID                1499997 non-null  float64\n",
      " 8   CMRC_VEH_I                28641 non-null    object \n",
      " 9   MAKE                      1499992 non-null  object \n",
      " 10  MODEL                     1499848 non-null  object \n",
      " 11  LIC_PLATE_STATE           1363068 non-null  object \n",
      " 12  VEHICLE_YEAR              1257350 non-null  float64\n",
      " 13  VEHICLE_DEFECT            1499997 non-null  object \n",
      " 14  VEHICLE_TYPE              1499997 non-null  object \n",
      " 15  VEHICLE_USE               1499997 non-null  object \n",
      " 16  TRAVEL_DIRECTION          1499997 non-null  object \n",
      " 17  MANEUVER                  1499997 non-null  object \n",
      " 18  TOWED_I                   189209 non-null   object \n",
      " 19  FIRE_I                    1245 non-null     object \n",
      " 20  OCCUPANT_CNT              1499997 non-null  float64\n",
      " 21  EXCEED_SPEED_LIMIT_I      2397 non-null     object \n",
      " 22  TOWED_BY                  141678 non-null   object \n",
      " 23  TOWED_TO                  87140 non-null    object \n",
      " 24  AREA_00_I                 53465 non-null    object \n",
      " 25  AREA_01_I                 407893 non-null   object \n",
      " 26  AREA_02_I                 244949 non-null   object \n",
      " 27  AREA_03_I                 146371 non-null   object \n",
      " 28  AREA_04_I                 146938 non-null   object \n",
      " 29  AREA_05_I                 228059 non-null   object \n",
      " 30  AREA_06_I                 239041 non-null   object \n",
      " 31  AREA_07_I                 218892 non-null   object \n",
      " 32  AREA_08_I                 223387 non-null   object \n",
      " 33  AREA_09_I                 97955 non-null    object \n",
      " 34  AREA_10_I                 141966 non-null   object \n",
      " 35  AREA_11_I                 276303 non-null   object \n",
      " 36  AREA_12_I                 271157 non-null   object \n",
      " 37  AREA_99_I                 171686 non-null   object \n",
      " 38  FIRST_CONTACT_POINT       1496902 non-null  object \n",
      " 39  CMV_ID                    15862 non-null    float64\n",
      " 40  USDOT_NO                  8975 non-null     object \n",
      " 41  CCMC_NO                   1933 non-null     object \n",
      " 42  ILCC_NO                   1341 non-null     object \n",
      " 43  COMMERCIAL_SRC            10628 non-null    object \n",
      " 44  GVWR                      8903 non-null     object \n",
      " 45  CARRIER_NAME              15161 non-null    object \n",
      " 46  CARRIER_STATE             14241 non-null    object \n",
      " 47  CARRIER_CITY              13979 non-null    object \n",
      " 48  HAZMAT_PLACARDS_I         312 non-null      object \n",
      " 49  HAZMAT_NAME               57 non-null       object \n",
      " 50  UN_NO                     539 non-null      object \n",
      " 51  HAZMAT_PRESENT_I          11575 non-null    object \n",
      " 52  HAZMAT_REPORT_I           11244 non-null    object \n",
      " 53  HAZMAT_REPORT_NO          1 non-null        object \n",
      " 54  MCS_REPORT_I              11291 non-null    object \n",
      " 55  MCS_REPORT_NO             7 non-null        object \n",
      " 56  HAZMAT_VIO_CAUSE_CRASH_I  11407 non-null    object \n",
      " 57  MCS_VIO_CAUSE_CRASH_I     11202 non-null    object \n",
      " 58  IDOT_PERMIT_NO            871 non-null      object \n",
      " 59  WIDE_LOAD_I               134 non-null      object \n",
      " 60  TRAILER1_WIDTH            2790 non-null     object \n",
      " 61  TRAILER2_WIDTH            329 non-null      object \n",
      " 62  TRAILER1_LENGTH           2265 non-null     float64\n",
      " 63  TRAILER2_LENGTH           66 non-null       float64\n",
      " 64  TOTAL_VEHICLE_LENGTH      2749 non-null     float64\n",
      " 65  AXLE_CNT                  4092 non-null     float64\n",
      " 66  VEHICLE_CONFIG            13143 non-null    object \n",
      " 67  CARGO_BODY_TYPE           12550 non-null    object \n",
      " 68  LOAD_TYPE                 12005 non-null    object \n",
      " 69  HAZMAT_OUT_OF_SERVICE_I   10913 non-null    object \n",
      " 70  MCS_OUT_OF_SERVICE_I      11161 non-null    object \n",
      " 71  HAZMAT_CLASS              1049 non-null     object \n",
      "dtypes: float64(9), int64(2), object(61)\n",
      "memory usage: 843.1+ MB\n"
     ]
    }
   ],
   "source": [
    "vehicles_df.info()"
   ]
  },
  {
   "cell_type": "code",
   "execution_count": 26,
   "metadata": {},
   "outputs": [
    {
     "data": {
      "text/plain": [
       "2015.0    94512\n",
       "2016.0    88892\n",
       "2017.0    87467\n",
       "2014.0    83412\n",
       "2013.0    77084\n",
       "          ...  \n",
       "2920.0        1\n",
       "2929.0        1\n",
       "2992.0        1\n",
       "2994.0        1\n",
       "8324.0        1\n",
       "Name: VEHICLE_YEAR, Length: 221, dtype: int64"
      ]
     },
     "execution_count": 26,
     "metadata": {},
     "output_type": "execute_result"
    }
   ],
   "source": [
    "vehicles_df['VEHICLE_YEAR'].value_counts()"
   ]
  },
  {
   "cell_type": "code",
   "execution_count": 27,
   "metadata": {},
   "outputs": [
    {
     "data": {
      "text/plain": [
       "STRAIGHT AHEAD                        686948\n",
       "PARKED                                206841\n",
       "UNKNOWN/NA                            116539\n",
       "SLOW/STOP IN TRAFFIC                  112927\n",
       "TURNING LEFT                           88508\n",
       "BACKING                                61476\n",
       "TURNING RIGHT                          49283\n",
       "PASSING/OVERTAKING                     36223\n",
       "CHANGING LANES                         28903\n",
       "OTHER                                  24992\n",
       "ENTERING TRAFFIC LANE FROM PARKING     17639\n",
       "MERGING                                10374\n",
       "STARTING IN TRAFFIC                     8672\n",
       "U-TURN                                  8474\n",
       "LEAVING TRAFFIC LANE TO PARK            7212\n",
       "AVOIDING VEHICLES/OBJECTS               6448\n",
       "SKIDDING/CONTROL LOSS                   5898\n",
       "ENTER FROM DRIVE/ALLEY                  5668\n",
       "PARKED IN TRAFFIC LANE                  4605\n",
       "SLOW/STOP - LEFT TURN                   3042\n",
       "DRIVING WRONG WAY                       2191\n",
       "NEGOTIATING A CURVE                     1955\n",
       "SLOW/STOP - RIGHT TURN                  1929\n",
       "SLOW/STOP - LOAD/UNLOAD                 1663\n",
       "TURNING ON RED                           582\n",
       "DRIVERLESS                               561\n",
       "DIVERGING                                234\n",
       "DISABLED                                 210\n",
       "Name: MANEUVER, dtype: int64"
      ]
     },
     "execution_count": 27,
     "metadata": {},
     "output_type": "execute_result"
    }
   ],
   "source": [
    "vehicles_df['MANEUVER'].value_counts()"
   ]
  },
  {
   "cell_type": "code",
   "execution_count": 28,
   "metadata": {},
   "outputs": [
    {
     "data": {
      "text/plain": [
       "CLEAR                     155668\n",
       "RAIN                       18279\n",
       "SNOW                        7889\n",
       "UNKNOWN                     7877\n",
       "CLOUDY/OVERCAST             6332\n",
       "OTHER                        658\n",
       "FOG/SMOKE/HAZE               418\n",
       "SLEET/HAIL                   353\n",
       "SEVERE CROSS WIND GATE        43\n",
       "FREEZING RAIN/DRIZZLE          1\n",
       "Name: WEATHER_CONDITION, dtype: int64"
      ]
     },
     "execution_count": 28,
     "metadata": {},
     "output_type": "execute_result"
    }
   ],
   "source": [
    "crashes_df['WEATHER_CONDITION'].value_counts()"
   ]
  },
  {
   "cell_type": "code",
   "execution_count": 29,
   "metadata": {},
   "outputs": [
    {
     "data": {
      "text/plain": [
       "DAYLIGHT                  127402\n",
       "DARKNESS, LIGHTED ROAD     44145\n",
       "DARKNESS                    9875\n",
       "UNKNOWN                     6720\n",
       "DUSK                        6147\n",
       "DAWN                        3229\n",
       "Name: LIGHTING_CONDITION, dtype: int64"
      ]
     },
     "execution_count": 29,
     "metadata": {},
     "output_type": "execute_result"
    }
   ],
   "source": [
    "crashes_df['LIGHTING_CONDITION'].value_counts()"
   ]
  },
  {
   "cell_type": "code",
   "execution_count": 30,
   "metadata": {},
   "outputs": [
    {
     "data": {
      "text/plain": [
       "Y    46998\n",
       "N     6467\n",
       "Name: AREA_00_I, dtype: int64"
      ]
     },
     "execution_count": 30,
     "metadata": {},
     "output_type": "execute_result"
    }
   ],
   "source": [
    "vehicles_df['AREA_00_I'].value_counts()"
   ]
  },
  {
   "cell_type": "code",
   "execution_count": 31,
   "metadata": {},
   "outputs": [
    {
     "name": "stdout",
     "output_type": "stream",
     "text": [
      "<class 'pandas.core.frame.DataFrame'>\n",
      "RangeIndex: 1534825 entries, 0 to 1534824\n",
      "Data columns (total 72 columns):\n",
      " #   Column                    Non-Null Count    Dtype  \n",
      "---  ------                    --------------    -----  \n",
      " 0   Crash Unit Id             1534825 non-null  int64  \n",
      " 1   Crash Record Id           1534825 non-null  object \n",
      " 2   Rd No                     1526222 non-null  object \n",
      " 3   Crash Date                1534825 non-null  object \n",
      " 4   Unit No                   1534825 non-null  int64  \n",
      " 5   Unit Type                 1532776 non-null  object \n",
      " 6   Num Passengers            227298 non-null   float64\n",
      " 7   Vehicle Id                1499997 non-null  float64\n",
      " 8   Cmrc Veh I                28641 non-null    object \n",
      " 9   Make                      1499992 non-null  object \n",
      " 10  Model                     1499848 non-null  object \n",
      " 11  Lic Plate State           1363068 non-null  object \n",
      " 12  Vehicle Year              1257350 non-null  float64\n",
      " 13  Vehicle Defect            1499997 non-null  object \n",
      " 14  Vehicle Type              1499997 non-null  object \n",
      " 15  Vehicle Use               1499997 non-null  object \n",
      " 16  Travel Direction          1499997 non-null  object \n",
      " 17  Maneuver                  1499997 non-null  object \n",
      " 18  Towed I                   189209 non-null   object \n",
      " 19  Fire I                    1245 non-null     object \n",
      " 20  Occupant Cnt              1499997 non-null  float64\n",
      " 21  Exceed Speed Limit I      2397 non-null     object \n",
      " 22  Towed By                  141678 non-null   object \n",
      " 23  Towed To                  87140 non-null    object \n",
      " 24  Area 00 I                 53465 non-null    object \n",
      " 25  Area 01 I                 407893 non-null   object \n",
      " 26  Area 02 I                 244949 non-null   object \n",
      " 27  Area 03 I                 146371 non-null   object \n",
      " 28  Area 04 I                 146938 non-null   object \n",
      " 29  Area 05 I                 228059 non-null   object \n",
      " 30  Area 06 I                 239041 non-null   object \n",
      " 31  Area 07 I                 218892 non-null   object \n",
      " 32  Area 08 I                 223387 non-null   object \n",
      " 33  Area 09 I                 97955 non-null    object \n",
      " 34  Area 10 I                 141966 non-null   object \n",
      " 35  Area 11 I                 276303 non-null   object \n",
      " 36  Area 12 I                 271157 non-null   object \n",
      " 37  Area 99 I                 171686 non-null   object \n",
      " 38  First Contact Point       1496902 non-null  object \n",
      " 39  Cmv Id                    15862 non-null    float64\n",
      " 40  Usdot No                  8975 non-null     object \n",
      " 41  Ccmc No                   1933 non-null     object \n",
      " 42  Ilcc No                   1341 non-null     object \n",
      " 43  Commercial Src            10628 non-null    object \n",
      " 44  Gvwr                      8903 non-null     object \n",
      " 45  Carrier Name              15161 non-null    object \n",
      " 46  Carrier State             14241 non-null    object \n",
      " 47  Carrier City              13979 non-null    object \n",
      " 48  Hazmat Placards I         312 non-null      object \n",
      " 49  Hazmat Name               57 non-null       object \n",
      " 50  Un No                     539 non-null      object \n",
      " 51  Hazmat Present I          11575 non-null    object \n",
      " 52  Hazmat Report I           11244 non-null    object \n",
      " 53  Hazmat Report No          1 non-null        object \n",
      " 54  Mcs Report I              11291 non-null    object \n",
      " 55  Mcs Report No             7 non-null        object \n",
      " 56  Hazmat Vio Cause Crash I  11407 non-null    object \n",
      " 57  Mcs Vio Cause Crash I     11202 non-null    object \n",
      " 58  Idot Permit No            871 non-null      object \n",
      " 59  Wide Load I               134 non-null      object \n",
      " 60  Trailer1 Width            2790 non-null     object \n",
      " 61  Trailer2 Width            329 non-null      object \n",
      " 62  Trailer1 Length           2265 non-null     float64\n",
      " 63  Trailer2 Length           66 non-null       float64\n",
      " 64  Total Vehicle Length      2749 non-null     float64\n",
      " 65  Axle Cnt                  4092 non-null     float64\n",
      " 66  Vehicle Config            13143 non-null    object \n",
      " 67  Cargo Body Type           12550 non-null    object \n",
      " 68  Load Type                 12005 non-null    object \n",
      " 69  Hazmat Out Of Service I   10913 non-null    object \n",
      " 70  Mcs Out Of Service I      11161 non-null    object \n",
      " 71  Hazmat Class              1049 non-null     object \n",
      "dtypes: float64(9), int64(2), object(61)\n",
      "memory usage: 843.1+ MB\n"
     ]
    }
   ],
   "source": [
    "vehicles_df.columns = vehicles_df.columns.str.title()\n",
    "vehicles_df.columns = vehicles_df.columns.str.replace('_', ' ')\n",
    "vehicles_df.info()"
   ]
  },
  {
   "cell_type": "code",
   "execution_count": 32,
   "metadata": {},
   "outputs": [],
   "source": [
    "area_columns = vehicles_df.columns[vehicles_df.columns.str.contains('Area', case=False)]\n",
    "area_df = vehicles_df[area_columns]\n"
   ]
  },
  {
   "cell_type": "code",
   "execution_count": 33,
   "metadata": {},
   "outputs": [
    {
     "data": {
      "text/html": [
       "<div>\n",
       "<style scoped>\n",
       "    .dataframe tbody tr th:only-of-type {\n",
       "        vertical-align: middle;\n",
       "    }\n",
       "\n",
       "    .dataframe tbody tr th {\n",
       "        vertical-align: top;\n",
       "    }\n",
       "\n",
       "    .dataframe thead th {\n",
       "        text-align: right;\n",
       "    }\n",
       "</style>\n",
       "<table border=\"1\" class=\"dataframe\">\n",
       "  <thead>\n",
       "    <tr style=\"text-align: right;\">\n",
       "      <th></th>\n",
       "      <th>Area 00 I</th>\n",
       "      <th>Area 01 I</th>\n",
       "      <th>Area 02 I</th>\n",
       "      <th>Area 03 I</th>\n",
       "      <th>Area 04 I</th>\n",
       "      <th>Area 05 I</th>\n",
       "      <th>Area 06 I</th>\n",
       "      <th>Area 07 I</th>\n",
       "      <th>Area 08 I</th>\n",
       "      <th>Area 09 I</th>\n",
       "      <th>Area 10 I</th>\n",
       "      <th>Area 11 I</th>\n",
       "      <th>Area 12 I</th>\n",
       "      <th>Area 99 I</th>\n",
       "    </tr>\n",
       "  </thead>\n",
       "  <tbody>\n",
       "    <tr>\n",
       "      <th>count</th>\n",
       "      <td>53465</td>\n",
       "      <td>407893</td>\n",
       "      <td>244949</td>\n",
       "      <td>146371</td>\n",
       "      <td>146938</td>\n",
       "      <td>228059</td>\n",
       "      <td>239041</td>\n",
       "      <td>218892</td>\n",
       "      <td>223387</td>\n",
       "      <td>97955</td>\n",
       "      <td>141966</td>\n",
       "      <td>276303</td>\n",
       "      <td>271157</td>\n",
       "      <td>171686</td>\n",
       "    </tr>\n",
       "    <tr>\n",
       "      <th>unique</th>\n",
       "      <td>2</td>\n",
       "      <td>2</td>\n",
       "      <td>2</td>\n",
       "      <td>2</td>\n",
       "      <td>2</td>\n",
       "      <td>2</td>\n",
       "      <td>2</td>\n",
       "      <td>2</td>\n",
       "      <td>2</td>\n",
       "      <td>2</td>\n",
       "      <td>2</td>\n",
       "      <td>2</td>\n",
       "      <td>2</td>\n",
       "      <td>2</td>\n",
       "    </tr>\n",
       "    <tr>\n",
       "      <th>top</th>\n",
       "      <td>Y</td>\n",
       "      <td>Y</td>\n",
       "      <td>Y</td>\n",
       "      <td>Y</td>\n",
       "      <td>Y</td>\n",
       "      <td>Y</td>\n",
       "      <td>Y</td>\n",
       "      <td>Y</td>\n",
       "      <td>Y</td>\n",
       "      <td>Y</td>\n",
       "      <td>Y</td>\n",
       "      <td>Y</td>\n",
       "      <td>Y</td>\n",
       "      <td>Y</td>\n",
       "    </tr>\n",
       "    <tr>\n",
       "      <th>freq</th>\n",
       "      <td>46998</td>\n",
       "      <td>389685</td>\n",
       "      <td>233249</td>\n",
       "      <td>139699</td>\n",
       "      <td>140369</td>\n",
       "      <td>219196</td>\n",
       "      <td>229759</td>\n",
       "      <td>209606</td>\n",
       "      <td>211904</td>\n",
       "      <td>93180</td>\n",
       "      <td>134739</td>\n",
       "      <td>260396</td>\n",
       "      <td>260112</td>\n",
       "      <td>165301</td>\n",
       "    </tr>\n",
       "  </tbody>\n",
       "</table>\n",
       "</div>"
      ],
      "text/plain": [
       "       Area 00 I Area 01 I Area 02 I Area 03 I Area 04 I Area 05 I Area 06 I  \\\n",
       "count      53465    407893    244949    146371    146938    228059    239041   \n",
       "unique         2         2         2         2         2         2         2   \n",
       "top            Y         Y         Y         Y         Y         Y         Y   \n",
       "freq       46998    389685    233249    139699    140369    219196    229759   \n",
       "\n",
       "       Area 07 I Area 08 I Area 09 I Area 10 I Area 11 I Area 12 I Area 99 I  \n",
       "count     218892    223387     97955    141966    276303    271157    171686  \n",
       "unique         2         2         2         2         2         2         2  \n",
       "top            Y         Y         Y         Y         Y         Y         Y  \n",
       "freq      209606    211904     93180    134739    260396    260112    165301  "
      ]
     },
     "execution_count": 33,
     "metadata": {},
     "output_type": "execute_result"
    }
   ],
   "source": [
    "area_df.describe()"
   ]
  },
  {
   "cell_type": "code",
   "execution_count": 34,
   "metadata": {},
   "outputs": [
    {
     "data": {
      "text/plain": [
       "Y    1799\n",
       "N     598\n",
       "Name: Exceed Speed Limit I, dtype: int64"
      ]
     },
     "execution_count": 34,
     "metadata": {},
     "output_type": "execute_result"
    }
   ],
   "source": [
    "vehicles_df['Exceed Speed Limit I'].value_counts()"
   ]
  },
  {
   "cell_type": "code",
   "execution_count": 35,
   "metadata": {},
   "outputs": [
    {
     "data": {
      "text/plain": [
       "N          352860\n",
       "S          345009\n",
       "W          312220\n",
       "E          305982\n",
       "UNKNOWN    119129\n",
       "SE          18981\n",
       "NW          17327\n",
       "SW          14320\n",
       "NE          14169\n",
       "Name: Travel Direction, dtype: int64"
      ]
     },
     "execution_count": 35,
     "metadata": {},
     "output_type": "execute_result"
    }
   ],
   "source": [
    "vehicles_df['Travel Direction'].value_counts()"
   ]
  },
  {
   "cell_type": "code",
   "execution_count": 36,
   "metadata": {},
   "outputs": [
    {
     "data": {
      "text/plain": [
       "CHICAGO TRANSIT AUTHORITY       560\n",
       "CTA                             276\n",
       "UNKNOWN                         186\n",
       "CITY OF CHICAGO                 134\n",
       "JB HUNT                         131\n",
       "                               ... \n",
       "MLEWIS TRANSPORT INC              1\n",
       "VCNA PRAIRIE INC                  1\n",
       "MIDLAND PAPER COMPANY             1\n",
       "AMBULANCE TRANSPORTATION INC      1\n",
       "UNITED PIPE & STEEL CORP          1\n",
       "Name: Carrier Name, Length: 9787, dtype: int64"
      ]
     },
     "execution_count": 36,
     "metadata": {},
     "output_type": "execute_result"
    }
   ],
   "source": [
    "vehicles_df['Carrier Name'].value_counts()"
   ]
  },
  {
   "cell_type": "code",
   "execution_count": 37,
   "metadata": {},
   "outputs": [
    {
     "data": {
      "text/plain": [
       "N    9660\n",
       "U    1572\n",
       "Y      12\n",
       "Name: Hazmat Report I, dtype: int64"
      ]
     },
     "execution_count": 37,
     "metadata": {},
     "output_type": "execute_result"
    }
   ],
   "source": [
    "vehicles_df['Hazmat Report I'].value_counts()"
   ]
  },
  {
   "cell_type": "code",
   "execution_count": 38,
   "metadata": {},
   "outputs": [
    {
     "data": {
      "text/plain": [
       "N    10355\n",
       "U     1039\n",
       "Y       13\n",
       "Name: Hazmat Vio Cause Crash I, dtype: int64"
      ]
     },
     "execution_count": 38,
     "metadata": {},
     "output_type": "execute_result"
    }
   ],
   "source": [
    "vehicles_df['Hazmat Vio Cause Crash I'].value_counts()"
   ]
  },
  {
   "cell_type": "code",
   "execution_count": 39,
   "metadata": {},
   "outputs": [
    {
     "data": {
      "text/plain": [
       "Y    44464\n",
       "N     2067\n",
       "Name: INTERSECTION_RELATED_I, dtype: int64"
      ]
     },
     "execution_count": 39,
     "metadata": {},
     "output_type": "execute_result"
    }
   ],
   "source": [
    "crashes_df['INTERSECTION_RELATED_I'].value_counts()"
   ]
  },
  {
   "cell_type": "code",
   "execution_count": 40,
   "metadata": {},
   "outputs": [
    {
     "data": {
      "text/plain": [
       "0.0     172828\n",
       "1.0      18801\n",
       "2.0       3976\n",
       "3.0       1188\n",
       "4.0        416\n",
       "5.0        175\n",
       "6.0         74\n",
       "7.0         28\n",
       "8.0         14\n",
       "9.0          9\n",
       "11.0         3\n",
       "10.0         3\n",
       "13.0         1\n",
       "21.0         1\n",
       "15.0         1\n",
       "Name: INJURIES_TOTAL, dtype: int64"
      ]
     },
     "execution_count": 40,
     "metadata": {},
     "output_type": "execute_result"
    }
   ],
   "source": [
    "crashes_df['INJURIES_TOTAL'].value_counts()"
   ]
  },
  {
   "cell_type": "code",
   "execution_count": 41,
   "metadata": {},
   "outputs": [
    {
     "data": {
      "text/plain": [
       "1.0     1085719\n",
       "0.0      199172\n",
       "2.0      151689\n",
       "3.0       39841\n",
       "4.0       15786\n",
       "5.0        5189\n",
       "6.0        1400\n",
       "7.0         541\n",
       "8.0         207\n",
       "9.0          99\n",
       "11.0         65\n",
       "10.0         61\n",
       "12.0         41\n",
       "13.0         36\n",
       "15.0         18\n",
       "14.0         16\n",
       "16.0         13\n",
       "20.0         11\n",
       "18.0         11\n",
       "19.0         10\n",
       "17.0          7\n",
       "26.0          6\n",
       "28.0          6\n",
       "36.0          5\n",
       "29.0          4\n",
       "44.0          4\n",
       "21.0          4\n",
       "33.0          3\n",
       "35.0          3\n",
       "22.0          3\n",
       "27.0          3\n",
       "25.0          3\n",
       "30.0          3\n",
       "43.0          2\n",
       "41.0          2\n",
       "39.0          2\n",
       "99.0          2\n",
       "34.0          2\n",
       "60.0          1\n",
       "32.0          1\n",
       "47.0          1\n",
       "38.0          1\n",
       "37.0          1\n",
       "24.0          1\n",
       "23.0          1\n",
       "31.0          1\n",
       "Name: Occupant Cnt, dtype: int64"
      ]
     },
     "execution_count": 41,
     "metadata": {},
     "output_type": "execute_result"
    }
   ],
   "source": [
    "vehicles_df['Occupant Cnt'].value_counts()"
   ]
  },
  {
   "cell_type": "code",
   "execution_count": 42,
   "metadata": {},
   "outputs": [
    {
     "data": {
      "text/plain": [
       "3.0     161940\n",
       "6.0      56306\n",
       "4.0      44608\n",
       "5.0      15761\n",
       "1.0      14747\n",
       "2.0      13897\n",
       "12.0      8730\n",
       "7.0       7786\n",
       "10.0      7453\n",
       "11.0      2928\n",
       "8.0        390\n",
       "Name: SEAT_NO, dtype: int64"
      ]
     },
     "execution_count": 42,
     "metadata": {},
     "output_type": "execute_result"
    }
   ],
   "source": [
    "people_df['SEAT_NO'].value_counts()"
   ]
  },
  {
   "cell_type": "code",
   "execution_count": 43,
   "metadata": {},
   "outputs": [
    {
     "data": {
      "text/plain": [
       "count    1.170060e+06\n",
       "mean     3.785983e+01\n",
       "std      1.709937e+01\n",
       "min     -1.770000e+02\n",
       "25%      2.500000e+01\n",
       "50%      3.500000e+01\n",
       "75%      5.000000e+01\n",
       "max      1.100000e+02\n",
       "Name: AGE, dtype: float64"
      ]
     },
     "execution_count": 43,
     "metadata": {},
     "output_type": "execute_result"
    }
   ],
   "source": [
    "people_df['AGE'].describe()"
   ]
  },
  {
   "cell_type": "code",
   "execution_count": 44,
   "metadata": {},
   "outputs": [
    {
     "data": {
      "text/plain": [
       "NO INDICATION OF INJURY     1509642\n",
       "NONINCAPACITATING INJURY      79984\n",
       "REPORTED, NOT EVIDENT         45390\n",
       "INCAPACITATING INJURY         15200\n",
       "FATAL                           907\n",
       "Name: INJURY_CLASSIFICATION, dtype: int64"
      ]
     },
     "execution_count": 44,
     "metadata": {},
     "output_type": "execute_result"
    }
   ],
   "source": [
    "people_df['INJURY_CLASSIFICATION'].value_counts()"
   ]
  },
  {
   "cell_type": "code",
   "execution_count": 45,
   "metadata": {},
   "outputs": [
    {
     "data": {
      "text/plain": [
       "NONE                                 472168\n",
       "UNKNOWN                              327906\n",
       "FAILED TO YIELD                      119556\n",
       "OTHER                                116877\n",
       "FOLLOWED TOO CLOSELY                  79188\n",
       "IMPROPER BACKING                      39677\n",
       "IMPROPER TURN                         34433\n",
       "IMPROPER LANE CHANGE                  33854\n",
       "IMPROPER PASSING                      29239\n",
       "DISREGARDED CONTROL DEVICES           22998\n",
       "TOO FAST FOR CONDITIONS               20056\n",
       "WRONG WAY/SIDE                         5208\n",
       "IMPROPER PARKING                       4888\n",
       "OVERCORRECTED                          2253\n",
       "EVADING POLICE VEHICLE                 2080\n",
       "CELL PHONE USE OTHER THAN TEXTING      1988\n",
       "EMERGENCY VEHICLE ON CALL              1199\n",
       "TEXTING                                 531\n",
       "STOPPED SCHOOL BUS                      155\n",
       "LICENSE RESTRICTIONS                     54\n",
       "Name: DRIVER_ACTION, dtype: int64"
      ]
     },
     "execution_count": 45,
     "metadata": {},
     "output_type": "execute_result"
    }
   ],
   "source": [
    "people_df['DRIVER_ACTION'].value_counts()"
   ]
  },
  {
   "cell_type": "code",
   "execution_count": 46,
   "metadata": {},
   "outputs": [
    {
     "data": {
      "text/plain": [
       "NOT OBSCURED              674045\n",
       "UNKNOWN                   607634\n",
       "OTHER                      13223\n",
       "MOVING VEHICLES             7596\n",
       "PARKED VEHICLES             4669\n",
       "WINDSHIELD (WATER/ICE)      3651\n",
       "BLINDED - SUNLIGHT          1540\n",
       "TREES, PLANTS                558\n",
       "BUILDINGS                    476\n",
       "BLINDED - HEADLIGHTS         129\n",
       "HILLCREST                     95\n",
       "BLOWING MATERIALS             94\n",
       "EMBANKMENT                    78\n",
       "SIGNBOARD                     34\n",
       "Name: DRIVER_VISION, dtype: int64"
      ]
     },
     "execution_count": 46,
     "metadata": {},
     "output_type": "execute_result"
    }
   ],
   "source": [
    "people_df['DRIVER_VISION'].value_counts()"
   ]
  },
  {
   "cell_type": "code",
   "execution_count": 47,
   "metadata": {},
   "outputs": [
    {
     "data": {
      "text/plain": [
       "NORMAL                          860433\n",
       "UNKNOWN                         430416\n",
       "IMPAIRED - ALCOHOL                5773\n",
       "REMOVED BY EMS                    4853\n",
       "OTHER                             3852\n",
       "FATIGUED/ASLEEP                   3500\n",
       "EMOTIONAL                         2972\n",
       "ILLNESS/FAINTED                   1226\n",
       "HAD BEEN DRINKING                  983\n",
       "IMPAIRED - DRUGS                   675\n",
       "IMPAIRED - ALCOHOL AND DRUGS       360\n",
       "MEDICATED                          168\n",
       "Name: PHYSICAL_CONDITION, dtype: int64"
      ]
     },
     "execution_count": 47,
     "metadata": {},
     "output_type": "execute_result"
    }
   ],
   "source": [
    "people_df['PHYSICAL_CONDITION'].value_counts()"
   ]
  },
  {
   "cell_type": "code",
   "execution_count": 48,
   "metadata": {},
   "outputs": [
    {
     "data": {
      "text/plain": [
       "TEST NOT OFFERED                   1295757\n",
       "TEST REFUSED                         13901\n",
       "TEST PERFORMED, RESULTS UNKNOWN       3258\n",
       "TEST TAKEN                            2385\n",
       "Name: BAC_RESULT, dtype: int64"
      ]
     },
     "execution_count": 48,
     "metadata": {},
     "output_type": "execute_result"
    }
   ],
   "source": [
    "people_df['BAC_RESULT'].value_counts()"
   ]
  },
  {
   "cell_type": "code",
   "execution_count": 49,
   "metadata": {},
   "outputs": [
    {
     "data": {
      "text/plain": [
       "IN ROADWAY         13838\n",
       "IN CROSSWALK       10257\n",
       "UNKNOWN/NA          2605\n",
       "NOT IN ROADWAY      1387\n",
       "BIKEWAY             1363\n",
       "BIKE LANE            945\n",
       "DRIVEWAY ACCESS      438\n",
       "SHOULDER             165\n",
       "Name: PEDPEDAL_LOCATION, dtype: int64"
      ]
     },
     "execution_count": 49,
     "metadata": {},
     "output_type": "execute_result"
    }
   ],
   "source": [
    "people_df['PEDPEDAL_LOCATION'].value_counts()"
   ]
  },
  {
   "cell_type": "code",
   "execution_count": 50,
   "metadata": {},
   "outputs": [
    {
     "data": {
      "text/plain": [
       "CROSSING - WITH SIGNAL                               6280\n",
       "WITH TRAFFIC                                         4812\n",
       "UNKNOWN/NA                                           3996\n",
       "OTHER ACTION                                         3718\n",
       "CROSSING - NO CONTROLS (NOT AT INTERSECTION)         1896\n",
       "NO ACTION                                            1670\n",
       "CROSSING - NO CONTROLS (AT INTERSECTION)             1606\n",
       "CROSSING - AGAINST SIGNAL                            1477\n",
       "NOT AT INTERSECTION                                  1040\n",
       "CROSSING - CONTROLS PRESENT (NOT AT INTERSECTION)     951\n",
       "AGAINST TRAFFIC                                       937\n",
       "STANDING IN ROADWAY                                   731\n",
       "TURNING LEFT                                          446\n",
       "PARKED VEHICLE                                        360\n",
       "ENTER FROM DRIVE/ALLEY                                298\n",
       "WORKING IN ROADWAY                                    214\n",
       "TURNING RIGHT                                         197\n",
       "INTOXICATED PED/PEDAL                                 185\n",
       "PLAYING IN ROADWAY                                    116\n",
       "PLAYING/WORKING ON VEHICLE                             22\n",
       "TO/FROM DISABLED VEHICLE                               20\n",
       "SCHOOL BUS (WITHIN 50 FT.)                             18\n",
       "WAITING FOR SCHOOL BUS                                 10\n",
       "Name: PEDPEDAL_ACTION, dtype: int64"
      ]
     },
     "execution_count": 50,
     "metadata": {},
     "output_type": "execute_result"
    }
   ],
   "source": [
    "people_df['PEDPEDAL_ACTION'].value_counts()"
   ]
  },
  {
   "cell_type": "code",
   "execution_count": 51,
   "metadata": {},
   "outputs": [
    {
     "data": {
      "text/plain": [
       "0.0     172828\n",
       "1.0      18801\n",
       "2.0       3976\n",
       "3.0       1188\n",
       "4.0        416\n",
       "5.0        175\n",
       "6.0         74\n",
       "7.0         28\n",
       "8.0         14\n",
       "9.0          9\n",
       "11.0         3\n",
       "10.0         3\n",
       "13.0         1\n",
       "21.0         1\n",
       "15.0         1\n",
       "Name: INJURIES_TOTAL, dtype: int64"
      ]
     },
     "execution_count": 51,
     "metadata": {},
     "output_type": "execute_result"
    }
   ],
   "source": [
    "crashes_df['INJURIES_TOTAL'].value_counts()"
   ]
  },
  {
   "cell_type": "code",
   "execution_count": 52,
   "metadata": {},
   "outputs": [
    {
     "data": {
      "text/plain": [
       "60629         40500\n",
       "60639         34208\n",
       "60620         30601\n",
       "60617         29474\n",
       "60623         28552\n",
       "              ...  \n",
       "11227             1\n",
       "06515-2324        1\n",
       "387740000         1\n",
       "71646             1\n",
       "69429             1\n",
       "Name: ZIPCODE, Length: 13784, dtype: int64"
      ]
     },
     "execution_count": 52,
     "metadata": {},
     "output_type": "execute_result"
    }
   ],
   "source": [
    "people_df['ZIPCODE'].value_counts()"
   ]
  },
  {
   "cell_type": "code",
   "execution_count": 53,
   "metadata": {},
   "outputs": [
    {
     "data": {
      "text/plain": [
       "DID NOT DEPLOY                            865492\n",
       "DEPLOYMENT UNKNOWN                        327866\n",
       "NOT APPLICABLE                            319806\n",
       "DEPLOYED, FRONT                            52222\n",
       "DEPLOYED, COMBINATION                      39591\n",
       "DEPLOYED, SIDE                             14673\n",
       "DEPLOYED OTHER (KNEE, AIR, BELT, ETC.)       786\n",
       "Name: AIRBAG_DEPLOYED, dtype: int64"
      ]
     },
     "execution_count": 53,
     "metadata": {},
     "output_type": "execute_result"
    }
   ],
   "source": [
    "people_df['AIRBAG_DEPLOYED'].value_counts()"
   ]
  },
  {
   "cell_type": "code",
   "execution_count": 54,
   "metadata": {},
   "outputs": [
    {
     "data": {
      "text/plain": [
       "SAFETY BELT USED                              789946\n",
       "USAGE UNKNOWN                                 764325\n",
       "NONE PRESENT                                   52929\n",
       "SAFETY BELT NOT USED                            9203\n",
       "CHILD RESTRAINT USED                            7822\n",
       "HELMET NOT USED                                 7410\n",
       "CHILD RESTRAINT - FORWARD FACING                3850\n",
       "BICYCLE HELMET (PEDACYCLIST INVOLVED ONLY)      2846\n",
       "CHILD RESTRAINT - TYPE UNKNOWN                  2006\n",
       "CHILD RESTRAINT - REAR FACING                   1816\n",
       "HELMET USED                                     1358\n",
       "DOT COMPLIANT MOTORCYCLE HELMET                 1150\n",
       "BOOSTER SEAT                                    1030\n",
       "CHILD RESTRAINT NOT USED                         734\n",
       "SHOULD/LAP BELT USED IMPROPERLY                  214\n",
       "NOT DOT COMPLIANT MOTORCYCLE HELMET              206\n",
       "WHEELCHAIR                                       185\n",
       "CHILD RESTRAINT USED IMPROPERLY                  132\n",
       "STRETCHER                                         35\n",
       "Name: SAFETY_EQUIPMENT, dtype: int64"
      ]
     },
     "execution_count": 54,
     "metadata": {},
     "output_type": "execute_result"
    }
   ],
   "source": [
    "people_df['SAFETY_EQUIPMENT'].value_counts()"
   ]
  },
  {
   "cell_type": "code",
   "execution_count": 55,
   "metadata": {},
   "outputs": [
    {
     "data": {
      "text/plain": [
       "NONE                  1527825\n",
       "UNKNOWN                 96468\n",
       "TOTALLY EJECTED          5090\n",
       "PARTIALLY EJECTED        1283\n",
       "TRAPPED/EXTRICATED        970\n",
       "Name: EJECTION, dtype: int64"
      ]
     },
     "execution_count": 55,
     "metadata": {},
     "output_type": "execute_result"
    }
   ],
   "source": [
    "people_df['EJECTION'].value_counts()"
   ]
  },
  {
   "cell_type": "code",
   "execution_count": 56,
   "metadata": {},
   "outputs": [
    {
     "data": {
      "text/plain": [
       "REFUSED                                      93707\n",
       "DNA                                          35354\n",
       "NONE                                         20209\n",
       "99                                            7207\n",
       "DECLINED                                      6179\n",
       "                                             ...  \n",
       "MECERY                                           1\n",
       "LAWNDALE CHRISTIAN HEALTH CENTER FOLLOWUP        1\n",
       "ST JJOSEPH                                       1\n",
       "EMS 47 AND CFD 124 ON SCENE                      1\n",
       "EMS REFUSED BY DRIVER                            1\n",
       "Name: HOSPITAL, Length: 6934, dtype: int64"
      ]
     },
     "execution_count": 56,
     "metadata": {},
     "output_type": "execute_result"
    }
   ],
   "source": [
    "people_df['HOSPITAL'].value_counts()"
   ]
  },
  {
   "cell_type": "code",
   "execution_count": 57,
   "metadata": {},
   "outputs": [
    {
     "data": {
      "text/plain": [
       "PERSONAL                        969323\n",
       "UNKNOWN/NA                      304342\n",
       "NOT IN USE                       77860\n",
       "OTHER                            47092\n",
       "TAXI/FOR HIRE                    19360\n",
       "COMMERCIAL - SINGLE UNIT         18359\n",
       "RIDESHARE SERVICE                12466\n",
       "CTA                              10253\n",
       "POLICE                            9790\n",
       "CONSTRUCTION/MAINTENANCE          6755\n",
       "COMMERCIAL - MULTI-UNIT           6117\n",
       "SCHOOL BUS                        4008\n",
       "OTHER TRANSIT                     3964\n",
       "TOW TRUCK                         2860\n",
       "AMBULANCE                         1777\n",
       "FIRE                              1501\n",
       "STATE OWNED                       1273\n",
       "DRIVER EDUCATION                  1167\n",
       "MASS TRANSIT                       832\n",
       "LAWN CARE/LANDSCAPING              553\n",
       "AGRICULTURE                        160\n",
       "CAMPER/RV - SINGLE UNIT             84\n",
       "MILITARY                            59\n",
       "HOUSE TRAILER                       24\n",
       "CAMPER/RV - TOWED/MULTI-UNIT        18\n",
       "Name: Vehicle Use, dtype: int64"
      ]
     },
     "execution_count": 57,
     "metadata": {},
     "output_type": "execute_result"
    }
   ],
   "source": [
    "vehicles_df['Vehicle Use'].value_counts()"
   ]
  },
  {
   "cell_type": "code",
   "execution_count": 58,
   "metadata": {},
   "outputs": [
    {
     "data": {
      "text/plain": [
       "NONE                822690\n",
       "UNKNOWN             661824\n",
       "OTHER                 7853\n",
       "BRAKES                4822\n",
       "TIRES                  753\n",
       "STEERING               689\n",
       "WHEELS                 382\n",
       "SUSPENSION             254\n",
       "ENGINE/MOTOR           199\n",
       "FUEL SYSTEM            190\n",
       "LIGHTS                  96\n",
       "WINDOWS                 92\n",
       "CARGO                   51\n",
       "SIGNALS                 40\n",
       "RESTRAINT SYSTEM        23\n",
       "TRAILER COUPLING        21\n",
       "EXHAUST                 18\n",
       "Name: Vehicle Defect, dtype: int64"
      ]
     },
     "execution_count": 58,
     "metadata": {},
     "output_type": "execute_result"
    }
   ],
   "source": [
    "vehicles_df['Vehicle Defect'].value_counts()"
   ]
  },
  {
   "cell_type": "code",
   "execution_count": 59,
   "metadata": {},
   "outputs": [
    {
     "data": {
      "text/plain": [
       "CHEVROLET                                      175191\n",
       "UNKNOWN                                        150103\n",
       "FORD                                           149458\n",
       "NISSAN                                         122598\n",
       "HONDA                                          109163\n",
       "                                                ...  \n",
       "RUSH INDUS., INC., ELKHART, IN                      1\n",
       "NASH                                                1\n",
       "VERSATILE POWER CORP., GRANTSBURG WISCONSIN         1\n",
       "LBT, DIVISION FRUEHAUF CORP.                        1\n",
       "BATAVIA TRAILERS, INC.                              1\n",
       "Name: Make, Length: 1293, dtype: int64"
      ]
     },
     "execution_count": 59,
     "metadata": {},
     "output_type": "execute_result"
    }
   ],
   "source": [
    "vehicles_df['Make'].value_counts()"
   ]
  },
  {
   "cell_type": "code",
   "execution_count": 60,
   "metadata": {},
   "outputs": [
    {
     "data": {
      "text/html": [
       "<div>\n",
       "<style scoped>\n",
       "    .dataframe tbody tr th:only-of-type {\n",
       "        vertical-align: middle;\n",
       "    }\n",
       "\n",
       "    .dataframe tbody tr th {\n",
       "        vertical-align: top;\n",
       "    }\n",
       "\n",
       "    .dataframe thead th {\n",
       "        text-align: right;\n",
       "    }\n",
       "</style>\n",
       "<table border=\"1\" class=\"dataframe\">\n",
       "  <thead>\n",
       "    <tr style=\"text-align: right;\">\n",
       "      <th></th>\n",
       "      <th>Crash Unit Id</th>\n",
       "      <th>Crash Record Id</th>\n",
       "      <th>Rd No</th>\n",
       "      <th>Crash Date</th>\n",
       "      <th>Unit No</th>\n",
       "      <th>Unit Type</th>\n",
       "      <th>Num Passengers</th>\n",
       "      <th>Vehicle Id</th>\n",
       "      <th>Cmrc Veh I</th>\n",
       "      <th>Make</th>\n",
       "      <th>...</th>\n",
       "      <th>Trailer1 Length</th>\n",
       "      <th>Trailer2 Length</th>\n",
       "      <th>Total Vehicle Length</th>\n",
       "      <th>Axle Cnt</th>\n",
       "      <th>Vehicle Config</th>\n",
       "      <th>Cargo Body Type</th>\n",
       "      <th>Load Type</th>\n",
       "      <th>Hazmat Out Of Service I</th>\n",
       "      <th>Mcs Out Of Service I</th>\n",
       "      <th>Hazmat Class</th>\n",
       "    </tr>\n",
       "  </thead>\n",
       "  <tbody>\n",
       "    <tr>\n",
       "      <th>0</th>\n",
       "      <td>1554880</td>\n",
       "      <td>91a5d08b2b701f2d37cbb52ecdbeb09579bc7f2ebc60b3...</td>\n",
       "      <td>JG223284</td>\n",
       "      <td>04/14/2023 02:05:00 PM</td>\n",
       "      <td>1</td>\n",
       "      <td>DRIVER</td>\n",
       "      <td>NaN</td>\n",
       "      <td>1478881.0</td>\n",
       "      <td>NaN</td>\n",
       "      <td>FORD</td>\n",
       "      <td>...</td>\n",
       "      <td>NaN</td>\n",
       "      <td>NaN</td>\n",
       "      <td>NaN</td>\n",
       "      <td>NaN</td>\n",
       "      <td>NaN</td>\n",
       "      <td>NaN</td>\n",
       "      <td>NaN</td>\n",
       "      <td>NaN</td>\n",
       "      <td>NaN</td>\n",
       "      <td>NaN</td>\n",
       "    </tr>\n",
       "    <tr>\n",
       "      <th>1</th>\n",
       "      <td>749947</td>\n",
       "      <td>81dc0de2ed92aa62baccab641fa377be7feb1cc47e6554...</td>\n",
       "      <td>JC451435</td>\n",
       "      <td>09/28/2019 03:30:00 AM</td>\n",
       "      <td>1</td>\n",
       "      <td>DRIVER</td>\n",
       "      <td>NaN</td>\n",
       "      <td>834816.0</td>\n",
       "      <td>NaN</td>\n",
       "      <td>HONDA</td>\n",
       "      <td>...</td>\n",
       "      <td>NaN</td>\n",
       "      <td>NaN</td>\n",
       "      <td>NaN</td>\n",
       "      <td>NaN</td>\n",
       "      <td>NaN</td>\n",
       "      <td>NaN</td>\n",
       "      <td>NaN</td>\n",
       "      <td>NaN</td>\n",
       "      <td>NaN</td>\n",
       "      <td>NaN</td>\n",
       "    </tr>\n",
       "    <tr>\n",
       "      <th>2</th>\n",
       "      <td>749949</td>\n",
       "      <td>81dc0de2ed92aa62baccab641fa377be7feb1cc47e6554...</td>\n",
       "      <td>JC451435</td>\n",
       "      <td>09/28/2019 03:30:00 AM</td>\n",
       "      <td>2</td>\n",
       "      <td>PARKED</td>\n",
       "      <td>NaN</td>\n",
       "      <td>834819.0</td>\n",
       "      <td>NaN</td>\n",
       "      <td>TOYOTA</td>\n",
       "      <td>...</td>\n",
       "      <td>NaN</td>\n",
       "      <td>NaN</td>\n",
       "      <td>NaN</td>\n",
       "      <td>NaN</td>\n",
       "      <td>NaN</td>\n",
       "      <td>NaN</td>\n",
       "      <td>NaN</td>\n",
       "      <td>NaN</td>\n",
       "      <td>NaN</td>\n",
       "      <td>NaN</td>\n",
       "    </tr>\n",
       "    <tr>\n",
       "      <th>3</th>\n",
       "      <td>749950</td>\n",
       "      <td>81dc0de2ed92aa62baccab641fa377be7feb1cc47e6554...</td>\n",
       "      <td>JC451435</td>\n",
       "      <td>09/28/2019 03:30:00 AM</td>\n",
       "      <td>3</td>\n",
       "      <td>PARKED</td>\n",
       "      <td>NaN</td>\n",
       "      <td>834817.0</td>\n",
       "      <td>NaN</td>\n",
       "      <td>GENERAL MOTORS CORPORATION (GMC)</td>\n",
       "      <td>...</td>\n",
       "      <td>NaN</td>\n",
       "      <td>NaN</td>\n",
       "      <td>NaN</td>\n",
       "      <td>NaN</td>\n",
       "      <td>NaN</td>\n",
       "      <td>NaN</td>\n",
       "      <td>NaN</td>\n",
       "      <td>NaN</td>\n",
       "      <td>NaN</td>\n",
       "      <td>NaN</td>\n",
       "    </tr>\n",
       "    <tr>\n",
       "      <th>4</th>\n",
       "      <td>1554881</td>\n",
       "      <td>91a5d08b2b701f2d37cbb52ecdbeb09579bc7f2ebc60b3...</td>\n",
       "      <td>JG223284</td>\n",
       "      <td>04/14/2023 02:05:00 PM</td>\n",
       "      <td>2</td>\n",
       "      <td>DRIVER</td>\n",
       "      <td>1.0</td>\n",
       "      <td>1478892.0</td>\n",
       "      <td>NaN</td>\n",
       "      <td>ISUZU</td>\n",
       "      <td>...</td>\n",
       "      <td>NaN</td>\n",
       "      <td>NaN</td>\n",
       "      <td>NaN</td>\n",
       "      <td>NaN</td>\n",
       "      <td>NaN</td>\n",
       "      <td>NaN</td>\n",
       "      <td>NaN</td>\n",
       "      <td>NaN</td>\n",
       "      <td>NaN</td>\n",
       "      <td>NaN</td>\n",
       "    </tr>\n",
       "    <tr>\n",
       "      <th>...</th>\n",
       "      <td>...</td>\n",
       "      <td>...</td>\n",
       "      <td>...</td>\n",
       "      <td>...</td>\n",
       "      <td>...</td>\n",
       "      <td>...</td>\n",
       "      <td>...</td>\n",
       "      <td>...</td>\n",
       "      <td>...</td>\n",
       "      <td>...</td>\n",
       "      <td>...</td>\n",
       "      <td>...</td>\n",
       "      <td>...</td>\n",
       "      <td>...</td>\n",
       "      <td>...</td>\n",
       "      <td>...</td>\n",
       "      <td>...</td>\n",
       "      <td>...</td>\n",
       "      <td>...</td>\n",
       "      <td>...</td>\n",
       "      <td>...</td>\n",
       "    </tr>\n",
       "    <tr>\n",
       "      <th>1534820</th>\n",
       "      <td>1571683</td>\n",
       "      <td>545044224202f24b78f10eef0aef2935ff9abfc4f10309...</td>\n",
       "      <td>JG253335</td>\n",
       "      <td>05/08/2023 11:25:00 PM</td>\n",
       "      <td>2</td>\n",
       "      <td>DRIVER</td>\n",
       "      <td>NaN</td>\n",
       "      <td>1495169.0</td>\n",
       "      <td>NaN</td>\n",
       "      <td>TOYOTA</td>\n",
       "      <td>...</td>\n",
       "      <td>NaN</td>\n",
       "      <td>NaN</td>\n",
       "      <td>NaN</td>\n",
       "      <td>NaN</td>\n",
       "      <td>NaN</td>\n",
       "      <td>NaN</td>\n",
       "      <td>NaN</td>\n",
       "      <td>NaN</td>\n",
       "      <td>NaN</td>\n",
       "      <td>NaN</td>\n",
       "    </tr>\n",
       "    <tr>\n",
       "      <th>1534821</th>\n",
       "      <td>1571684</td>\n",
       "      <td>6b53b6a8fb20fc4839856798fb480cd21db71c6a3fa9f9...</td>\n",
       "      <td>JG253334</td>\n",
       "      <td>05/08/2023 11:00:00 AM</td>\n",
       "      <td>1</td>\n",
       "      <td>DRIVER</td>\n",
       "      <td>NaN</td>\n",
       "      <td>1495166.0</td>\n",
       "      <td>NaN</td>\n",
       "      <td>UNKNOWN</td>\n",
       "      <td>...</td>\n",
       "      <td>NaN</td>\n",
       "      <td>NaN</td>\n",
       "      <td>NaN</td>\n",
       "      <td>NaN</td>\n",
       "      <td>NaN</td>\n",
       "      <td>NaN</td>\n",
       "      <td>NaN</td>\n",
       "      <td>NaN</td>\n",
       "      <td>NaN</td>\n",
       "      <td>NaN</td>\n",
       "    </tr>\n",
       "    <tr>\n",
       "      <th>1534822</th>\n",
       "      <td>1571685</td>\n",
       "      <td>6b53b6a8fb20fc4839856798fb480cd21db71c6a3fa9f9...</td>\n",
       "      <td>JG253334</td>\n",
       "      <td>05/08/2023 11:00:00 AM</td>\n",
       "      <td>2</td>\n",
       "      <td>DRIVER</td>\n",
       "      <td>NaN</td>\n",
       "      <td>1495168.0</td>\n",
       "      <td>NaN</td>\n",
       "      <td>TOYOTA</td>\n",
       "      <td>...</td>\n",
       "      <td>NaN</td>\n",
       "      <td>NaN</td>\n",
       "      <td>NaN</td>\n",
       "      <td>NaN</td>\n",
       "      <td>NaN</td>\n",
       "      <td>NaN</td>\n",
       "      <td>NaN</td>\n",
       "      <td>NaN</td>\n",
       "      <td>NaN</td>\n",
       "      <td>NaN</td>\n",
       "    </tr>\n",
       "    <tr>\n",
       "      <th>1534823</th>\n",
       "      <td>1571686</td>\n",
       "      <td>80405e9e967b0f5f8f3966f7917f389e63c4f5243a862b...</td>\n",
       "      <td>JG252873</td>\n",
       "      <td>05/08/2023 04:15:00 PM</td>\n",
       "      <td>1</td>\n",
       "      <td>DRIVER</td>\n",
       "      <td>NaN</td>\n",
       "      <td>1495170.0</td>\n",
       "      <td>NaN</td>\n",
       "      <td>TOYOTA</td>\n",
       "      <td>...</td>\n",
       "      <td>NaN</td>\n",
       "      <td>NaN</td>\n",
       "      <td>NaN</td>\n",
       "      <td>NaN</td>\n",
       "      <td>NaN</td>\n",
       "      <td>NaN</td>\n",
       "      <td>NaN</td>\n",
       "      <td>NaN</td>\n",
       "      <td>NaN</td>\n",
       "      <td>NaN</td>\n",
       "    </tr>\n",
       "    <tr>\n",
       "      <th>1534824</th>\n",
       "      <td>1571687</td>\n",
       "      <td>80405e9e967b0f5f8f3966f7917f389e63c4f5243a862b...</td>\n",
       "      <td>JG252873</td>\n",
       "      <td>05/08/2023 04:15:00 PM</td>\n",
       "      <td>2</td>\n",
       "      <td>DRIVER</td>\n",
       "      <td>NaN</td>\n",
       "      <td>1495171.0</td>\n",
       "      <td>NaN</td>\n",
       "      <td>KIA</td>\n",
       "      <td>...</td>\n",
       "      <td>NaN</td>\n",
       "      <td>NaN</td>\n",
       "      <td>NaN</td>\n",
       "      <td>NaN</td>\n",
       "      <td>NaN</td>\n",
       "      <td>NaN</td>\n",
       "      <td>NaN</td>\n",
       "      <td>NaN</td>\n",
       "      <td>NaN</td>\n",
       "      <td>NaN</td>\n",
       "    </tr>\n",
       "  </tbody>\n",
       "</table>\n",
       "<p>1534825 rows × 72 columns</p>\n",
       "</div>"
      ],
      "text/plain": [
       "         Crash Unit Id                                    Crash Record Id  \\\n",
       "0              1554880  91a5d08b2b701f2d37cbb52ecdbeb09579bc7f2ebc60b3...   \n",
       "1               749947  81dc0de2ed92aa62baccab641fa377be7feb1cc47e6554...   \n",
       "2               749949  81dc0de2ed92aa62baccab641fa377be7feb1cc47e6554...   \n",
       "3               749950  81dc0de2ed92aa62baccab641fa377be7feb1cc47e6554...   \n",
       "4              1554881  91a5d08b2b701f2d37cbb52ecdbeb09579bc7f2ebc60b3...   \n",
       "...                ...                                                ...   \n",
       "1534820        1571683  545044224202f24b78f10eef0aef2935ff9abfc4f10309...   \n",
       "1534821        1571684  6b53b6a8fb20fc4839856798fb480cd21db71c6a3fa9f9...   \n",
       "1534822        1571685  6b53b6a8fb20fc4839856798fb480cd21db71c6a3fa9f9...   \n",
       "1534823        1571686  80405e9e967b0f5f8f3966f7917f389e63c4f5243a862b...   \n",
       "1534824        1571687  80405e9e967b0f5f8f3966f7917f389e63c4f5243a862b...   \n",
       "\n",
       "            Rd No              Crash Date  Unit No Unit Type  Num Passengers  \\\n",
       "0        JG223284  04/14/2023 02:05:00 PM        1    DRIVER             NaN   \n",
       "1        JC451435  09/28/2019 03:30:00 AM        1    DRIVER             NaN   \n",
       "2        JC451435  09/28/2019 03:30:00 AM        2    PARKED             NaN   \n",
       "3        JC451435  09/28/2019 03:30:00 AM        3    PARKED             NaN   \n",
       "4        JG223284  04/14/2023 02:05:00 PM        2    DRIVER             1.0   \n",
       "...           ...                     ...      ...       ...             ...   \n",
       "1534820  JG253335  05/08/2023 11:25:00 PM        2    DRIVER             NaN   \n",
       "1534821  JG253334  05/08/2023 11:00:00 AM        1    DRIVER             NaN   \n",
       "1534822  JG253334  05/08/2023 11:00:00 AM        2    DRIVER             NaN   \n",
       "1534823  JG252873  05/08/2023 04:15:00 PM        1    DRIVER             NaN   \n",
       "1534824  JG252873  05/08/2023 04:15:00 PM        2    DRIVER             NaN   \n",
       "\n",
       "         Vehicle Id Cmrc Veh I                              Make  ...  \\\n",
       "0         1478881.0        NaN                              FORD  ...   \n",
       "1          834816.0        NaN                             HONDA  ...   \n",
       "2          834819.0        NaN                            TOYOTA  ...   \n",
       "3          834817.0        NaN  GENERAL MOTORS CORPORATION (GMC)  ...   \n",
       "4         1478892.0        NaN                             ISUZU  ...   \n",
       "...             ...        ...                               ...  ...   \n",
       "1534820   1495169.0        NaN                            TOYOTA  ...   \n",
       "1534821   1495166.0        NaN                           UNKNOWN  ...   \n",
       "1534822   1495168.0        NaN                            TOYOTA  ...   \n",
       "1534823   1495170.0        NaN                            TOYOTA  ...   \n",
       "1534824   1495171.0        NaN                               KIA  ...   \n",
       "\n",
       "        Trailer1 Length Trailer2 Length  Total Vehicle Length Axle Cnt  \\\n",
       "0                   NaN             NaN                   NaN      NaN   \n",
       "1                   NaN             NaN                   NaN      NaN   \n",
       "2                   NaN             NaN                   NaN      NaN   \n",
       "3                   NaN             NaN                   NaN      NaN   \n",
       "4                   NaN             NaN                   NaN      NaN   \n",
       "...                 ...             ...                   ...      ...   \n",
       "1534820             NaN             NaN                   NaN      NaN   \n",
       "1534821             NaN             NaN                   NaN      NaN   \n",
       "1534822             NaN             NaN                   NaN      NaN   \n",
       "1534823             NaN             NaN                   NaN      NaN   \n",
       "1534824             NaN             NaN                   NaN      NaN   \n",
       "\n",
       "        Vehicle Config Cargo Body Type Load Type Hazmat Out Of Service I  \\\n",
       "0                  NaN             NaN       NaN                     NaN   \n",
       "1                  NaN             NaN       NaN                     NaN   \n",
       "2                  NaN             NaN       NaN                     NaN   \n",
       "3                  NaN             NaN       NaN                     NaN   \n",
       "4                  NaN             NaN       NaN                     NaN   \n",
       "...                ...             ...       ...                     ...   \n",
       "1534820            NaN             NaN       NaN                     NaN   \n",
       "1534821            NaN             NaN       NaN                     NaN   \n",
       "1534822            NaN             NaN       NaN                     NaN   \n",
       "1534823            NaN             NaN       NaN                     NaN   \n",
       "1534824            NaN             NaN       NaN                     NaN   \n",
       "\n",
       "        Mcs Out Of Service I Hazmat Class  \n",
       "0                        NaN          NaN  \n",
       "1                        NaN          NaN  \n",
       "2                        NaN          NaN  \n",
       "3                        NaN          NaN  \n",
       "4                        NaN          NaN  \n",
       "...                      ...          ...  \n",
       "1534820                  NaN          NaN  \n",
       "1534821                  NaN          NaN  \n",
       "1534822                  NaN          NaN  \n",
       "1534823                  NaN          NaN  \n",
       "1534824                  NaN          NaN  \n",
       "\n",
       "[1534825 rows x 72 columns]"
      ]
     },
     "execution_count": 60,
     "metadata": {},
     "output_type": "execute_result"
    }
   ],
   "source": [
    "vehicles_df"
   ]
  },
  {
   "cell_type": "code",
   "execution_count": 61,
   "metadata": {},
   "outputs": [],
   "source": [
    "area_columns = vehicles_df.columns[vehicles_df.columns.str.contains('Area', case=False)]"
   ]
  },
  {
   "cell_type": "code",
   "execution_count": 62,
   "metadata": {},
   "outputs": [],
   "source": [
    "vehicles_df[area_columns] = vehicles_df[area_columns].fillna(0).mask(vehicles_df[area_columns] == 'Y', 'Y')"
   ]
  },
  {
   "cell_type": "code",
   "execution_count": 63,
   "metadata": {},
   "outputs": [
    {
     "data": {
      "text/html": [
       "<div>\n",
       "<style scoped>\n",
       "    .dataframe tbody tr th:only-of-type {\n",
       "        vertical-align: middle;\n",
       "    }\n",
       "\n",
       "    .dataframe tbody tr th {\n",
       "        vertical-align: top;\n",
       "    }\n",
       "\n",
       "    .dataframe thead th {\n",
       "        text-align: right;\n",
       "    }\n",
       "</style>\n",
       "<table border=\"1\" class=\"dataframe\">\n",
       "  <thead>\n",
       "    <tr style=\"text-align: right;\">\n",
       "      <th></th>\n",
       "      <th>Area 00 I</th>\n",
       "      <th>Area 01 I</th>\n",
       "      <th>Area 02 I</th>\n",
       "      <th>Area 03 I</th>\n",
       "      <th>Area 04 I</th>\n",
       "      <th>Area 05 I</th>\n",
       "      <th>Area 06 I</th>\n",
       "      <th>Area 07 I</th>\n",
       "      <th>Area 08 I</th>\n",
       "      <th>Area 09 I</th>\n",
       "      <th>Area 10 I</th>\n",
       "      <th>Area 11 I</th>\n",
       "      <th>Area 12 I</th>\n",
       "      <th>Area 99 I</th>\n",
       "    </tr>\n",
       "  </thead>\n",
       "  <tbody>\n",
       "    <tr>\n",
       "      <th>0</th>\n",
       "      <td>0</td>\n",
       "      <td>0</td>\n",
       "      <td>0</td>\n",
       "      <td>0</td>\n",
       "      <td>Y</td>\n",
       "      <td>0</td>\n",
       "      <td>0</td>\n",
       "      <td>0</td>\n",
       "      <td>0</td>\n",
       "      <td>0</td>\n",
       "      <td>Y</td>\n",
       "      <td>0</td>\n",
       "      <td>0</td>\n",
       "      <td>0</td>\n",
       "    </tr>\n",
       "    <tr>\n",
       "      <th>1</th>\n",
       "      <td>0</td>\n",
       "      <td>Y</td>\n",
       "      <td>0</td>\n",
       "      <td>0</td>\n",
       "      <td>0</td>\n",
       "      <td>0</td>\n",
       "      <td>0</td>\n",
       "      <td>0</td>\n",
       "      <td>0</td>\n",
       "      <td>0</td>\n",
       "      <td>0</td>\n",
       "      <td>0</td>\n",
       "      <td>0</td>\n",
       "      <td>0</td>\n",
       "    </tr>\n",
       "    <tr>\n",
       "      <th>2</th>\n",
       "      <td>0</td>\n",
       "      <td>0</td>\n",
       "      <td>0</td>\n",
       "      <td>0</td>\n",
       "      <td>0</td>\n",
       "      <td>0</td>\n",
       "      <td>0</td>\n",
       "      <td>0</td>\n",
       "      <td>0</td>\n",
       "      <td>Y</td>\n",
       "      <td>0</td>\n",
       "      <td>0</td>\n",
       "      <td>0</td>\n",
       "      <td>0</td>\n",
       "    </tr>\n",
       "    <tr>\n",
       "      <th>3</th>\n",
       "      <td>0</td>\n",
       "      <td>0</td>\n",
       "      <td>0</td>\n",
       "      <td>0</td>\n",
       "      <td>0</td>\n",
       "      <td>0</td>\n",
       "      <td>0</td>\n",
       "      <td>0</td>\n",
       "      <td>0</td>\n",
       "      <td>Y</td>\n",
       "      <td>0</td>\n",
       "      <td>0</td>\n",
       "      <td>0</td>\n",
       "      <td>0</td>\n",
       "    </tr>\n",
       "    <tr>\n",
       "      <th>4</th>\n",
       "      <td>0</td>\n",
       "      <td>0</td>\n",
       "      <td>0</td>\n",
       "      <td>Y</td>\n",
       "      <td>Y</td>\n",
       "      <td>0</td>\n",
       "      <td>0</td>\n",
       "      <td>0</td>\n",
       "      <td>0</td>\n",
       "      <td>0</td>\n",
       "      <td>0</td>\n",
       "      <td>0</td>\n",
       "      <td>0</td>\n",
       "      <td>0</td>\n",
       "    </tr>\n",
       "    <tr>\n",
       "      <th>...</th>\n",
       "      <td>...</td>\n",
       "      <td>...</td>\n",
       "      <td>...</td>\n",
       "      <td>...</td>\n",
       "      <td>...</td>\n",
       "      <td>...</td>\n",
       "      <td>...</td>\n",
       "      <td>...</td>\n",
       "      <td>...</td>\n",
       "      <td>...</td>\n",
       "      <td>...</td>\n",
       "      <td>...</td>\n",
       "      <td>...</td>\n",
       "      <td>...</td>\n",
       "    </tr>\n",
       "    <tr>\n",
       "      <th>1534820</th>\n",
       "      <td>0</td>\n",
       "      <td>0</td>\n",
       "      <td>0</td>\n",
       "      <td>N</td>\n",
       "      <td>N</td>\n",
       "      <td>0</td>\n",
       "      <td>0</td>\n",
       "      <td>0</td>\n",
       "      <td>Y</td>\n",
       "      <td>Y</td>\n",
       "      <td>0</td>\n",
       "      <td>0</td>\n",
       "      <td>0</td>\n",
       "      <td>0</td>\n",
       "    </tr>\n",
       "    <tr>\n",
       "      <th>1534821</th>\n",
       "      <td>0</td>\n",
       "      <td>0</td>\n",
       "      <td>0</td>\n",
       "      <td>0</td>\n",
       "      <td>0</td>\n",
       "      <td>0</td>\n",
       "      <td>0</td>\n",
       "      <td>0</td>\n",
       "      <td>0</td>\n",
       "      <td>0</td>\n",
       "      <td>0</td>\n",
       "      <td>0</td>\n",
       "      <td>0</td>\n",
       "      <td>Y</td>\n",
       "    </tr>\n",
       "    <tr>\n",
       "      <th>1534822</th>\n",
       "      <td>0</td>\n",
       "      <td>0</td>\n",
       "      <td>0</td>\n",
       "      <td>0</td>\n",
       "      <td>0</td>\n",
       "      <td>Y</td>\n",
       "      <td>0</td>\n",
       "      <td>0</td>\n",
       "      <td>0</td>\n",
       "      <td>0</td>\n",
       "      <td>0</td>\n",
       "      <td>0</td>\n",
       "      <td>0</td>\n",
       "      <td>0</td>\n",
       "    </tr>\n",
       "    <tr>\n",
       "      <th>1534823</th>\n",
       "      <td>0</td>\n",
       "      <td>0</td>\n",
       "      <td>0</td>\n",
       "      <td>0</td>\n",
       "      <td>0</td>\n",
       "      <td>0</td>\n",
       "      <td>0</td>\n",
       "      <td>0</td>\n",
       "      <td>0</td>\n",
       "      <td>0</td>\n",
       "      <td>Y</td>\n",
       "      <td>Y</td>\n",
       "      <td>0</td>\n",
       "      <td>0</td>\n",
       "    </tr>\n",
       "    <tr>\n",
       "      <th>1534824</th>\n",
       "      <td>0</td>\n",
       "      <td>Y</td>\n",
       "      <td>Y</td>\n",
       "      <td>0</td>\n",
       "      <td>0</td>\n",
       "      <td>0</td>\n",
       "      <td>0</td>\n",
       "      <td>0</td>\n",
       "      <td>0</td>\n",
       "      <td>0</td>\n",
       "      <td>0</td>\n",
       "      <td>0</td>\n",
       "      <td>0</td>\n",
       "      <td>0</td>\n",
       "    </tr>\n",
       "  </tbody>\n",
       "</table>\n",
       "<p>1534825 rows × 14 columns</p>\n",
       "</div>"
      ],
      "text/plain": [
       "        Area 00 I Area 01 I Area 02 I Area 03 I Area 04 I Area 05 I Area 06 I  \\\n",
       "0               0         0         0         0         Y         0         0   \n",
       "1               0         Y         0         0         0         0         0   \n",
       "2               0         0         0         0         0         0         0   \n",
       "3               0         0         0         0         0         0         0   \n",
       "4               0         0         0         Y         Y         0         0   \n",
       "...           ...       ...       ...       ...       ...       ...       ...   \n",
       "1534820         0         0         0         N         N         0         0   \n",
       "1534821         0         0         0         0         0         0         0   \n",
       "1534822         0         0         0         0         0         Y         0   \n",
       "1534823         0         0         0         0         0         0         0   \n",
       "1534824         0         Y         Y         0         0         0         0   \n",
       "\n",
       "        Area 07 I Area 08 I Area 09 I Area 10 I Area 11 I Area 12 I Area 99 I  \n",
       "0               0         0         0         Y         0         0         0  \n",
       "1               0         0         0         0         0         0         0  \n",
       "2               0         0         Y         0         0         0         0  \n",
       "3               0         0         Y         0         0         0         0  \n",
       "4               0         0         0         0         0         0         0  \n",
       "...           ...       ...       ...       ...       ...       ...       ...  \n",
       "1534820         0         Y         Y         0         0         0         0  \n",
       "1534821         0         0         0         0         0         0         Y  \n",
       "1534822         0         0         0         0         0         0         0  \n",
       "1534823         0         0         0         Y         Y         0         0  \n",
       "1534824         0         0         0         0         0         0         0  \n",
       "\n",
       "[1534825 rows x 14 columns]"
      ]
     },
     "execution_count": 63,
     "metadata": {},
     "output_type": "execute_result"
    }
   ],
   "source": [
    "vehicles_df[area_columns]"
   ]
  },
  {
   "cell_type": "code",
   "execution_count": null,
   "metadata": {},
   "outputs": [],
   "source": [
    "vehicles_df[area_columns] = vehicles_df[area_columns].replace(to_replace=\"N\", value = 0)\n",
    "vehicles_df[area_columns] = vehicles_df[area_columns].replace(to_replace=\"Y\", value = 1)"
   ]
  },
  {
   "cell_type": "code",
   "execution_count": null,
   "metadata": {},
   "outputs": [],
   "source": [
    "b"
   ]
  },
  {
   "cell_type": "code",
   "execution_count": null,
   "metadata": {},
   "outputs": [],
   "source": [
    "vehicles_df[area_columns].loc[vehicles_df[area_columns].sum(axis=1) > 1]"
   ]
  },
  {
   "cell_type": "code",
   "execution_count": null,
   "metadata": {},
   "outputs": [],
   "source": [
    "vehicles_df['Num Areas'] = vehicles_df[area_columns].sum(axis=1)"
   ]
  },
  {
   "cell_type": "code",
   "execution_count": null,
   "metadata": {},
   "outputs": [],
   "source": [
    "vehicles_df['Num Areas'].value_counts()"
   ]
  },
  {
   "cell_type": "code",
   "execution_count": null,
   "metadata": {},
   "outputs": [],
   "source": [
    "# Injury Score column is a linear combination of the factors that make up Injuries Total simply \n",
    "# multiplied by a constant depending on their severity\n",
    "crashes_df['Injury Score'] = crashes_df['Injuries Fatal']*7 +\n",
    "                            crashes_df['Injuries Incapacitating']*3 + \n",
    "                            crashes_df['Injuries Non Incapacitating']*2 + \n",
    "                            crashes_df['Injuries Reported Not Evident']"
   ]
  },
  {
   "cell_type": "code",
   "execution_count": null,
   "metadata": {},
   "outputs": [],
   "source": [
    "# Injury Score\n",
    "\n",
    "crashes_df[['Injuries Total', 'Injuries Fatal', 'Injuries Incapacitating', \n",
    "            'Injuries Non Incapacitating', 'Injuries Reported Not Evident']][crashes_df['Injuries Total']!=0][:50]\n",
    "\n",
    "crashes_df['total injured'] = crashes_df['Injuries Fatal'] + crashes_df['Injuries Incapacitating'] + crashes_df['Injuries Non Incapacitating'] + crashes_df['Injuries Reported Not Evident']\n",
    "\n",
    "# Checking if added up columns in 'total injured' make up 'Injuries Total'\n",
    "(crashes_df['total injured'] == crashes_df['Injuries Total']).value_counts()\n",
    "\n",
    "# Injury Score column is a linear combination of the factors that make up Injuries Total simply multiplied by a constant depending on their severity\n",
    "crashes_df['Injury Score'] = crashes_df['Injuries Fatal']*7 + crashes_df['Injuries Incapacitating']*3 + crashes_df['Injuries Non Incapacitating']*2 + crashes_df['Injuries Reported Not Evident']\n",
    "\n",
    "# Accounting Material Damage of Car and Surrounding Areas (Crash Score)\n",
    "\n",
    "crashes_df['Damage'].value_counts()\n",
    "mapping = {'OVER $1,500': 3, '$501 - $1,500': 2, \"$500 OR LESS\": 1}\n",
    "crashes_df['Damage_ODE'] = crashes_df['Damage'].map(mapping)\n",
    "crashes_df['Injury Score'] = crashes_df['Injury Score'] + crashes_df['Damage_ODE']*3\n",
    "crashes_df['Crash Score'] = crashes_df['Injury Score']"
   ]
  },
  {
   "cell_type": "code",
   "execution_count": null,
   "metadata": {},
   "outputs": [],
   "source": []
  }
 ],
 "metadata": {
  "kernelspec": {
   "display_name": "Python (learn-env)",
   "language": "python",
   "name": "learn-env"
  },
  "language_info": {
   "codemirror_mode": {
    "name": "ipython",
    "version": 3
   },
   "file_extension": ".py",
   "mimetype": "text/x-python",
   "name": "python",
   "nbconvert_exporter": "python",
   "pygments_lexer": "ipython3",
   "version": "3.8.5"
  }
 },
 "nbformat": 4,
 "nbformat_minor": 4
}
