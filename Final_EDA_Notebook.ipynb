{
 "cells": [
  {
   "cell_type": "markdown",
   "id": "26e527ff",
   "metadata": {},
   "source": [
    "# Road to Vision Zero - Chicago Crash Data Analysis"
   ]
  },
  {
   "cell_type": "markdown",
   "id": "fc0f911f",
   "metadata": {},
   "source": [
    "![image](https://github.com/nickthetj/DSC-Phase3-Project/assets/126971652/9e88f1d6-2353-4ad1-95ec-1f7329edad13)\n"
   ]
  },
  {
   "cell_type": "markdown",
   "id": "05e527fb",
   "metadata": {
    "jp-MarkdownHeadingCollapsed": true
   },
   "source": [
    "## Overview\n"
   ]
  },
  {
   "cell_type": "markdown",
   "id": "9289f979",
   "metadata": {},
   "source": [
    "The City of Chicago would like to gain more insight into traffic accidents given information about the car, the people in the car, and the road conditions. They plan on pursuing the goals of Vision Zero, an organization with a strategy to eliminate all traffic fatalities and severe injuries, while increasing safe, healthy, equitable mobility for all. Our project involves the examination of crash data sourced from the City of Chicago's Data Portal to further this mission. By analyzing this data, we hope to create a predictive model that can help evaluate trends across crashes. Through this comprehensive analysis, we will be able to make recommendations for Chicago to make their streets safer."
   ]
  },
  {
   "cell_type": "markdown",
   "id": "3a4f4123",
   "metadata": {
    "jp-MarkdownHeadingCollapsed": true
   },
   "source": [
    "## Business Problem"
   ]
  },
  {
   "cell_type": "markdown",
   "id": "8b712578",
   "metadata": {},
   "source": [
    "Vision Zero believes that the loss of even a single life is unacceptable. This is especially true because traffic accidents are not actually accidents at all; they are crashes, because they are preventable. In order to move Chicago closer to this vision, our data analysis led to the following recommendations:\n",
    "\n",
    "Pedestrian/Cyclist Safety\n",
    "Traffic Rule Adherence\n",
    "\n",
    "Continue below to see how we arrived at these recommendations and what Chicago can do to prioritize these measures."
   ]
  },
  {
   "cell_type": "markdown",
   "id": "36000510",
   "metadata": {
    "jp-MarkdownHeadingCollapsed": true
   },
   "source": [
    "## Data Understanding"
   ]
  },
  {
   "cell_type": "markdown",
   "id": "23be98d3",
   "metadata": {},
   "source": [
    "![image](https://github.com/nickthetj/DSC-Phase3-Project/assets/126971652/5bb378f0-e0b8-467f-bb04-e8fbb7767fa5)\n"
   ]
  },
  {
   "cell_type": "markdown",
   "id": "ba21efc9",
   "metadata": {},
   "source": [
    "\n",
    "The datasets used in this analysis come from the City of Chicago's Data Portal. We analyzed over 740,00 crashes from the City of Chicago's Data Portal ranging from 2016 to 2022. \n",
    "\n",
    "Specifically, we used three seperate CSV files:\n",
    "- [Crash Data](https://data.cityofchicago.org/Transportation/Traffic-Crashes-Crashes/85ca-t3if) displays information about each traffic collision that occurred on city streets within the City of Chicago and within the jurisdiction of the Chicago Police Department (CPD).\n",
    "- [Vehicles Data](https://data.cityofchicago.org/Transportation/Traffic-Crashes-Vehicles/68nd-jvt3) contains information about vehicles (or units as they are identified in crash reports) involved in a traffic crash. \n",
    "- [People Data](https://data.cityofchicago.org/Transportation/Traffic-Crashes-Crashes/85ca-t3if) comprises information about the people involved in a crash and whether or not they were injured. \n"
   ]
  },
  {
   "cell_type": "markdown",
   "id": "d432b133",
   "metadata": {
    "jp-MarkdownHeadingCollapsed": true
   },
   "source": [
    "## Data Preparation"
   ]
  },
  {
   "cell_type": "markdown",
   "id": "88aada61",
   "metadata": {},
   "source": [
    "A core component of Vision Zero is that the loss of even a single life is unacceptable. To gain insight into how to prevent deaths, we classified the data into two categories: crashes that resulted in Fatalities, and crashes that did not result in Fatalities.\n",
    "\n",
    "We trained a Logistic Regression Model as well as a Decision Tree Model. As Fatal crashes only consisted of about 1% of our dataset, we used a Pipeline to supplement the class with SMOTE to allow our model to better learn this category. We one hot encoded all 14 categorical columns which allowed the model to learn to classify each crash as Fatal or Not Fatal based on 238 features such as the weather, the time of day, the type of crash, and more.\n",
    "\n",
    "We tuned our model with GridSearch to constantly improve our recall score. We chose to focus on recall score to minimize the likelihood of our model predicting a crash as Not Fatal, when it was in fact Fatal."
   ]
  },
  {
   "cell_type": "markdown",
   "id": "b19789a6",
   "metadata": {
    "jp-MarkdownHeadingCollapsed": true
   },
   "source": [
    "### Imports"
   ]
  },
  {
   "cell_type": "code",
   "execution_count": 1,
   "id": "d178166e",
   "metadata": {},
   "outputs": [],
   "source": [
    "import pandas as pd\n",
    "import numpy as np\n",
    "import matplotlib.pyplot as plt\n",
    "import seaborn as sns\n",
    "import math\n",
    "\n",
    "from sklearn.model_selection import train_test_split, cross_val_score, cross_validate, GridSearchCV\n",
    "from sklearn.preprocessing import normalize, OneHotEncoder\n",
    "from sklearn.linear_model import LinearRegression, LogisticRegression\n",
    "from sklearn.metrics import log_loss, accuracy_score, recall_score, make_scorer\n",
    "from sklearn.dummy import DummyClassifier\n",
    "from sklearn.metrics import confusion_matrix, plot_confusion_matrix\n",
    "from imblearn.over_sampling import SMOTE\n",
    "from imblearn.pipeline import Pipeline\n",
    "from sklearn.tree import DecisionTreeClassifier"
   ]
  },
  {
   "cell_type": "markdown",
   "id": "a3c8ad98",
   "metadata": {
    "jp-MarkdownHeadingCollapsed": true
   },
   "source": [
    "### Reading Data"
   ]
  },
  {
   "cell_type": "markdown",
   "id": "9fa7fbd7",
   "metadata": {},
   "source": [
    "To run our models, our team has to save the CSV files locally with the paths in the cell below. These CSV files do not exist in our repo as they were too large to push up. They can be downloaded via the links under the **Data Understanding** section above. Save those downloaded files with the paths below, then this notebook can be run locally. "
   ]
  },
  {
   "cell_type": "code",
   "execution_count": 18,
   "id": "4c6a5e0a",
   "metadata": {},
   "outputs": [
    {
     "name": "stderr",
     "output_type": "stream",
     "text": [
      "/Users/michaelromanski/anaconda3/envs/learn-env/lib/python3.8/site-packages/IPython/core/interactiveshell.py:3145: DtypeWarning: Columns (19,21,40,41,42,44,48,49,50,53,55,58,59,61,71) have mixed types.Specify dtype option on import or set low_memory=False.\n",
      "  has_raised = await self.run_ast_nodes(code_ast.body, cell_name,\n",
      "/Users/michaelromanski/anaconda3/envs/learn-env/lib/python3.8/site-packages/IPython/core/interactiveshell.py:3145: DtypeWarning: Columns (20,24,25,26,29) have mixed types.Specify dtype option on import or set low_memory=False.\n",
      "  has_raised = await self.run_ast_nodes(code_ast.body, cell_name,\n"
     ]
    }
   ],
   "source": [
    "# reading CSVs\n",
    "vehicle_df = pd.read_csv('../data/localdata/Traffic_Crashes_Vehicles.csv')\n",
    "people_df = pd.read_csv('../data/localdata/Traffic_Crashes_People.csv')\n",
    "crash_df = pd.read_csv('../data/localdata/Traffic_Crashes_Crashes.csv')"
   ]
  },
  {
   "cell_type": "markdown",
   "id": "f28926a5",
   "metadata": {
    "jp-MarkdownHeadingCollapsed": true
   },
   "source": [
    "### Data Cleaning"
   ]
  },
  {
   "cell_type": "markdown",
   "id": "8b6aa691",
   "metadata": {},
   "source": [
    "We chose the most relevant columns for our predictors and reformatted the column names in this section."
   ]
  },
  {
   "cell_type": "code",
   "execution_count": 19,
   "id": "8cf8f25b",
   "metadata": {},
   "outputs": [],
   "source": [
    "# Crashes DataFrame Cleaning\n",
    "\n",
    "crash_df.drop(columns=['WORK_ZONE_I', 'WORK_ZONE_TYPE', 'DOORING_I', 'WORKERS_PRESENT_I',\n",
    "                                          'PHOTOS_TAKEN_I', 'STATEMENTS_TAKEN_I', 'RD_NO', 'REPORT_TYPE', 'CRASH_DATE_EST_I'], axis=1, inplace=True)\n",
    "crash_df.dropna(subset = ['INJURIES_TOTAL', 'LATITUDE', 'MOST_SEVERE_INJURY', \n",
    "                          'STREET_DIRECTION', 'BEAT_OF_OCCURRENCE'], axis=0, inplace=True)\n",
    "crash_df.columns = crash_df.columns.str.title()\n",
    "crash_df.columns = crash_df.columns.str.replace('_', ' ')"
   ]
  },
  {
   "cell_type": "code",
   "execution_count": 20,
   "id": "e91c5ec7",
   "metadata": {},
   "outputs": [],
   "source": [
    "# Vehicles DataFrame Cleaning\n",
    "\n",
    "vehicle_df = vehicle_df[['CRASH_UNIT_ID', 'CRASH_RECORD_ID', 'CRASH_DATE', 'UNIT_NO', 'UNIT_TYPE',\n",
    "                       'VEHICLE_YEAR', 'VEHICLE_USE', 'VEHICLE_TYPE', 'VEHICLE_DEFECT', 'MANEUVER', 'OCCUPANT_CNT',\n",
    "                         'AREA_00_I', 'AREA_01_I', 'AREA_02_I', 'AREA_03_I', 'AREA_04_I',\n",
    "                       'AREA_05_I', 'AREA_06_I', 'AREA_07_I', 'AREA_08_I', 'AREA_09_I', 'AREA_10_I', 'AREA_11_I',\n",
    "                       'AREA_12_I', 'AREA_99_I', 'FIRST_CONTACT_POINT']]\n",
    "vehicle_df.dropna(subset = ['VEHICLE_USE', 'FIRST_CONTACT_POINT', 'UNIT_TYPE'], axis=0, inplace=True)\n",
    "vehicle_df['VEHICLE_YEAR'].fillna(value = 'Unknown', inplace=True)\n",
    "\n",
    "vehicle_df.columns = vehicle_df.columns.str.title()\n",
    "vehicle_df.columns = vehicle_df.columns.str.replace('_', ' ')"
   ]
  },
  {
   "cell_type": "code",
   "execution_count": 21,
   "id": "b878743e",
   "metadata": {},
   "outputs": [],
   "source": [
    "# People DataFrame Cleaning\n",
    "\n",
    "people_df.drop(columns=['RD_NO', 'CELL_PHONE_USE', 'PEDPEDAL_ACTION', \n",
    "                        'PEDPEDAL_VISIBILITY', 'PEDPEDAL_LOCATION', 'SEAT_NO', \n",
    "                        'HOSPITAL', 'EMS_AGENCY', 'EMS_RUN_NO', 'BAC_RESULT', 'BAC_RESULT VALUE', \n",
    "                        'DRIVERS_LICENSE_STATE', 'DRIVERS_LICENSE_CLASS', 'CITY', 'STATE', 'ZIPCODE']\n",
    "               , axis=1, inplace=True)\n",
    "\n",
    "people_df.dropna(subset = ['AIRBAG_DEPLOYED', 'EJECTION', 'INJURY_CLASSIFICATION', 'VEHICLE_ID', \n",
    "                           'SAFETY_EQUIPMENT', 'SEX'], axis=0, inplace=True)\n",
    "\n",
    "people_df.columns = people_df.columns.str.title()\n",
    "people_df.columns = people_df.columns.str.replace('_', ' ')"
   ]
  },
  {
   "cell_type": "markdown",
   "id": "3b21980a",
   "metadata": {
    "jp-MarkdownHeadingCollapsed": true
   },
   "source": [
    "### Feature Engineering Crash Score"
   ]
  },
  {
   "cell_type": "markdown",
   "id": "b50d07b6",
   "metadata": {},
   "source": [
    "For our first iteration of a target variable, we feature engineered a **Crash Score** which was a linear combination of different types of injuries from most severe to least severe. The more severe injuries were weighted with a higher constant than the less severe injuries. This linear combination also took into account car damage, but this was weighted far lower. The end result was a number that rated every incident with a score depicting how severe a crash was. "
   ]
  },
  {
   "cell_type": "code",
   "execution_count": 22,
   "id": "833889c1",
   "metadata": {},
   "outputs": [],
   "source": [
    "# Injury Score\n",
    "\n",
    "crash_df[['Injuries Total', 'Injuries Fatal', 'Injuries Incapacitating', \n",
    "            'Injuries Non Incapacitating', 'Injuries Reported Not Evident']][crash_df['Injuries Total']!=0][:50]\n",
    "\n",
    "crash_df['total injured'] = crash_df['Injuries Fatal'] + crash_df['Injuries Incapacitating'] + crash_df['Injuries Non Incapacitating'] + crash_df['Injuries Reported Not Evident']\n",
    "\n",
    "# Checking if added up columns in 'total injured' make up 'Injuries Total'\n",
    "(crash_df['total injured'] == crash_df['Injuries Total']).value_counts()\n",
    "\n",
    "# Injury Score column is a linear combination of the factors that make up Injuries Total simply multiplied by a constant depending on their severity\n",
    "crash_df['Injury Score'] = crash_df['Injuries Fatal']*7 + crash_df['Injuries Incapacitating']*3 + crash_df['Injuries Non Incapacitating']*2 + crash_df['Injuries Reported Not Evident']\n",
    "\n",
    "# Accounting Material Damage of Car and Surrounding Areas )\n",
    "# Crash Score \n",
    "\n",
    "crash_df['Damage'].value_counts()\n",
    "mapping = {'OVER $1,500': 3, '$501 - $1,500': 2, \"$500 OR LESS\": 1}\n",
    "crash_df['Damage_ODE'] = crash_df['Damage'].map(mapping)\n",
    "crash_df['Injury Score'] = crash_df['Injury Score'] + crash_df['Damage_ODE']*3\n",
    "crash_df['Crash Score'] = crash_df['Injury Score']"
   ]
  },
  {
   "cell_type": "markdown",
   "id": "d5757d54",
   "metadata": {},
   "source": [
    "We ended up dropping this feature engineered target in favor of a simpler binary target, depicting if an acccident involved fatal injuries and if it did not."
   ]
  },
  {
   "cell_type": "markdown",
   "id": "2f6720f9",
   "metadata": {
    "jp-MarkdownHeadingCollapsed": true
   },
   "source": [
    "### Creating Binary Target (Fatal or not Fatal)"
   ]
  },
  {
   "cell_type": "markdown",
   "id": "2132f431",
   "metadata": {},
   "source": [
    "This function determined if an accident involved fatal or not fatal accidents, and binned them accordingly."
   ]
  },
  {
   "cell_type": "code",
   "execution_count": 23,
   "id": "855d94d1",
   "metadata": {},
   "outputs": [],
   "source": [
    "def fill_fatal_class_rows(row):\n",
    "    if row[\"Injuries Fatal\"] > 0 :\n",
    "        return 'Fatal'\n",
    "    else:\n",
    "        return 'Not Fatal'\n",
    "\n",
    "crash_df['Fatality Classification'] = crash_df.apply(fill_fatal_class_rows, axis=1)"
   ]
  },
  {
   "cell_type": "markdown",
   "id": "b87f4475",
   "metadata": {},
   "source": [
    "Distribution between non fatal and fatal crashes."
   ]
  },
  {
   "cell_type": "code",
   "execution_count": 24,
   "id": "6abe5478",
   "metadata": {},
   "outputs": [
    {
     "data": {
      "text/plain": [
       "Not Fatal    0.998912\n",
       "Fatal        0.001088\n",
       "Name: Fatality Classification, dtype: float64"
      ]
     },
     "execution_count": 24,
     "metadata": {},
     "output_type": "execute_result"
    }
   ],
   "source": [
    "crash_df['Fatality Classification'].value_counts(normalize=True)"
   ]
  },
  {
   "cell_type": "markdown",
   "id": "62130934",
   "metadata": {
    "jp-MarkdownHeadingCollapsed": true
   },
   "source": [
    "### Merging Vehicle and Crash DataFrames"
   ]
  },
  {
   "cell_type": "markdown",
   "id": "18a3f897",
   "metadata": {},
   "source": [
    "For our predictors, we used a set of columns belonging to both the Vehicles and Crashes dataset. We merged these columns together into one dataframe and OneHotEncoded all of these predictors since they were all categorical data."
   ]
  },
  {
   "cell_type": "code",
   "execution_count": 25,
   "id": "4ceb2ab2",
   "metadata": {},
   "outputs": [],
   "source": [
    "vehicles_crashes_df = vehicle_df.merge(crash_df, on = 'Crash Record Id', how = 'inner')\n",
    "vehicles_crashes_df.drop_duplicates(subset='Crash Record Id', inplace=True)"
   ]
  },
  {
   "cell_type": "code",
   "execution_count": 26,
   "id": "b21c65f9",
   "metadata": {},
   "outputs": [],
   "source": [
    "categorical = ['Weather Condition', 'Roadway Surface Cond', 'Road Defect', 'Alignment',\n",
    "                       'Traffic Control Device', 'Device Condition', 'Crash Hour', 'Trafficway Type', 'Maneuver', 'Vehicle Defect',\n",
    "               'Lighting Condition', 'First Crash Type', 'Prim Contributory Cause', 'Sec Contributory Cause'] #potentiall vehicle defects\n",
    "\n",
    "ohe = OneHotEncoder(drop='first')\n",
    "ohe.fit(vehicles_crashes_df[categorical])\n",
    "\n",
    "categorical_encoded = pd.DataFrame(ohe.transform(vehicles_crashes_df[categorical]).todense(),\n",
    "                               columns=ohe.get_feature_names())"
   ]
  },
  {
   "cell_type": "markdown",
   "id": "a2fbf719",
   "metadata": {},
   "source": [
    "## Modeling"
   ]
  },
  {
   "cell_type": "markdown",
   "id": "b3b879a8",
   "metadata": {},
   "source": [
    "Throughout our modelling process, we evaluated the performance of a model based on the recall score. False Negatives in this case means that our model predicted a crash to be Not Fatal when in actuality it was Fatal. As lives are of the upmost importance, we want to minimize that chance of a False Negative as much as possible. "
   ]
  },
  {
   "cell_type": "markdown",
   "id": "4f0fe34f",
   "metadata": {
    "jp-MarkdownHeadingCollapsed": true
   },
   "source": [
    "### Creating Train Test Split for Fatal vs. Not Fatal"
   ]
  },
  {
   "cell_type": "markdown",
   "id": "d2e25df5",
   "metadata": {},
   "source": [
    "All of our modelling will be conducted on the training set of data. After choosing the model with the highest recall score based on our training data, then we evaluate it on unseen data (testing). "
   ]
  },
  {
   "cell_type": "code",
   "execution_count": 27,
   "id": "def748b1",
   "metadata": {},
   "outputs": [],
   "source": [
    "X = categorical_encoded\n",
    "y = vehicles_crashes_df['Fatality Classification']\n",
    "\n",
    "X_train, X_test, y_train, y_test = train_test_split(X, y, random_state=42)"
   ]
  },
  {
   "cell_type": "markdown",
   "id": "f4548b5b",
   "metadata": {
    "jp-MarkdownHeadingCollapsed": true
   },
   "source": [
    "### Dummy Model"
   ]
  },
  {
   "cell_type": "markdown",
   "id": "17b6f006",
   "metadata": {},
   "source": [
    "#### Instantiating the Model"
   ]
  },
  {
   "cell_type": "code",
   "execution_count": null,
   "id": "5d8b88c5",
   "metadata": {},
   "outputs": [],
   "source": [
    "#Instantiate dummy model that will always predict majority class\n",
    "dummy_model = DummyClassifier(strategy=\"most_frequent\", random_state = 42)\n",
    "dummy_model.fit(X_train, y_train)\n",
    "\n",
    "y_true = y_train\n",
    "y_pred = dummy_model.predict(X_train)\n",
    "recall_score(y_true, y_pred, pos_label='Fatal')"
   ]
  },
  {
   "cell_type": "markdown",
   "id": "76cd8052",
   "metadata": {},
   "source": [
    "We created a recall scorer for all of our models to use for evaluation."
   ]
  },
  {
   "cell_type": "code",
   "execution_count": null,
   "id": "5cc54ee1",
   "metadata": {},
   "outputs": [],
   "source": [
    "recall_scorer = make_scorer(recall_score, pos_label='Fatal')"
   ]
  },
  {
   "cell_type": "markdown",
   "id": "30f355c0",
   "metadata": {},
   "source": [
    "The cell below is our recall score for the Dummy Model. Our goal is to improve from this towards 1 as much as possible."
   ]
  },
  {
   "cell_type": "code",
   "execution_count": null,
   "id": "153de299",
   "metadata": {},
   "outputs": [],
   "source": [
    "cv_score_dummy = cross_val_score(estimator = dummy_model, X=X_train, y=y_train, scoring = recall_scorer, n_jobs=-1).mean()\n",
    "cv_score_dummy"
   ]
  },
  {
   "cell_type": "markdown",
   "id": "4c03d401",
   "metadata": {},
   "source": [
    "### Logistic Regression Model"
   ]
  },
  {
   "cell_type": "markdown",
   "id": "d2881e6b",
   "metadata": {},
   "source": [
    "Our Logistic Regression Model ended up becoming the final model we used for our presentation as it generated the highest recall score."
   ]
  },
  {
   "cell_type": "markdown",
   "id": "0ce0e35b",
   "metadata": {
    "jp-MarkdownHeadingCollapsed": true
   },
   "source": [
    "#### Instantiating the Model"
   ]
  },
  {
   "cell_type": "markdown",
   "id": "577d8419",
   "metadata": {},
   "source": [
    "Printed below is our baseline accuracy of the logistic regression model"
   ]
  },
  {
   "cell_type": "code",
   "execution_count": 28,
   "id": "6f689fd1",
   "metadata": {},
   "outputs": [
    {
     "data": {
      "text/plain": [
       "0.8611570247933884"
      ]
     },
     "execution_count": 28,
     "metadata": {},
     "output_type": "execute_result"
    }
   ],
   "source": [
    "logreg = LogisticRegression(random_state=42, max_iter = 2000, class_weight = 'balanced', penalty = 'none')\n",
    "logreg.fit(X_train, y_train)\n",
    "y_true = y_train\n",
    "y_pred = logreg.predict(X_train)\n",
    "recall_score(y_true, y_pred, pos_label = 'Fatal')"
   ]
  },
  {
   "cell_type": "markdown",
   "id": "7798a34f",
   "metadata": {
    "jp-MarkdownHeadingCollapsed": true
   },
   "source": [
    "#### Data Processing through a Pipeline"
   ]
  },
  {
   "cell_type": "markdown",
   "id": "ad874822",
   "metadata": {},
   "source": [
    "We decided to use smote to produce more data points for events that resulted in fatal injuries because we want our model to be able to parse out what makes a incident fatal. With our initial distribution of fatal to non fatal accidents (Fatal: 0.001088, Not Fatal: 0.998912), we felt our model did not have enough data points belonging to the fatal category to make these connections. Thus we tweaked this distribution by generating synthetic data points in the fatal category using smote (Fatal: 0.3, Not Fatal: 0.7).\n",
    "\n",
    "Our pipeline, logpipe, simplified this process by chaining the two estimators together."
   ]
  },
  {
   "cell_type": "code",
   "execution_count": 29,
   "id": "73eb0926",
   "metadata": {},
   "outputs": [
    {
     "data": {
      "text/plain": [
       "Pipeline(steps=[('smote', SMOTE(random_state=42, sampling_strategy=0.3)),\n",
       "                ('model',\n",
       "                 LogisticRegression(class_weight='balanced', max_iter=2000,\n",
       "                                    penalty='none', random_state=42))])"
      ]
     },
     "execution_count": 29,
     "metadata": {},
     "output_type": "execute_result"
    }
   ],
   "source": [
    "logpipe = Pipeline([('smote', SMOTE(random_state=42, sampling_strategy = 0.3)),\n",
    "                    ('model', logreg)])\n",
    "logpipe.fit(X_train, y_train)"
   ]
  },
  {
   "cell_type": "markdown",
   "id": "bac50780",
   "metadata": {},
   "source": [
    "Cross validated recall scores"
   ]
  },
  {
   "cell_type": "code",
   "execution_count": null,
   "id": "c1787d25",
   "metadata": {},
   "outputs": [],
   "source": [
    "cv_score_logpipe = cross_val_score(estimator=logpipe, X=X_train, y=y_train, scoring = recall_scorer, n_jobs = -1).mean()\n",
    "cv_score_logpipe"
   ]
  },
  {
   "cell_type": "code",
   "execution_count": null,
   "id": "b9ab02c0",
   "metadata": {},
   "outputs": [],
   "source": [
    "recall_score(y_true, y_pred, pos_label = 'Fatal')"
   ]
  },
  {
   "cell_type": "code",
   "execution_count": null,
   "id": "14d633c8",
   "metadata": {
    "scrolled": true
   },
   "outputs": [],
   "source": [
    "plot_confusion_matrix(logreg, X_train, y_train, labels = ['Not Fatal', 'Fatal'], cmap = plt.cm.Blues);"
   ]
  },
  {
   "cell_type": "markdown",
   "id": "90a3d76e",
   "metadata": {
    "jp-MarkdownHeadingCollapsed": true
   },
   "source": [
    "#### Parameter Tuning with GridSearchCV"
   ]
  },
  {
   "cell_type": "markdown",
   "id": "540a07fb",
   "metadata": {},
   "source": [
    "Returns the best parameter combination with associated recall score"
   ]
  },
  {
   "cell_type": "code",
   "execution_count": null,
   "id": "c05b76df",
   "metadata": {},
   "outputs": [],
   "source": [
    "logreg = LogisticRegression(random_state=42, max_iter = 2000, n_jobs= -1, class_weight = 'balanced')\n",
    "\n",
    "logpipe = Pipeline([('smote', SMOTE(random_state=42, n_jobs=-1)),\n",
    "                    ('model', logreg)])\n",
    "\n",
    "param_grid = {\n",
    "    \"smote__sampling_strategy\": [0.3, 0.4, 0.5],\n",
    "    \"model__C\": np.logspace(-4, 4, 4),\n",
    "    \"model__penalty\": ['l1', 'none']\n",
    "}\n",
    "\n",
    "search = GridSearchCV(logpipe, param_grid, scoring= recall_scorer, n_jobs=-1)\n",
    "search.fit(X_train, y_train)\n",
    "\n",
    "print(\"Best parameter (CV score=%0.3f):\" % search.best_score_)\n",
    "print(search.best_params_)"
   ]
  },
  {
   "cell_type": "markdown",
   "id": "114e3391",
   "metadata": {},
   "source": [
    "#### Relevant coefficients for Logistic Regression Model"
   ]
  },
  {
   "cell_type": "markdown",
   "id": "cf178ec6",
   "metadata": {},
   "source": [
    "We generated the following dataframe to gain some inferential understanding as to what factors increased the chances (log odds) of an accident being categorized as fatal by our model. "
   ]
  },
  {
   "cell_type": "code",
   "execution_count": 30,
   "id": "769e1b96",
   "metadata": {
    "scrolled": true
   },
   "outputs": [
    {
     "data": {
      "text/html": [
       "<div>\n",
       "<style scoped>\n",
       "    .dataframe tbody tr th:only-of-type {\n",
       "        vertical-align: middle;\n",
       "    }\n",
       "\n",
       "    .dataframe tbody tr th {\n",
       "        vertical-align: top;\n",
       "    }\n",
       "\n",
       "    .dataframe thead th {\n",
       "        text-align: right;\n",
       "    }\n",
       "</style>\n",
       "<table border=\"1\" class=\"dataframe\">\n",
       "  <thead>\n",
       "    <tr style=\"text-align: right;\">\n",
       "      <th></th>\n",
       "      <th>coefficients</th>\n",
       "      <th>features</th>\n",
       "    </tr>\n",
       "  </thead>\n",
       "  <tbody>\n",
       "    <tr>\n",
       "      <th>189</th>\n",
       "      <td>16.2876</td>\n",
       "      <td>x12_PHYSICAL CONDITION OF DRIVER</td>\n",
       "    </tr>\n",
       "    <tr>\n",
       "      <th>174</th>\n",
       "      <td>14.6623</td>\n",
       "      <td>x12_EXCEEDING AUTHORIZED SPEED LIMIT</td>\n",
       "    </tr>\n",
       "    <tr>\n",
       "      <th>175</th>\n",
       "      <td>13.4487</td>\n",
       "      <td>x12_EXCEEDING SAFE SPEED FOR CONDITIONS</td>\n",
       "    </tr>\n",
       "    <tr>\n",
       "      <th>165</th>\n",
       "      <td>13.2781</td>\n",
       "      <td>x12_DISREGARDING TRAFFIC SIGNALS</td>\n",
       "    </tr>\n",
       "    <tr>\n",
       "      <th>162</th>\n",
       "      <td>13.2449</td>\n",
       "      <td>x12_DISREGARDING OTHER TRAFFIC SIGNS</td>\n",
       "    </tr>\n",
       "    <tr>\n",
       "      <th>187</th>\n",
       "      <td>12.9252</td>\n",
       "      <td>x12_OPERATING VEHICLE IN ERRATIC, RECKLESS, CA...</td>\n",
       "    </tr>\n",
       "    <tr>\n",
       "      <th>185</th>\n",
       "      <td>12.8587</td>\n",
       "      <td>x12_NOT APPLICABLE</td>\n",
       "    </tr>\n",
       "    <tr>\n",
       "      <th>190</th>\n",
       "      <td>12.8035</td>\n",
       "      <td>x12_RELATED TO BUS STOP</td>\n",
       "    </tr>\n",
       "    <tr>\n",
       "      <th>170</th>\n",
       "      <td>12.8021</td>\n",
       "      <td>x12_DRIVING ON WRONG SIDE/WRONG WAY</td>\n",
       "    </tr>\n",
       "    <tr>\n",
       "      <th>168</th>\n",
       "      <td>12.6752</td>\n",
       "      <td>x12_DISTRACTION - FROM OUTSIDE VEHICLE</td>\n",
       "    </tr>\n",
       "    <tr>\n",
       "      <th>164</th>\n",
       "      <td>12.6717</td>\n",
       "      <td>x12_DISREGARDING STOP SIGN</td>\n",
       "    </tr>\n",
       "    <tr>\n",
       "      <th>176</th>\n",
       "      <td>12.6414</td>\n",
       "      <td>x12_FAILING TO REDUCE SPEED TO AVOID CRASH</td>\n",
       "    </tr>\n",
       "    <tr>\n",
       "      <th>196</th>\n",
       "      <td>12.1489</td>\n",
       "      <td>x12_UNDER THE INFLUENCE OF ALCOHOL/DRUGS (USE ...</td>\n",
       "    </tr>\n",
       "    <tr>\n",
       "      <th>197</th>\n",
       "      <td>11.9768</td>\n",
       "      <td>x12_VISION OBSCURED (SIGNS, TREE LIMBS, BUILDI...</td>\n",
       "    </tr>\n",
       "    <tr>\n",
       "      <th>177</th>\n",
       "      <td>11.9527</td>\n",
       "      <td>x12_FAILING TO YIELD RIGHT-OF-WAY</td>\n",
       "    </tr>\n",
       "  </tbody>\n",
       "</table>\n",
       "</div>"
      ],
      "text/plain": [
       "    coefficients                                           features\n",
       "189      16.2876                   x12_PHYSICAL CONDITION OF DRIVER\n",
       "174      14.6623               x12_EXCEEDING AUTHORIZED SPEED LIMIT\n",
       "175      13.4487            x12_EXCEEDING SAFE SPEED FOR CONDITIONS\n",
       "165      13.2781                   x12_DISREGARDING TRAFFIC SIGNALS\n",
       "162      13.2449               x12_DISREGARDING OTHER TRAFFIC SIGNS\n",
       "187      12.9252  x12_OPERATING VEHICLE IN ERRATIC, RECKLESS, CA...\n",
       "185      12.8587                                 x12_NOT APPLICABLE\n",
       "190      12.8035                            x12_RELATED TO BUS STOP\n",
       "170      12.8021                x12_DRIVING ON WRONG SIDE/WRONG WAY\n",
       "168      12.6752             x12_DISTRACTION - FROM OUTSIDE VEHICLE\n",
       "164      12.6717                         x12_DISREGARDING STOP SIGN\n",
       "176      12.6414         x12_FAILING TO REDUCE SPEED TO AVOID CRASH\n",
       "196      12.1489  x12_UNDER THE INFLUENCE OF ALCOHOL/DRUGS (USE ...\n",
       "197      11.9768  x12_VISION OBSCURED (SIGNS, TREE LIMBS, BUILDI...\n",
       "177      11.9527                  x12_FAILING TO YIELD RIGHT-OF-WAY"
      ]
     },
     "execution_count": 30,
     "metadata": {},
     "output_type": "execute_result"
    }
   ],
   "source": [
    "coefficients_table = logpipe.named_steps['model'].coef_\n",
    "coefficients_table = coefficients_table.transpose()\n",
    "coefficients_table = [-x[0] for x in coefficients_table]\n",
    "coefficients = pd.Series(list(coefficients_table), name = 'coefficients')\n",
    "features = pd.Series(list(categorical_encoded), name = 'features')\n",
    "coefs_df = pd.DataFrame([coefficients, features]).transpose()\n",
    "coefs_df.sort_values(by='coefficients', inplace=True, ascending=False)\n",
    "coefs_df.head(15)"
   ]
  },
  {
   "cell_type": "markdown",
   "id": "cc229570",
   "metadata": {},
   "source": [
    "We exported this table to use in our tableau dashboard for visualization"
   ]
  },
  {
   "cell_type": "code",
   "execution_count": 31,
   "id": "30c26132",
   "metadata": {
    "scrolled": true
   },
   "outputs": [],
   "source": [
    "coefs_df.to_csv('../data/localdata/coefs.csv', index=True)"
   ]
  },
  {
   "cell_type": "markdown",
   "id": "284b4b1b",
   "metadata": {},
   "source": [
    "This model was the best with a recall score of .70. As you can see in the confusion matrix, the model is minimizing the amount of False Negatives. In other words, the model is minimizing the chance that it predicts a crash as Not Fatal when it was in fact Fatal. \n",
    "\n",
    "![confusionmatrix](https://github.com/nickthetj/DSC-Phase3-Project/assets/37059423/2894b1db-d4c1-480c-9e06-3953708f6424)\n",
    "\n",
    "Our model also revealed which coefficients were most relevant in terms of predicting fatalities. Here you can see that dark blue is the Primary Cause of Crash, light blue is the Traffic Control Device, orange is the Crash Type, and yellow is the Maneuver the car took resulting in the crash. \n",
    "\n",
    "![Sheet 2 (1)](https://github.com/nickthetj/DSC-Phase3-Project/assets/126971652/bfa16c00-66b8-498e-bea6-6f0a592fddd9)\n",
    "\n",
    "To get a further analysis on those coefficients, we calculated the Fatality percentage for each. \n",
    "\n",
    "![Sheet 3 (3)](https://github.com/nickthetj/DSC-Phase3-Project/assets/126971652/8c68050a-9466-4418-bf19-91270fcbb117) \n",
    "\n",
    "To no surprise, the top cause of a fatal crash is the Physical Condition of the Driver. Following that is Exceeding Authorized Speed Limit and Driving on the wrong side of the road. While Physical Condition of the Driver is a pressing issue, we came up with an easy to implement recommendation that may be able to curb the speed limit issue and Driving on the Wrong side of the road. As for the Crash Type, we focused our recommendation on minimizing Pedestrian fatalities, but believe it can also minimize the other features as well. "
   ]
  },
  {
   "cell_type": "markdown",
   "id": "a5369213",
   "metadata": {},
   "source": [
    "#### Coefficients as a percentage of fatalities"
   ]
  },
  {
   "cell_type": "markdown",
   "id": "93260452",
   "metadata": {},
   "source": [
    "The following is code for how we created the chart above titled **Feature Fatality Percentage**"
   ]
  },
  {
   "cell_type": "code",
   "execution_count": 32,
   "id": "5bbccd8d",
   "metadata": {},
   "outputs": [
    {
     "data": {
      "text/plain": [
       "(745092, 239)"
      ]
     },
     "execution_count": 32,
     "metadata": {},
     "output_type": "execute_result"
    }
   ],
   "source": [
    "#reset y index so can merge with X on the index\n",
    "y.reset_index(drop = True, inplace = True)\n",
    "\n",
    "#Merge dfs to be able to perform calculations with all data together\n",
    "categorical_and_fatal_df = X.merge(y, left_index = True, right_index = True, how = 'right')\n",
    "\n",
    "#Confirm merge was successful. Should have same # of rows as before with one more column than X\n",
    "categorical_and_fatal_df.shape"
   ]
  },
  {
   "cell_type": "code",
   "execution_count": 33,
   "id": "9e0ded24",
   "metadata": {},
   "outputs": [],
   "source": [
    "#Function takes in a dataframe and relevant columns.\n",
    "#Function loops through each column, calculating the percentage of Fatalities for each column's involvment in crashes\n",
    "#Function outputs a dataframe with column names and their Fatality Percentage in descending order\n",
    "def calc_percentage(df, columns):\n",
    "    \n",
    "    percent_dict = {}\n",
    "    \n",
    "    for col in columns:    \n",
    "        #Calculate percentage\n",
    "        col_perc = len(df.loc[(df[col]==1) & (df['Fatality Classification']=='Fatal')]) / len(df.loc[df[col]==1])\n",
    "        #Add percentage to dictionary\n",
    "        percent_dict[col] = col_perc\n",
    "    #Convert dictionary to DataFrame\n",
    "    percent_df = pd.DataFrame.from_dict(percent_dict, orient='index', columns=['Fatality Percentage'])\n",
    "    percent_df.sort_values(by = 'Fatality Percentage', ascending = False, inplace = True)\n",
    "    \n",
    "    return percent_df"
   ]
  },
  {
   "cell_type": "code",
   "execution_count": null,
   "id": "982856ed",
   "metadata": {},
   "outputs": [],
   "source": [
    "relevant_columns = coefs_df['features'].unique()[45:].tolist() #select columns to analyze the fatal percentage of\n",
    "coef_fatal_percent_df = calc_percentage(categorical_and_fatal_df, relevant_columns)\n",
    "\n",
    "#Group by index for easier group analysis\n",
    "#grouped_feature_fatal_percent_df = feature_fatal_percent_df.sort_index()\n",
    "\n",
    "#Output df to csv for graph making in Tableau\n",
    "coef_fatal_percent_df.to_csv('../data/localdata/coef_fatal_percent.csv', index=True)"
   ]
  },
  {
   "cell_type": "markdown",
   "id": "d3f6ec77",
   "metadata": {
    "jp-MarkdownHeadingCollapsed": true
   },
   "source": [
    "### Decision Tree Model"
   ]
  },
  {
   "cell_type": "markdown",
   "id": "dc3f0ee0",
   "metadata": {},
   "source": [
    "We did not choose this model as our final model. It produced an overall lower recall score compared to logistic regression, but our modelling process is here to view anyway."
   ]
  },
  {
   "cell_type": "markdown",
   "id": "64f09f3b",
   "metadata": {},
   "source": [
    "#### Instantiating the Model"
   ]
  },
  {
   "cell_type": "code",
   "execution_count": null,
   "id": "3f2a9093",
   "metadata": {},
   "outputs": [],
   "source": [
    "#Instantiating Decision Tree with new parameters to increase recall score\n",
    "clf_1 = DecisionTreeClassifier(criterion='gini', random_state=42, class_weight = 'balanced', max_depth = 24,\n",
    "                                   min_samples_split = 2500)\n",
    "\n",
    "clf_1.fit(X_train, y_train)\n",
    "\n",
    "y_preds = clf_1.predict(X_train)\n",
    "\n",
    "print('Recall: ', recall_score(y_train, y_preds, pos_label = 'Fatal'))"
   ]
  },
  {
   "cell_type": "markdown",
   "id": "cb01bcce",
   "metadata": {},
   "source": [
    "#### Data Processing through a Pipeline"
   ]
  },
  {
   "cell_type": "code",
   "execution_count": null,
   "id": "8b7e9539",
   "metadata": {},
   "outputs": [],
   "source": [
    "#Create Pipeline with new model\n",
    "clf_1pipe = Pipeline([('smote', SMOTE(random_state=42, sampling_strategy = 0.3)),\n",
    "                    ('model', clf_1)])"
   ]
  },
  {
   "cell_type": "code",
   "execution_count": null,
   "id": "b083502f",
   "metadata": {},
   "outputs": [],
   "source": [
    "#Cross Validating Decision Tree with pipeline\n",
    "cv_score_clf_1pipe = cross_val_score(estimator=clf_1pipe, X=X_train, y=y_train, scoring = recall_scorer).mean()\n",
    "cv_score_clf_1pipe"
   ]
  },
  {
   "cell_type": "markdown",
   "id": "f3bbc7cf",
   "metadata": {},
   "source": [
    "#### Relevant features for Decision Tree Model"
   ]
  },
  {
   "cell_type": "code",
   "execution_count": null,
   "id": "345216f0",
   "metadata": {},
   "outputs": [],
   "source": [
    "feature_importance = clf_1.feature_importances_\n",
    "\n",
    "feature_importances = pd.Series(list(feature_importance), name = 'feature_importance')\n",
    "features = pd.Series(list(categorical_encoded), name = 'features')\n",
    "\n",
    "features_df = pd.DataFrame([feature_importances, features]).transpose()\n",
    "\n",
    "features_df.sort_values(by='feature_importance', inplace=True, ascending=False)\n",
    "\n",
    "features_df.head(15)"
   ]
  },
  {
   "cell_type": "markdown",
   "id": "8517e637",
   "metadata": {
    "jp-MarkdownHeadingCollapsed": true
   },
   "source": [
    "## Evaluation on Testing Data"
   ]
  },
  {
   "cell_type": "markdown",
   "id": "ba975f60",
   "metadata": {},
   "source": [
    "Overall, our Logistic Regression Model performed the best with a final recall score of 0.71"
   ]
  },
  {
   "cell_type": "code",
   "execution_count": null,
   "id": "95a6b787",
   "metadata": {},
   "outputs": [],
   "source": [
    "y_preds_test = clf_1pipe.predict(X_test)\n",
    "print('Final Recall Score for Decision Tree Model: ', recall_score(y_test, y_preds_test, pos_label = 'Fatal'))"
   ]
  },
  {
   "cell_type": "code",
   "execution_count": 35,
   "id": "73adb903",
   "metadata": {},
   "outputs": [
    {
     "name": "stdout",
     "output_type": "stream",
     "text": [
      "Final Recall Score for Logistic Model:  0.7009803921568627\n"
     ]
    }
   ],
   "source": [
    "y_pred_test = logpipe.predict(X_test)\n",
    "\n",
    "print(\"Final Recall Score for Logistic Model: \", recall_score(y_test, y_pred_test, pos_label = 'Fatal'))"
   ]
  },
  {
   "cell_type": "code",
   "execution_count": 36,
   "id": "fa9d5bf7",
   "metadata": {},
   "outputs": [
    {
     "data": {
      "image/png": "[encoded data removed]",
      "text/plain": [
       "<Figure size 432x288 with 2 Axes>"
      ]
     },
     "metadata": {
      "needs_background": "light"
     },
     "output_type": "display_data"
    }
   ],
   "source": [
    "plot_confusion_matrix(logpipe, X_test, y_test, labels = ['Not Fatal', 'Fatal'], cmap = plt.cm.Blues);"
   ]
  },
  {
   "cell_type": "markdown",
   "id": "9c481adf",
   "metadata": {
    "jp-MarkdownHeadingCollapsed": true
   },
   "source": [
    "## Recommendations"
   ]
  },
  {
   "cell_type": "markdown",
   "id": "dffe19fd",
   "metadata": {},
   "source": [
    "We recommend Chicago look to the Strong Towns organization and what they have accomplished in restructuring the development of cities to be more suitable and safer for citizens.\n",
    "\n",
    "Our first recommendation is to redesign your crosswalks. Raising the Crosswalks increases its visibility and makes it clear to both driver and pedestrian that this area of the street is designed for the pedestrian's safety first by forcing the driver to slow down as they approach.\n",
    "\n",
    "![image](https://github.com/nickthetj/DSC-Phase3-Project/assets/126971652/7f05dd49-1770-48a6-8b30-e2e964a71a86)\n",
    "\n",
    "Our Second recommendation is to narrow the size of the street by introducing bike lanes. Many city streets have low speed limits but are wide by design so that drivers feel comfortable speeding. By tightening the space around them and introducing bake lanes with barriers to separate them from the the car lanes, drivers will be more attentive to their surroundings and more inclined to slow down.\n",
    "![image](https://github.com/nickthetj/DSC-Phase3-Project/assets/126971652/2ae7b332-5d82-42c8-8aff-b9999b83ae10)\n",
    "\n",
    "In conclusion, our model with .71 recall score shows two main ideas:\n",
    "\n",
    "One, that Pedestrians and Cyclists are most at risk for fatalities.\n",
    "\n",
    "And two, that fatal crashes are likely to be caused by drivers not following the rules of the road.\n",
    "\n",
    "We believe Chicago can move closer to zero fatalities by implementing raised crosswalks and narrower streets via protected bike lanes."
   ]
  },
  {
   "cell_type": "markdown",
   "id": "a96911af",
   "metadata": {
    "jp-MarkdownHeadingCollapsed": true
   },
   "source": [
    "## Next Steps"
   ]
  },
  {
   "cell_type": "markdown",
   "id": "adbe8cd9",
   "metadata": {},
   "source": [
    "There are a few steps we would like to take to further limit fatalities in car crashes:<br>\n",
    "1. Crash Location Investigation\n",
    "2. BAC Investigation\n",
    "   \n",
    "For the crash location investigation, the datasets we worked with provided some information available on the location of every crash, but it was broken down by street. It might be easier and more efficient to break the city down into areas or districts to highlight particular problem areas of the city that could be reformed.\n",
    "\n",
    "For the BAC investigation, the top preliminary cause and fatal percentage of fatal crashes was the Physical Condition of the Driver. With more time we could investigate how much of this was due to drunk drivers or drivers under the influence of drugs."
   ]
  },
  {
   "cell_type": "markdown",
   "id": "1eaf7413",
   "metadata": {
    "jp-MarkdownHeadingCollapsed": true
   },
   "source": [
    "## Thank You"
   ]
  },
  {
   "cell_type": "markdown",
   "id": "db266735",
   "metadata": {},
   "source": [
    "Thank you for taking the time to review our recommendations.\n",
    "We hope this information helps and we look forward to working with you more on the next steps.\n",
    "\n",
    "Sincerely, \n",
    "\n",
    "Bobby Daly, Michael Romanski, Nicholas Tjandra "
   ]
  },
  {
   "cell_type": "markdown",
   "id": "3347dc0c",
   "metadata": {
    "jp-MarkdownHeadingCollapsed": true
   },
   "source": [
    "## Repository Structure"
   ]
  },
  {
   "cell_type": "markdown",
   "id": "f513e636",
   "metadata": {},
   "source": [
    "```\n",
    "├── data\n",
    "      |── dataplaceholder.txt\n",
    "├── notebooks\n",
    "├── images\n",
    "├── README.md\n",
    "├── .gitignore\n",
    "├── .DS_Store\n",
    "├── The Road to Vision Zero Presentation.pdf\n",
    "└── Final EDA Notebook.ipynb\n",
    "```"
   ]
  }
 ],
 "metadata": {
  "kernelspec": {
   "display_name": "Python 3 (ipykernel)",
   "language": "python",
   "name": "python3"
  },
  "language_info": {
   "codemirror_mode": {
    "name": "ipython",
    "version": 3
   },
   "file_extension": ".py",
   "mimetype": "text/x-python",
   "name": "python",
   "nbconvert_exporter": "python",
   "pygments_lexer": "ipython3",
   "version": "3.9.16"
  }
 },
 "nbformat": 4,
 "nbformat_minor": 5
}
